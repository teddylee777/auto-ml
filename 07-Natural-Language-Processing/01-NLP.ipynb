{
  "cells": [
    {
      "cell_type": "markdown",
      "id": "1dda874d",
      "metadata": {
        "id": "1dda874d"
      },
      "source": [
        "자연어처리 모델을 활용한 다양한 예제\n",
        "\n",
        "- 원작자 @kiyoungkim1 [**(링크)**](https://github.com/kiyoungkim1/LMkor)"
      ]
    },
    {
      "cell_type": "markdown",
      "id": "7912fad6",
      "metadata": {
        "id": "7912fad6"
      },
      "source": [
        "## 설치"
      ]
    },
    {
      "cell_type": "code",
      "execution_count": null,
      "id": "9b91c0ca",
      "metadata": {
        "id": "9b91c0ca"
      },
      "outputs": [],
      "source": [
        "!git clone https://github.com/kiyoungkim1/LMkor\n",
        "!pip3 install -q transformers"
      ]
    },
    {
      "cell_type": "markdown",
      "id": "0730e42b",
      "metadata": {
        "id": "0730e42b"
      },
      "source": [
        "## 필요한 모델 다운로드"
      ]
    },
    {
      "cell_type": "code",
      "execution_count": null,
      "id": "d1152b7e",
      "metadata": {
        "id": "d1152b7e"
      },
      "outputs": [],
      "source": [
        "from LMkor.examples.gpt3_generation import Inference\n",
        "from LMkor.examples.bertshared_summarization import Summarize\n",
        "from LMkor.examples.mask_prediction import predict\n",
        "\n",
        "inference = Inference('kykim/gpt3-kor-small_based_on_gpt2')\n",
        "summarize = Summarize('kykim/bertshared-kor-base')"
      ]
    },
    {
      "cell_type": "markdown",
      "id": "6b2da063",
      "metadata": {
        "id": "6b2da063"
      },
      "source": [
        "## 문서 요약(Text Summarization)"
      ]
    },
    {
      "cell_type": "code",
      "execution_count": null,
      "id": "670b86d0",
      "metadata": {
        "id": "670b86d0"
      },
      "outputs": [],
      "source": [
        "text = '''\n",
        "LG전자가 스마트폰을 담당하는 MC(모바일커뮤니케이션)사업부 분할 및 매각을 위한 법률 자문 업무를 김앤장법률사무소에 맡겼다. MC사업부 매각 작업에 속도가 붙을지 관심이 집중되고 있다.\n",
        "22일 인수합병(M&A)업계에 따르면 LG전자는 최근 MC사업부 분할 후 매각 방안 등을 포괄적으로 검토하기 위해 김앤장을 법률자문사로 선임한 것으로 알려졌다. 회계·실사 자문은 EY한영회계법인에 맡길 가능성이 큰 것으로 전해졌다. 김앤장 등 자문사들은 사업본부를 분할한 뒤 사업양수도나 분할사업부의 지분 매각, 지식재산권(IP) 매각 등을 놓고 검토에 들어간 것으로 알려졌다.\n",
        "업계에서는 LG전자가 MC사업본부를 통매각하기보다는 ‘쪼개기 매각’에 나설 것으로 보고 있다. 스마트폰 선행기술 연구개발(R&D) 등 핵심 기능만 남겨둔 채 매각을 시도할 것으로 관측하고 있다. 앞서 권봉석 LG전자 사장은 사내 메시지를 통해 임직원에게 “현재 모든 가능성을 열어 두고 사업 운영방향을 면밀히 검토하고 있다”고 밝히며 매각 추진을 암시했다. M&A업계 관계자는 “거래가 성사되기도 전에 사업 전면 재검토를 공식화한 것은 상당히 이례적”이라며 “향후 매각이 잘 이뤄지지 않더라도 모바일 사업을 철수하겠다는 배수진을 둔 것으로 보인다”고 설명했다.\n",
        "다만 원매자를 찾기가 쉽지 않을 것이란 전망이 우세하다. LG전자 모바일 사업은 한때 글로벌시장에서 톱5 안에 드는 기술력을 인정받았지만 누적 적자만 5조원에 달하고 있다. 업계에서 평가하는 MC사업부의 가치도 5000억원대에서 수조원대까지 편차가 상당히 크다.\n",
        "상대적으로 해외 원매자들의 인수의사가 더 확실한 것으로 알려지고 있다. 북미사업 등 글로벌 시장 확장을 원하는 후발기업들이 주요 대상이다. 베트남의 빈그룹과 중국 기업 등이 유력하게 거론된다. 증권업계를 중심으로는 스마트 기기를 연결하는 사물인터넷(IoT) 사업을 염두에 둔 구글, 페이스북 같은 미국 정보기술(IT) 기업들도 원매자 후보군으로 꼽고 있다.\n",
        "'''\n",
        "\n",
        "summarize(text)"
      ]
    },
    {
      "cell_type": "markdown",
      "id": "0042a8b0",
      "metadata": {
        "id": "0042a8b0"
      },
      "source": [
        "신문기사의 본문을 발췌해오는 크롤링 로직 구현"
      ]
    },
    {
      "cell_type": "code",
      "execution_count": null,
      "id": "cd62f045",
      "metadata": {
        "id": "cd62f045"
      },
      "outputs": [],
      "source": [
        "# 신문기사의 URL\n",
        "url = 'https://news.naver.com/main/read.naver?mode=LSD&mid=shm&sid1=101&oid=009&aid=0004886133'"
      ]
    },
    {
      "cell_type": "code",
      "execution_count": null,
      "id": "796d98ba",
      "metadata": {
        "id": "796d98ba"
      },
      "outputs": [],
      "source": [
        "from bs4 import BeautifulSoup\n",
        "import requests\n",
        "import re\n",
        "\n",
        "headers = {\"User-Agent\": \"Mozilla/5.0 (Windows NT 10.0; Win64; x64) AppleWebKit/537.36 (KHTML, like Gecko) Chrome/87.0.4280.88 Safari/537.36\"}\n",
        "req = requests.get(url, headers=headers)\n",
        "soup = BeautifulSoup(req.text, 'html.parser')\n",
        "body = soup.find_all(id='newsct_article')\n",
        "\n",
        "text = re.sub('[^A-Za-z0-9가-힣 ]', '', body[0].text)\n",
        "text"
      ]
    },
    {
      "cell_type": "code",
      "execution_count": null,
      "id": "372f6a58",
      "metadata": {
        "id": "372f6a58"
      },
      "outputs": [],
      "source": [
        "def summerize_news(url):\n",
        "    print(f'원문 링크: {url}\\n')\n",
        "    headers = {\"User-Agent\": \"Mozilla/5.0 (Windows NT 10.0; Win64; x64) AppleWebKit/537.36 (KHTML, like Gecko) Chrome/87.0.4280.88 Safari/537.36\"}\n",
        "    req = requests.get(url, headers=headers)\n",
        "    soup = BeautifulSoup(req.text, 'html.parser')\n",
        "    body = soup.find_all(id='newsct_article')\n",
        "    if len(body) > 0:\n",
        "        text = re.sub('[^A-Za-z0-9가-힣 ]', '', body[0].text)\n",
        "        text = text[:512]\n",
        "        print('[요약]')\n",
        "        summarize(text)\n",
        "    else:\n",
        "        print(\"에러ㅜ\")"
      ]
    },
    {
      "cell_type": "code",
      "execution_count": null,
      "id": "1c722904",
      "metadata": {
        "id": "1c722904"
      },
      "outputs": [],
      "source": [
        "summerize_news(url)"
      ]
    },
    {
      "cell_type": "markdown",
      "id": "052936fa",
      "metadata": {
        "id": "052936fa"
      },
      "source": [
        "## 마스킹 단어 예측"
      ]
    },
    {
      "cell_type": "code",
      "execution_count": null,
      "id": "b21b5532",
      "metadata": {
        "id": "b21b5532"
      },
      "outputs": [],
      "source": [
        "text = '이거 <mask> 재밌네?'\n",
        "\n",
        "predict(text)"
      ]
    },
    {
      "cell_type": "code",
      "execution_count": null,
      "id": "8c45be3f",
      "metadata": {
        "id": "8c45be3f"
      },
      "outputs": [],
      "source": [
        "text = '손흥민은 <mask> 의 축구선수이다'\n",
        "\n",
        "predict(text)"
      ]
    },
    {
      "cell_type": "code",
      "execution_count": null,
      "id": "0cf086b6",
      "metadata": {
        "id": "0cf086b6"
      },
      "outputs": [],
      "source": [
        "text = '대한민국의 수도는 <mask> 입니다'\n",
        "\n",
        "predict(text)"
      ]
    },
    {
      "cell_type": "markdown",
      "id": "f55bdbee",
      "metadata": {
        "id": "f55bdbee"
      },
      "source": [
        "## 뒷 문장 예측"
      ]
    },
    {
      "cell_type": "code",
      "execution_count": null,
      "id": "2a87ae5f",
      "metadata": {
        "id": "2a87ae5f"
      },
      "outputs": [],
      "source": [
        "text = '인생이'\n",
        "\n",
        "inference(text, howmany=3)"
      ]
    },
    {
      "cell_type": "code",
      "execution_count": null,
      "id": "6534dca9",
      "metadata": {
        "id": "6534dca9"
      },
      "outputs": [],
      "source": [
        "user_input = input('시작 단어를 입력해 주세요: ')\n",
        "inference(user_input, howmany=3)"
      ]
    }
  ],
  "metadata": {
    "kernelspec": {
      "display_name": "Python 3",
      "name": "python3"
    },
    "language_info": {
      "name": "python"
    },
    "colab": {
      "name": "01-NLP.ipynb",
      "provenance": [],
      "collapsed_sections": []
    },
    "accelerator": "GPU",
    "gpuClass": "standard"
  },
  "nbformat": 4,
  "nbformat_minor": 5
}