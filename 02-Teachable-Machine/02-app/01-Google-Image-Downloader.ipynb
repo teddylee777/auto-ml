{
 "cells": [
  {
   "cell_type": "markdown",
   "metadata": {
    "id": "rz9_qhSNI_3m"
   },
   "source": [
    "\n",
    "## 구글 이미지 다운로더 설치"
   ]
  },
  {
   "cell_type": "code",
   "execution_count": null,
   "metadata": {
    "id": "w-igQVM41poQ"
   },
   "outputs": [],
   "source": [
    "!git clone https://github.com/Joeclinton1/google-images-download.git"
   ]
  },
  {
   "cell_type": "code",
   "execution_count": null,
   "metadata": {
    "id": "-ZOQDQTS3d_X"
   },
   "outputs": [],
   "source": [
    "!cd google-images-download && python setup.py install"
   ]
  },
  {
   "cell_type": "code",
   "execution_count": null,
   "metadata": {
    "id": "Nqg_lV373hef"
   },
   "outputs": [],
   "source": [
    "!pip install -U git+https://github.com/Joeclinton1/google-images-download.git"
   ]
  },
  {
   "cell_type": "markdown",
   "metadata": {
    "id": "K5gI8suQvD23"
   },
   "source": [
    "**런타임** - **런타임 다시 시작** 클릭"
   ]
  },
  {
   "cell_type": "markdown",
   "metadata": {
    "id": "Mt09Q08VvNo-"
   },
   "source": [
    "## 데이터셋 구성"
   ]
  },
  {
   "cell_type": "code",
   "execution_count": null,
   "metadata": {
    "id": "BybZgxRF41km"
   },
   "outputs": [],
   "source": [
    "# 다운로드 받고자 하는 키워드 정의 (쉼표로 구분, 공백 없음)\n",
    "keywords = \"사과,바나나,오렌지\""
   ]
  },
  {
   "cell_type": "code",
   "execution_count": null,
   "metadata": {
    "id": "KTik1p322fy4"
   },
   "outputs": [],
   "source": [
    "from google_images_download import google_images_download\n",
    "\n",
    "response = google_images_download.googleimagesdownload()\n",
    "\n",
    "arguments = {\"keywords\": keywords,\n",
    "             \"limit\":99, # 최대 다운로드 사진 개수는 100장으로 제한\n",
    "             \"size\": \"medium\",\n",
    "             \"print_urls\":True, \n",
    "             \"format\":\"jpg\"}\n",
    "\n",
    "paths = response.download(arguments)\n",
    "print(paths) "
   ]
  },
  {
   "cell_type": "markdown",
   "metadata": {
    "id": "qYnDfqui7OBf"
   },
   "source": [
    "## 사용하지 않는 폴더 삭제"
   ]
  },
  {
   "cell_type": "code",
   "execution_count": null,
   "metadata": {
    "colab": {
     "base_uri": "https://localhost:8080/"
    },
    "id": "KyrblTa347av",
    "outputId": "121bdde7-b2d6-4538-a590-9e2af707fcb8"
   },
   "outputs": [],
   "source": [
    "keywords_list = keywords.split(',')\n",
    "keywords_list = [f.strip() for f in keywords_list]\n",
    "keywords_list"
   ]
  },
  {
   "cell_type": "code",
   "execution_count": null,
   "metadata": {
    "id": "LLIbAQgi5CJX"
   },
   "outputs": [],
   "source": [
    "import os\n",
    "import glob\n",
    "\n",
    "download_folder = 'downloads'"
   ]
  },
  {
   "cell_type": "code",
   "execution_count": null,
   "metadata": {
    "colab": {
     "base_uri": "https://localhost:8080/"
    },
    "id": "xBQNA9md5VFA",
    "outputId": "327c5f46-7ab4-43a6-9f34-b842f8b2a570"
   },
   "outputs": [],
   "source": [
    "folder_list = os.listdir(download_folder)\n",
    "folder_list"
   ]
  },
  {
   "cell_type": "code",
   "execution_count": null,
   "metadata": {
    "colab": {
     "base_uri": "https://localhost:8080/"
    },
    "id": "QlJdurI65uGm",
    "outputId": "5e614eec-de3f-4773-c490-5eb13a0eb9c9"
   },
   "outputs": [],
   "source": [
    "exempt_folders = [f for f in folder_list if f.strip() not in keywords_list]\n",
    "exempt_folders"
   ]
  },
  {
   "cell_type": "code",
   "execution_count": null,
   "metadata": {
    "id": "CemxgzEl6U8T"
   },
   "outputs": [],
   "source": [
    "for folder in exempt_folders:\n",
    "    if os.path.isdir(os.path.join(download_folder, folder)):\n",
    "        files = glob.glob(os.path.join(download_folder, folder) + '/*')\n",
    "        for f in files:\n",
    "            os.remove(f)\n",
    "        os.rmdir(os.path.join(download_folder, folder))"
   ]
  }
 ],
 "metadata": {
  "accelerator": "GPU",
  "colab": {
   "collapsed_sections": [],
   "name": "AutoKeras를 활용한 이미지 분류",
   "provenance": []
  },
  "kernelspec": {
   "display_name": "Python 3 (ipykernel)",
   "language": "python",
   "name": "python3"
  },
  "language_info": {
   "codemirror_mode": {
    "name": "ipython",
    "version": 3
   },
   "file_extension": ".py",
   "mimetype": "text/x-python",
   "name": "python",
   "nbconvert_exporter": "python",
   "pygments_lexer": "ipython3",
   "version": "3.8.13"
  }
 },
 "nbformat": 4,
 "nbformat_minor": 1
}
