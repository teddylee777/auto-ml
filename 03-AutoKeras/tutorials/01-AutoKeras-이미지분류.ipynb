{
 "cells": [
  {
   "cell_type": "markdown",
   "metadata": {
    "id": "rz9_qhSNI_3m"
   },
   "source": [
    "## AutoKeras 설치"
   ]
  },
  {
   "cell_type": "code",
   "execution_count": null,
   "metadata": {
    "id": "jUez0wfFHqSC"
   },
   "outputs": [],
   "source": [
    "!pip install autokeras"
   ]
  },
  {
   "cell_type": "markdown",
   "metadata": {
    "id": "QWG_fwnHJCAF"
   },
   "source": [
    "## 실습에 활용할 데이터셋 로드 (이미지)"
   ]
  },
  {
   "cell_type": "code",
   "execution_count": null,
   "metadata": {
    "id": "dbEvsTzCIhq2"
   },
   "outputs": [],
   "source": [
    "import numpy as np\n",
    "import tensorflow as tf\n",
    "import matplotlib.pyplot as plt"
   ]
  },
  {
   "cell_type": "code",
   "execution_count": null,
   "metadata": {
    "id": "qqISMVWnIj-_"
   },
   "outputs": [],
   "source": [
    "mnist = tf.keras.datasets.mnist"
   ]
  },
  {
   "cell_type": "code",
   "execution_count": null,
   "metadata": {
    "id": "y-mRx8xpIoCb"
   },
   "outputs": [],
   "source": [
    "(x_train, y_train), (x_test, y_test) = mnist.load_data()"
   ]
  },
  {
   "cell_type": "markdown",
   "metadata": {
    "id": "5DE0jlDGKdbB"
   },
   "source": [
    "## 데이터셋 시각화"
   ]
  },
  {
   "cell_type": "code",
   "execution_count": null,
   "metadata": {
    "id": "VnvRD2c-IuI9"
   },
   "outputs": [],
   "source": [
    "fig, axes = plt.subplots(2, 5)\n",
    "fig.set_size_inches(10, 5)\n",
    "\n",
    "for i in range(10):\n",
    "    axes[i//5, i%5].imshow(x_train[i], cmap='gray')\n",
    "    axes[i//5, i%5].set_title('No. %02d' % y_train[i], fontsize=18)\n",
    "    plt.setp( axes[i//5, i%5].get_xticklabels(), visible=False)\n",
    "    plt.setp( axes[i//5, i%5].get_yticklabels(), visible=False)\n",
    "    axes[i//5, i%5].axis('off')\n",
    "\n",
    "plt.tight_layout()\n",
    "plt.show()"
   ]
  },
  {
   "cell_type": "markdown",
   "metadata": {
    "id": "EpdTK8YkI9RK"
   },
   "source": [
    "## AutoKeras 활용"
   ]
  },
  {
   "cell_type": "code",
   "execution_count": null,
   "metadata": {
    "id": "DvGnnbZhIUV_"
   },
   "outputs": [],
   "source": [
    "import autokeras as ak"
   ]
  },
  {
   "cell_type": "code",
   "execution_count": null,
   "metadata": {
    "id": "882YXO6jIXUY"
   },
   "outputs": [],
   "source": [
    "# 이미지 분류기 생성\n",
    "model = ak.ImageClassifier(overwrite=True, max_trials=1)"
   ]
  },
  {
   "cell_type": "code",
   "execution_count": null,
   "metadata": {
    "id": "Ni7DyFJvJIzj"
   },
   "outputs": [],
   "source": [
    "# 모델 학습\n",
    "model.fit(x_train, y_train, \n",
    "          validation_data=(x_test, y_test),\n",
    "          epochs=5, \n",
    "          validation_split=0.2)"
   ]
  },
  {
   "cell_type": "markdown",
   "metadata": {
    "id": "2yd1dZXvHn3q"
   },
   "source": [
    "## 고급 모델"
   ]
  },
  {
   "cell_type": "markdown",
   "metadata": {
    "id": "0OBIo0kin3wP"
   },
   "source": [
    "아래 코드를 실행하여 데이터셋을 다운로드 받습니다."
   ]
  },
  {
   "cell_type": "code",
   "execution_count": null,
   "metadata": {
    "id": "93vvL6YBfKu3"
   },
   "outputs": [],
   "source": [
    "import urllib.request\n",
    "import zipfile\n",
    "\n",
    "# 데이터셋 다운로드\n",
    "print('1) TRAIN 데이터셋 다운로드...')\n",
    "url = 'https://www.dropbox.com/s/bpgvn248qtpavps/train.zip?dl=1'\n",
    "urllib.request.urlretrieve(url, 'train.zip')\n",
    "local_zip = 'train.zip'\n",
    "zip_ref = zipfile.ZipFile(local_zip, 'r')\n",
    "zip_ref.extractall('kfood/train')\n",
    "zip_ref.close()\n",
    "\n",
    "url = 'https://www.dropbox.com/s/v85arwr14aq3nj5/submission.csv?dl=1'\n",
    "urllib.request.urlretrieve(url, 'kfood/submission.csv')\n",
    "print('===' * 15)\n",
    "print('[데이터셋 다운로드 완료]')"
   ]
  },
  {
   "cell_type": "markdown",
   "metadata": {
    "id": "yu5RpH5OoBrH"
   },
   "source": [
    "데이터 시각화"
   ]
  },
  {
   "cell_type": "code",
   "execution_count": null,
   "metadata": {
    "id": "1BplAq28fOZv"
   },
   "outputs": [],
   "source": [
    "import matplotlib.pyplot as plt\n",
    "import warnings\n",
    "import tensorflow as tf\n",
    "from tensorflow.keras.preprocessing.image import ImageDataGenerator\n",
    "\n",
    "# 경고 무시\n",
    "warnings.filterwarnings('ignore')\n",
    "\n",
    "# TRAIN, TEST 경로 지정\n",
    "TRAIN_DIR = './kfood/train'\n",
    "\n",
    "# 데이터 시각화 코드\n",
    "original_datagen = ImageDataGenerator(rescale=1./255)\n",
    "original_generator = original_datagen.flow_from_directory(TRAIN_DIR, \n",
    "                                                          target_size=(224, 224), \n",
    "                                                          batch_size=32\n",
    "                                                         )\n",
    "\n",
    "for x, y in original_generator:\n",
    "    print(x.shape, y.shape)\n",
    "    print(y[0])\n",
    "    \n",
    "    fig, axes = plt.subplots(2, 5)\n",
    "    fig.set_size_inches(15, 6)\n",
    "    for i in range(10):\n",
    "        axes[i//5, i%5].imshow(x[i])\n",
    "        axes[i//5, i%5].set_title(f'{y[i].argmax()}', fontsize=15)\n",
    "        axes[i//5, i%5].axis('off')\n",
    "    break\n",
    "plt.show()"
   ]
  },
  {
   "cell_type": "markdown",
   "metadata": {
    "id": "B0_7HwSQnwfH"
   },
   "source": [
    "## 디스크(disk) 공간에서 이미지 데이터 로드"
   ]
  },
  {
   "cell_type": "code",
   "execution_count": null,
   "metadata": {
    "id": "8cvu1Ovzl2-A"
   },
   "outputs": [],
   "source": [
    "batch_size = 32\n",
    "img_height = 224\n",
    "img_width = 224\n",
    "\n",
    "train_data = ak.image_dataset_from_directory(\n",
    "    TRAIN_DIR,\n",
    "    image_size=(224, 224),\n",
    "    batch_size=batch_size,\n",
    "    # Use 20% data as testing data.\n",
    "    validation_split=0.2,\n",
    "    subset=\"training\",\n",
    ")\n",
    "\n",
    "test_data = ak.image_dataset_from_directory(\n",
    "    TRAIN_DIR,\n",
    "    image_size=(img_height, img_width),\n",
    "    batch_size=batch_size,\n",
    "    validation_split=0.2,\n",
    "    subset=\"validation\",\n",
    ")"
   ]
  },
  {
   "cell_type": "markdown",
   "metadata": {
    "id": "Gvzd79n-nt72"
   },
   "source": [
    "## 고급 모델 생성"
   ]
  },
  {
   "cell_type": "code",
   "execution_count": null,
   "metadata": {
    "id": "LQYtH_pSmugN"
   },
   "outputs": [],
   "source": [
    "# 입력 노드 정의\n",
    "input_node = ak.ImageInput()\n",
    "\n",
    "# 출력 노드 정의\n",
    "output_node = ak.ImageBlock(\n",
    "    # Only search ResNet architectures.\n",
    "    block_type=\"resnet\",\n",
    "    # Normalize the dataset.\n",
    "    normalize=True,\n",
    "    # data augmentation.\n",
    "    augment=False,\n",
    ")(input_node)\n",
    "\n",
    "output_node = ak.ClassificationHead()(output_node)\n",
    "\n",
    "model = ak.AutoModel(\n",
    "    inputs=input_node, outputs=output_node, overwrite=True, max_trials=1\n",
    ")"
   ]
  },
  {
   "cell_type": "code",
   "execution_count": null,
   "metadata": {
    "id": "L6e9CbLsdGng"
   },
   "outputs": [],
   "source": [
    "model.fit(train_data,\n",
    "          validation_data=(test_data),\n",
    "          epochs=10)"
   ]
  },
  {
   "cell_type": "code",
   "execution_count": null,
   "metadata": {
    "id": "F8hixPzCm7PI"
   },
   "outputs": [],
   "source": [
    "# Export as a Keras Model.\n",
    "output_model = model.export_model()\n",
    "\n",
    "print(type(output_model)) "
   ]
  },
  {
   "cell_type": "code",
   "execution_count": null,
   "metadata": {
    "id": "uOh_U54jxaAF"
   },
   "outputs": [],
   "source": [
    "output_model.save(\"image_model.h5\")"
   ]
  },
  {
   "cell_type": "markdown",
   "metadata": {
    "id": "ruw7w85eeZ6W"
   },
   "source": [
    "## 모델 로드"
   ]
  },
  {
   "cell_type": "markdown",
   "metadata": {
    "id": "ko1pcO8I1dFP"
   },
   "source": [
    "학습이 완료된 샘플 모델을 다운로드 받습니다."
   ]
  },
  {
   "cell_type": "code",
   "execution_count": null,
   "metadata": {
    "id": "7YycHnGj1g2H"
   },
   "outputs": [],
   "source": [
    "!wget https://www.dropbox.com/s/rmsi5u3t21q9xzf/image_model.h5?dl=1 -O image_model.h5"
   ]
  },
  {
   "cell_type": "code",
   "execution_count": null,
   "metadata": {
    "id": "i_DUicmNtxhg"
   },
   "outputs": [],
   "source": [
    "from tensorflow.keras.models import load_model"
   ]
  },
  {
   "cell_type": "code",
   "execution_count": null,
   "metadata": {
    "id": "XEUxn2DAnF1e"
   },
   "outputs": [],
   "source": [
    "loaded_model = load_model('image_model.h5')"
   ]
  },
  {
   "cell_type": "markdown",
   "metadata": {
    "id": "bcwUO9ItoVOP"
   },
   "source": [
    "## 이미지 URL로부터 예측"
   ]
  },
  {
   "cell_type": "code",
   "execution_count": null,
   "metadata": {
    "id": "4WUeplLxoYIW"
   },
   "outputs": [],
   "source": [
    "from skimage import io\n",
    "\n",
    "# 김밥 사진 URL\n",
    "image_url = 'https://mp-seoul-image-production-s3.mangoplate.com/keyword_search/meta/pictures/oc1mqalnqarz3cwo.png'\n",
    "\n",
    "# image 다운로드, 로드\n",
    "image = io.imread(image_url)\n",
    "\n",
    "# 시각화\n",
    "plt.imshow(image)\n",
    "plt.axis('off')\n",
    "plt.show()"
   ]
  },
  {
   "cell_type": "code",
   "execution_count": null,
   "metadata": {
    "id": "MQWxP_AeoaWX"
   },
   "outputs": [],
   "source": [
    "def predict_image_from_url(url, model):\n",
    "    food_list = {\n",
    "        0: '고등어구이',\n",
    "        1: '김밥',\n",
    "        2: '김치볶음밥',\n",
    "        3: '깍두기',\n",
    "        4: '떡갈비',\n",
    "        5: '미역국',\n",
    "        6: '불고기',\n",
    "        7: '삼겹살',\n",
    "        8: '육개장',\n",
    "        9: '조개구이',\n",
    "    }\n",
    "    # image 다운로드, 로드\n",
    "    image = io.imread(url)\n",
    "\n",
    "    # 시각화\n",
    "    plt.imshow(image)\n",
    "    plt.axis('off')\n",
    "    plt.show()\n",
    "\n",
    "    # 스케일, resize\n",
    "    image = image / 255.0\n",
    "    image = tf.image.resize(image, size=(224, 224))\n",
    "\n",
    "    # 예측\n",
    "    x = image.numpy()\n",
    "    x = np.expand_dims(x, 0)\n",
    "    pred = model.predict(x)\n",
    "    result = pred.argmax(axis=1)\n",
    "    print(f'예측 결과: {food_list[result[0]]}, 확률: {pred.max() * 100:.2f}%')"
   ]
  },
  {
   "cell_type": "code",
   "execution_count": null,
   "metadata": {
    "id": "xDN6hLwooeRf"
   },
   "outputs": [],
   "source": [
    "predict_image_from_url('https://homecuisine.co.kr/files/attach/images/140/001/083/558d170258752df2dd76bef00861497f.JPG', loaded_model)"
   ]
  },
  {
   "cell_type": "code",
   "execution_count": null,
   "metadata": {
    "id": "kUsc0Bmjt6E-"
   },
   "outputs": [],
   "source": [
    "predict_image_from_url('https://recipe1.ezmember.co.kr/cache/recipe/2015/12/24/7b10402a82606a5a3de6710c93a110f41.jpg', loaded_model)"
   ]
  },
  {
   "cell_type": "code",
   "execution_count": null,
   "metadata": {
    "id": "GaNOeL69w9S2"
   },
   "outputs": [],
   "source": [
    "predict_image_from_url('http://m.dyfood.co.kr/web/product/big/20191123/e208b86b6237715e547e212a45597900.jpg', loaded_model)"
   ]
  }
 ],
 "metadata": {
  "accelerator": "GPU",
  "colab": {
   "collapsed_sections": [],
   "name": "AutoKeras를 활용한 이미지 분류",
   "provenance": []
  },
  "kernelspec": {
   "display_name": "Python 3 (ipykernel)",
   "language": "python",
   "name": "python3"
  },
  "language_info": {
   "codemirror_mode": {
    "name": "ipython",
    "version": 3
   },
   "file_extension": ".py",
   "mimetype": "text/x-python",
   "name": "python",
   "nbconvert_exporter": "python",
   "pygments_lexer": "ipython3",
   "version": "3.8.13"
  }
 },
 "nbformat": 4,
 "nbformat_minor": 1
}
