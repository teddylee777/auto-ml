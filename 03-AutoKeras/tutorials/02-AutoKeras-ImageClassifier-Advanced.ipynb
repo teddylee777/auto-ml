{
 "cells": [
  {
   "cell_type": "markdown",
   "metadata": {
    "id": "rz9_qhSNI_3m"
   },
   "source": [
    "\n",
    "## 구글 이미지 다운로더 설치"
   ]
  },
  {
   "cell_type": "code",
   "execution_count": null,
   "metadata": {
    "id": "w-igQVM41poQ"
   },
   "outputs": [],
   "source": [
    "!git clone https://github.com/Joeclinton1/google-images-download.git"
   ]
  },
  {
   "cell_type": "code",
   "execution_count": null,
   "metadata": {
    "id": "-ZOQDQTS3d_X"
   },
   "outputs": [],
   "source": [
    "!cd google-images-download && python setup.py install"
   ]
  },
  {
   "cell_type": "code",
   "execution_count": null,
   "metadata": {
    "id": "Nqg_lV373hef"
   },
   "outputs": [],
   "source": [
    "!pip install -U git+https://github.com/Joeclinton1/google-images-download.git"
   ]
  },
  {
   "cell_type": "markdown",
   "metadata": {
    "id": "K5gI8suQvD23"
   },
   "source": [
    "**런타임** - **런타임 다시 시작** 클릭"
   ]
  },
  {
   "cell_type": "markdown",
   "metadata": {
    "id": "Mt09Q08VvNo-"
   },
   "source": [
    "## 데이터셋 구성"
   ]
  },
  {
   "cell_type": "code",
   "execution_count": null,
   "metadata": {
    "id": "BybZgxRF41km"
   },
   "outputs": [],
   "source": [
    "# 다운로드 받고자 하는 키워드 정의 (쉼표로 구분, 공백 없음)\n",
    "keywords = \"사과,바나나,오렌지\""
   ]
  },
  {
   "cell_type": "code",
   "execution_count": null,
   "metadata": {
    "id": "KTik1p322fy4"
   },
   "outputs": [],
   "source": [
    "from google_images_download import google_images_download\n",
    "\n",
    "response = google_images_download.googleimagesdownload()\n",
    "\n",
    "arguments = {\"keywords\": keywords,\n",
    "             \"limit\":99, # 최대 다운로드 사진 개수는 100장으로 제한\n",
    "             \"size\": \"medium\",\n",
    "             \"print_urls\":True, \n",
    "             \"format\":\"jpg\"}\n",
    "\n",
    "paths = response.download(arguments)\n",
    "print(paths) "
   ]
  },
  {
   "cell_type": "markdown",
   "metadata": {
    "id": "qYnDfqui7OBf"
   },
   "source": [
    "## 사용하지 않는 폴더 삭제"
   ]
  },
  {
   "cell_type": "code",
   "execution_count": null,
   "metadata": {
    "colab": {
     "base_uri": "https://localhost:8080/"
    },
    "id": "KyrblTa347av",
    "outputId": "121bdde7-b2d6-4538-a590-9e2af707fcb8"
   },
   "outputs": [],
   "source": [
    "keywords_list = keywords.split(',')\n",
    "keywords_list = [f.strip() for f in keywords_list]\n",
    "keywords_list"
   ]
  },
  {
   "cell_type": "code",
   "execution_count": null,
   "metadata": {
    "id": "LLIbAQgi5CJX"
   },
   "outputs": [],
   "source": [
    "import os\n",
    "import glob\n",
    "\n",
    "download_folder = 'downloads'"
   ]
  },
  {
   "cell_type": "code",
   "execution_count": null,
   "metadata": {
    "colab": {
     "base_uri": "https://localhost:8080/"
    },
    "id": "xBQNA9md5VFA",
    "outputId": "327c5f46-7ab4-43a6-9f34-b842f8b2a570"
   },
   "outputs": [],
   "source": [
    "folder_list = os.listdir(download_folder)\n",
    "folder_list"
   ]
  },
  {
   "cell_type": "code",
   "execution_count": null,
   "metadata": {
    "colab": {
     "base_uri": "https://localhost:8080/"
    },
    "id": "QlJdurI65uGm",
    "outputId": "5e614eec-de3f-4773-c490-5eb13a0eb9c9"
   },
   "outputs": [],
   "source": [
    "exempt_folders = [f for f in folder_list if f.strip() not in keywords_list]\n",
    "exempt_folders"
   ]
  },
  {
   "cell_type": "code",
   "execution_count": null,
   "metadata": {
    "id": "CemxgzEl6U8T"
   },
   "outputs": [],
   "source": [
    "for folder in exempt_folders:\n",
    "    if os.path.isdir(os.path.join(download_folder, folder)):\n",
    "        files = glob.glob(os.path.join(download_folder, folder) + '/*')\n",
    "        for f in files:\n",
    "            os.remove(f)\n",
    "        os.rmdir(os.path.join(download_folder, folder))"
   ]
  },
  {
   "cell_type": "markdown",
   "metadata": {
    "id": "EpdTK8YkI9RK"
   },
   "source": [
    "## AutoKeras 설치"
   ]
  },
  {
   "cell_type": "code",
   "execution_count": null,
   "metadata": {
    "id": "U-LzPuaT4oi2"
   },
   "outputs": [],
   "source": [
    "!pip install autokeras"
   ]
  },
  {
   "cell_type": "code",
   "execution_count": null,
   "metadata": {
    "id": "DvGnnbZhIUV_"
   },
   "outputs": [],
   "source": [
    "import autokeras as ak\n",
    "import numpy as np"
   ]
  },
  {
   "cell_type": "markdown",
   "metadata": {
    "id": "2yd1dZXvHn3q"
   },
   "source": [
    "## 데이터 시각화"
   ]
  },
  {
   "cell_type": "markdown",
   "metadata": {
    "id": "yu5RpH5OoBrH"
   },
   "source": [
    "다운로드 받은 이미지 데이터 시각화"
   ]
  },
  {
   "cell_type": "code",
   "execution_count": null,
   "metadata": {
    "colab": {
     "base_uri": "https://localhost:8080/",
     "height": 425
    },
    "id": "1BplAq28fOZv",
    "outputId": "b9d5a227-836f-467e-87e8-a354c4826248"
   },
   "outputs": [],
   "source": [
    "import matplotlib.pyplot as plt\n",
    "import warnings\n",
    "import tensorflow as tf\n",
    "from tensorflow.keras.preprocessing.image import ImageDataGenerator\n",
    "\n",
    "# 경고 무시\n",
    "warnings.filterwarnings('ignore')\n",
    "\n",
    "# TRAIN, TEST 경로 지정\n",
    "TRAIN_DIR = 'downloads'\n",
    "\n",
    "# 데이터 시각화 코드\n",
    "original_datagen = ImageDataGenerator(rescale=1./255)\n",
    "original_generator = original_datagen.flow_from_directory(TRAIN_DIR, \n",
    "                                                          target_size=(224, 224), \n",
    "                                                          batch_size=32\n",
    "                                                         )\n",
    "\n",
    "for x, y in original_generator:\n",
    "    print(x.shape, y.shape)\n",
    "    print(y[0])\n",
    "    \n",
    "    fig, axes = plt.subplots(2, 5)\n",
    "    fig.set_size_inches(15, 6)\n",
    "    for i in range(10):\n",
    "        axes[i//5, i%5].imshow(x[i])\n",
    "        axes[i//5, i%5].set_title(f'{y[i].argmax()}', fontsize=15)\n",
    "        axes[i//5, i%5].axis('off')\n",
    "    break\n",
    "plt.show()"
   ]
  },
  {
   "cell_type": "markdown",
   "metadata": {
    "id": "B0_7HwSQnwfH"
   },
   "source": [
    "## 디스크(disk) 공간에서 이미지 데이터 로드"
   ]
  },
  {
   "cell_type": "code",
   "execution_count": null,
   "metadata": {
    "colab": {
     "base_uri": "https://localhost:8080/"
    },
    "id": "8cvu1Ovzl2-A",
    "outputId": "abeb710a-0b7a-4d29-bd23-331d894d3f2d"
   },
   "outputs": [],
   "source": [
    "batch_size = 32 \n",
    "img_height = 224 # 이미지의 세로 사이즈\n",
    "img_width = 224  # 이미지의 가로 사이즈\n",
    "\n",
    "train_data = ak.image_dataset_from_directory(\n",
    "    TRAIN_DIR,\n",
    "    image_size=(224, 224),\n",
    "    batch_size=batch_size,\n",
    "    # # Use 20% data as testing data.\n",
    "    # validation_split=0.2,\n",
    "    # subset=\"training\",\n",
    ")\n",
    "\n",
    "test_data = ak.image_dataset_from_directory(\n",
    "    TRAIN_DIR,\n",
    "    image_size=(img_height, img_width),\n",
    "    batch_size=batch_size,\n",
    "    validation_split=0.2,\n",
    "    subset=\"validation\",\n",
    ")"
   ]
  },
  {
   "cell_type": "markdown",
   "metadata": {
    "id": "Gvzd79n-nt72"
   },
   "source": [
    "## 고급 모델 생성"
   ]
  },
  {
   "cell_type": "code",
   "execution_count": null,
   "metadata": {
    "id": "LQYtH_pSmugN"
   },
   "outputs": [],
   "source": [
    "# 입력 노드 정의\n",
    "input_node = ak.ImageInput()\n",
    "\n",
    "# 출력 노드 정의\n",
    "output_node = ak.ImageBlock(\n",
    "    # Only search ResNet architectures.\n",
    "    block_type=\"resnet\",\n",
    "    # Normalize the dataset.\n",
    "    normalize=True,\n",
    "    # data augmentation.\n",
    "    augment=False,\n",
    ")(input_node)\n",
    "\n",
    "output_node = ak.ClassificationHead()(output_node)\n",
    "\n",
    "model = ak.AutoModel(\n",
    "    inputs=input_node, outputs=output_node, overwrite=True, max_trials=5\n",
    ")"
   ]
  },
  {
   "cell_type": "code",
   "execution_count": null,
   "metadata": {
    "id": "L6e9CbLsdGng"
   },
   "outputs": [],
   "source": [
    "model.fit(train_data,\n",
    "          validation_data=(test_data),\n",
    "          epochs=10)"
   ]
  },
  {
   "cell_type": "markdown",
   "metadata": {
    "id": "-8FAnqIkB71U"
   },
   "source": [
    "## Image URL로 예측"
   ]
  },
  {
   "cell_type": "code",
   "execution_count": null,
   "metadata": {
    "id": "1VmG1bR6WE6z"
   },
   "outputs": [],
   "source": [
    "from skimage import io"
   ]
  },
  {
   "cell_type": "code",
   "execution_count": null,
   "metadata": {
    "id": "d_iZmZfOuq54"
   },
   "outputs": [],
   "source": [
    "def predict_image_from_url(url, model):\n",
    "    # image 다운로드, 로드\n",
    "    image = io.imread(url)\n",
    "\n",
    "    # 시각화\n",
    "    plt.imshow(image)\n",
    "    plt.axis('off')\n",
    "    plt.show()\n",
    "\n",
    "    # 스케일, resize\n",
    "    image = image / 255.0\n",
    "    image = tf.image.resize(image, size=(224, 224))\n",
    "\n",
    "    # 예측\n",
    "    x = image.numpy()\n",
    "    x = np.expand_dims(x, 0)\n",
    "    pred = model.predict(x)\n",
    "    print(f'예측 결과: {pred[0][0]}')"
   ]
  },
  {
   "cell_type": "code",
   "execution_count": null,
   "metadata": {
    "colab": {
     "base_uri": "https://localhost:8080/",
     "height": 284
    },
    "id": "ptVNNAa_uxiP",
    "outputId": "0b830c90-2236-407e-c349-82bbdd02aac7"
   },
   "outputs": [],
   "source": [
    "predict_image_from_url('https://kormedi.com/wp-content/uploads/2021/11/r658x025-580x407.jpg', model)"
   ]
  },
  {
   "cell_type": "markdown",
   "metadata": {
    "id": "t0dk-3tcCFCE"
   },
   "source": [
    "## 학습된 모델 내보내기"
   ]
  },
  {
   "cell_type": "code",
   "execution_count": null,
   "metadata": {
    "colab": {
     "base_uri": "https://localhost:8080/"
    },
    "id": "F8hixPzCm7PI",
    "outputId": "a1e47834-4b53-48ea-b878-a1336c839c99"
   },
   "outputs": [],
   "source": [
    "# 모델 내보내기 (저장&백업)\n",
    "output_model = model.export_model()\n",
    "\n",
    "print(type(output_model)) "
   ]
  },
  {
   "cell_type": "code",
   "execution_count": null,
   "metadata": {
    "colab": {
     "base_uri": "https://localhost:8080/"
    },
    "id": "uOh_U54jxaAF",
    "outputId": "e2d9b043-2de9-4279-cca6-34ee3f6930a9"
   },
   "outputs": [],
   "source": [
    "output_model.save(\"image_model.h5\")"
   ]
  },
  {
   "cell_type": "code",
   "execution_count": null,
   "metadata": {},
   "outputs": [],
   "source": [
    "f = open(\"labels.txt\", 'r', encoding='UTF8')\n",
    "label = dict()\n",
    "while True:\n",
    "    line = f.readline()\n",
    "    if not line: \n",
    "        break\n",
    "    k, v = line.strip().split()\n",
    "    label[int(k)] = v\n",
    "f.close()"
   ]
  },
  {
   "cell_type": "code",
   "execution_count": null,
   "metadata": {},
   "outputs": [],
   "source": [
    "label"
   ]
  },
  {
   "cell_type": "markdown",
   "metadata": {
    "id": "ruw7w85eeZ6W"
   },
   "source": [
    "## 모델 로드"
   ]
  },
  {
   "cell_type": "markdown",
   "metadata": {
    "id": "ko1pcO8I1dFP"
   },
   "source": [
    "학습이 완료된 샘플 모델을 다운로드 받습니다."
   ]
  },
  {
   "cell_type": "code",
   "execution_count": null,
   "metadata": {
    "id": "i_DUicmNtxhg"
   },
   "outputs": [],
   "source": [
    "from keras.models import load_model"
   ]
  },
  {
   "cell_type": "code",
   "execution_count": null,
   "metadata": {
    "id": "XEUxn2DAnF1e"
   },
   "outputs": [],
   "source": [
    "loaded_model = load_model('image_model.h5')"
   ]
  }
 ],
 "metadata": {
  "accelerator": "GPU",
  "colab": {
   "collapsed_sections": [],
   "name": "AutoKeras를 활용한 이미지 분류",
   "provenance": []
  },
  "kernelspec": {
   "display_name": "Python 3 (ipykernel)",
   "language": "python",
   "name": "python3"
  },
  "language_info": {
   "codemirror_mode": {
    "name": "ipython",
    "version": 3
   },
   "file_extension": ".py",
   "mimetype": "text/x-python",
   "name": "python",
   "nbconvert_exporter": "python",
   "pygments_lexer": "ipython3",
   "version": "3.8.13"
  }
 },
 "nbformat": 4,
 "nbformat_minor": 1
}
