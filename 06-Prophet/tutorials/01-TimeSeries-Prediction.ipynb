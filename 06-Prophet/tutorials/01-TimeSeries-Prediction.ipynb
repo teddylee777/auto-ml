{
  "cells": [
    {
      "cell_type": "markdown",
      "source": [
        "## 한글 폰트 설치"
      ],
      "metadata": {
        "id": "NsOyerIlik5Z"
      }
    },
    {
      "cell_type": "code",
      "source": [
        "!sudo apt-get install -y fonts-nanum\n",
        "!sudo fc-cache -fv\n",
        "!rm ~/.cache/matplotlib -rf"
      ],
      "metadata": {
        "id": "8_TA79Mpijbh"
      },
      "execution_count": null,
      "outputs": []
    },
    {
      "cell_type": "markdown",
      "metadata": {
        "id": "MI9Y3GL3bPrd"
      },
      "source": [
        "# Facebook Prophet을 활용한 시계열 데이터 예측 모델"
      ]
    },
    {
      "cell_type": "markdown",
      "metadata": {
        "id": "1REK1kMwbPrh"
      },
      "source": [
        "이번 튜토리얼 에서는 다음과 같은 **프로세스 파이프라인**으로 주가 예측을 진행합니다.\n",
        "\n",
        "- FinanceDataReader를 활용하여 주가 데이터 받아오기\n",
        "- Facebook Prophet을 활용하여 주가 예측"
      ]
    },
    {
      "cell_type": "markdown",
      "metadata": {
        "id": "pEisXhcDbPri"
      },
      "source": [
        "## 필요한 모듈 import"
      ]
    },
    {
      "cell_type": "code",
      "execution_count": null,
      "metadata": {
        "id": "4pmEpsHMbPri"
      },
      "outputs": [],
      "source": [
        "import pandas as pd\n",
        "import numpy as np\n",
        "import matplotlib.pyplot as plt\n",
        "import seaborn as sns\n",
        "import warnings\n",
        "import os\n",
        "\n",
        "%matplotlib inline\n",
        "warnings.filterwarnings('ignore')\n",
        "\n",
        "plt.rc('font', family='NanumBarunGothic') "
      ]
    },
    {
      "cell_type": "markdown",
      "metadata": {
        "id": "HZI8SCTwbPrj"
      },
      "source": [
        "## 데이터 (FinanceDataReader)"
      ]
    },
    {
      "cell_type": "markdown",
      "metadata": {
        "id": "fssSp4W9bPrk"
      },
      "source": [
        "**FinanceDataReader**는 주가 데이터를 편리하게 가져올 수 있는 파이썬 패키지입니다.\n",
        "\n",
        "- [GitHub Repo](https://github.com/FinanceData/FinanceDataReader)"
      ]
    },
    {
      "cell_type": "markdown",
      "metadata": {
        "id": "2-1gWBsSbPrk"
      },
      "source": [
        "**FinanceDataReader**가 아직 설치 되지 않으신 분들은 아래의 주석을 해제한 후 명령어로 설치해 주시기 바랍니다."
      ]
    },
    {
      "cell_type": "code",
      "execution_count": null,
      "metadata": {
        "id": "DIwVbZBbbPrk"
      },
      "outputs": [],
      "source": [
        "!pip install finance-datareader"
      ]
    },
    {
      "cell_type": "code",
      "execution_count": null,
      "metadata": {
        "id": "Ma-bWB16bPrl"
      },
      "outputs": [],
      "source": [
        "import FinanceDataReader as fdr"
      ]
    },
    {
      "cell_type": "code",
      "execution_count": null,
      "metadata": {
        "id": "W_oG_zzkbPrl"
      },
      "outputs": [],
      "source": [
        "# 삼성전자 종목코드: 005930\n",
        "samsung = fdr.DataReader('005930')"
      ]
    },
    {
      "cell_type": "markdown",
      "metadata": {
        "id": "ZrCL0SVbbPrm"
      },
      "source": [
        "매우 편리하게 삼성전자 주가 데이터를 `DataFrame`형식으로 받아옵니다.\n",
        "\n",
        "기본 **오름차순 정렬**이 된 데이터임을 알 수 있습니다.\n",
        "\n",
        "### 컬럼 설명\n",
        "\n",
        "- `Open`:   시가\n",
        "- `High`:   고가\n",
        "- `Low`:    저가\n",
        "- `Close`:  종가\n",
        "- `Volume`: 거래량\n",
        "- `Change`: 대비"
      ]
    },
    {
      "cell_type": "code",
      "execution_count": null,
      "metadata": {
        "id": "Cv_Q801fbPrm"
      },
      "outputs": [],
      "source": [
        "samsung.tail()"
      ]
    },
    {
      "cell_type": "markdown",
      "metadata": {
        "id": "yX6xcqcubPrn"
      },
      "source": [
        "**미국 주식 데이터**도 가져올 수 있습니다."
      ]
    },
    {
      "cell_type": "code",
      "execution_count": null,
      "metadata": {
        "id": "qy8ahu-7bPrn"
      },
      "outputs": [],
      "source": [
        "# Apple(AAPL), 애플\n",
        "apple = fdr.DataReader('AAPL')"
      ]
    },
    {
      "cell_type": "code",
      "execution_count": null,
      "metadata": {
        "id": "Ose6Z91AbPrn"
      },
      "outputs": [],
      "source": [
        "apple.tail()"
      ]
    },
    {
      "cell_type": "markdown",
      "metadata": {
        "id": "GOo_mhSobPro"
      },
      "source": [
        "### 비트코인 시세"
      ]
    },
    {
      "cell_type": "code",
      "execution_count": null,
      "metadata": {
        "id": "u641Luc4bPro"
      },
      "outputs": [],
      "source": [
        "btc = fdr.DataReader('BTC/KRW', '2018-01-01')\n",
        "btc"
      ]
    },
    {
      "cell_type": "markdown",
      "source": [
        "## 시세에 대한 그래프 시각화"
      ],
      "metadata": {
        "id": "N-tAMjdXaCcB"
      }
    },
    {
      "cell_type": "code",
      "execution_count": null,
      "metadata": {
        "id": "uBOzFXpwbPro"
      },
      "outputs": [],
      "source": [
        "plt.figure(figsize=(16, 9))\n",
        "sns.lineplot(x=btc.index, y='Close', data=btc)\n",
        "plt.show()"
      ]
    },
    {
      "cell_type": "markdown",
      "metadata": {
        "id": "uWQvWJMpbPrp"
      },
      "source": [
        "**시작**과 **끝** 날짜를 지정하여 범위 데이터를 가져올 수 있습니다."
      ]
    },
    {
      "cell_type": "code",
      "execution_count": null,
      "metadata": {
        "id": "hBXl0E95bPrp"
      },
      "outputs": [],
      "source": [
        "# 비트코인 시세\n",
        "btc = fdr.DataReader('BTC/KRW', '2019-01-01', '2020-12-01')\n",
        "btc"
      ]
    },
    {
      "cell_type": "code",
      "execution_count": null,
      "metadata": {
        "id": "VxPwZXT4bPrp"
      },
      "outputs": [],
      "source": [
        "plt.figure(figsize=(16, 9))\n",
        "sns.lineplot(x=btc.index, y='Close', data=btc)\n",
        "plt.show()"
      ]
    },
    {
      "cell_type": "markdown",
      "metadata": {
        "id": "SPyuDzL-bPrq"
      },
      "source": [
        "그 밖에 **금, 은과 같은 현물**, **달러와 같은 화폐** 데이터도 가져올 수 있습니다."
      ]
    },
    {
      "cell_type": "markdown",
      "metadata": {
        "id": "OWdmJEzNbPrq"
      },
      "source": [
        "더욱 자세한 내용은 [GitHub 페이지 링크](https://github.com/FinanceData/FinanceDataReader)를 참고해 보시기 바랍니다."
      ]
    },
    {
      "cell_type": "markdown",
      "source": [
        "## 주가데이터 가져오기"
      ],
      "metadata": {
        "id": "RJtxeKQm0l2w"
      }
    },
    {
      "cell_type": "code",
      "execution_count": null,
      "metadata": {
        "id": "8PjKPHgnbPrq"
      },
      "outputs": [],
      "source": [
        "# 삼성전자 주식코드: 005930\n",
        "STOCK_CODE = '005930'"
      ]
    },
    {
      "cell_type": "code",
      "execution_count": null,
      "metadata": {
        "id": "8D4QUZv-bPrq"
      },
      "outputs": [],
      "source": [
        "stock = fdr.DataReader(STOCK_CODE)"
      ]
    },
    {
      "cell_type": "code",
      "execution_count": null,
      "metadata": {
        "id": "zFiFCToEbPrr"
      },
      "outputs": [],
      "source": [
        "stock.head()"
      ]
    },
    {
      "cell_type": "code",
      "execution_count": null,
      "metadata": {
        "id": "nFS8TzIcbPrr"
      },
      "outputs": [],
      "source": [
        "stock.index"
      ]
    },
    {
      "cell_type": "code",
      "execution_count": null,
      "metadata": {
        "id": "0yAKE9Ag0l4S"
      },
      "outputs": [],
      "source": [
        "stock.head()"
      ]
    },
    {
      "cell_type": "markdown",
      "metadata": {
        "id": "5FBTlube0l4d"
      },
      "source": [
        "## 시각화"
      ]
    },
    {
      "cell_type": "code",
      "execution_count": null,
      "metadata": {
        "id": "MWcaWEa80l4o"
      },
      "outputs": [],
      "source": [
        "plt.figure(figsize=(16, 9))\n",
        "sns.lineplot(y=stock['Close'], x=stock.index)\n",
        "plt.xlabel('time')\n",
        "plt.ylabel('price')"
      ]
    },
    {
      "cell_type": "code",
      "execution_count": null,
      "metadata": {
        "id": "pmX4rWptbPrs"
      },
      "outputs": [],
      "source": [
        "time_steps = [['1990', '2000'], \n",
        "              ['2000', '2010'], \n",
        "              ['2010', '2015'], \n",
        "              ['2015', '2020']]\n",
        "\n",
        "fig, axes = plt.subplots(2, 2)\n",
        "fig.set_size_inches(16, 9)\n",
        "for i in range(4):\n",
        "    ax = axes[i//2, i%2]\n",
        "    df = stock.loc[(stock.index > time_steps[i][0]) & (stock.index < time_steps[i][1])]\n",
        "    sns.lineplot(y=df['Close'], x=df.index, ax=ax)\n",
        "    ax.set_title(f'{time_steps[i][0]}~{time_steps[i][1]}')\n",
        "    ax.set_xlabel('time')\n",
        "    ax.set_ylabel('price')\n",
        "plt.tight_layout()\n",
        "plt.show()"
      ]
    },
    {
      "cell_type": "code",
      "execution_count": null,
      "metadata": {
        "id": "YJnwSanubPrt"
      },
      "outputs": [],
      "source": [
        "stock = fdr.DataReader(STOCK_CODE, '2019')"
      ]
    },
    {
      "cell_type": "markdown",
      "metadata": {
        "id": "qwHBaB0TbPrt"
      },
      "source": [
        "## Prophet"
      ]
    },
    {
      "cell_type": "markdown",
      "metadata": {
        "id": "t0ScjVz5bPrt"
      },
      "source": [
        "### 모듈 import"
      ]
    },
    {
      "cell_type": "code",
      "execution_count": null,
      "metadata": {
        "id": "AvnqQInybPrt"
      },
      "outputs": [],
      "source": [
        "from fbprophet import Prophet\n",
        "from fbprophet.plot import plot_plotly, plot_components_plotly"
      ]
    },
    {
      "cell_type": "markdown",
      "metadata": {
        "id": "1VLn5BN2bPrt"
      },
      "source": [
        "### 컬럼"
      ]
    },
    {
      "cell_type": "markdown",
      "metadata": {
        "id": "KmVcXLOMbPru"
      },
      "source": [
        "- 반드시 **y** 컬럼과 **ds** 컬럼이 존재해야합니다.\n",
        "- 예측 값은 **y**, 시계열 데이터는 **ds**에 지정합니다."
      ]
    },
    {
      "cell_type": "code",
      "execution_count": null,
      "metadata": {
        "id": "z5NKWQBMbPru"
      },
      "outputs": [],
      "source": [
        "stock['y'] = stock['Close']\n",
        "stock['ds'] = stock.index"
      ]
    },
    {
      "cell_type": "code",
      "execution_count": null,
      "metadata": {
        "id": "CAGkHsecbPru"
      },
      "outputs": [],
      "source": [
        "stock.head()"
      ]
    },
    {
      "cell_type": "markdown",
      "metadata": {
        "id": "AVAARjMJbPru"
      },
      "source": [
        "### prophet 객체 선언 및 학습"
      ]
    },
    {
      "cell_type": "code",
      "execution_count": null,
      "metadata": {
        "id": "fY8uBtN4bPru"
      },
      "outputs": [],
      "source": [
        "m = Prophet()\n",
        "m.fit(stock)"
      ]
    },
    {
      "cell_type": "markdown",
      "metadata": {
        "id": "ahvv0_Y1bPrv"
      },
      "source": [
        "**period**에 예측 하고 싶은 기간을 입력 합니다.\n",
        "\n",
        "예측할 시계열 row가 추가 됩니다."
      ]
    },
    {
      "cell_type": "markdown",
      "source": [
        "`periods`에 예측할 기간을 입력합니다."
      ],
      "metadata": {
        "id": "pA3QK2FqaUMp"
      }
    },
    {
      "cell_type": "code",
      "execution_count": null,
      "metadata": {
        "id": "2FhVGechbPrv"
      },
      "outputs": [],
      "source": [
        "future = m.make_future_dataframe(periods=30)\n",
        "future.tail()"
      ]
    },
    {
      "cell_type": "markdown",
      "metadata": {
        "id": "XaC5jJ1YbPrv"
      },
      "source": [
        "- `predict`로 예측을 진행합니다.\n",
        "- `predict` 안에는 이전 단계에서 만들어준 future 데이터프레임을 입력합니다.\n"
      ]
    },
    {
      "cell_type": "code",
      "execution_count": null,
      "metadata": {
        "id": "LcTsUFiebPrv"
      },
      "outputs": [],
      "source": [
        "forecast = m.predict(future)\n",
        "forecast.tail()"
      ]
    },
    {
      "cell_type": "code",
      "execution_count": null,
      "metadata": {
        "id": "gEady3AhbPrw"
      },
      "outputs": [],
      "source": [
        "forecast[['ds', 'yhat', 'yhat_lower', 'yhat_upper']].iloc[-40:-20]"
      ]
    },
    {
      "cell_type": "markdown",
      "metadata": {
        "id": "iLUMovB1bPrw"
      },
      "source": [
        "### 시각화"
      ]
    },
    {
      "cell_type": "markdown",
      "metadata": {
        "id": "jUqw3q8dbPrw"
      },
      "source": [
        "`plot`은 트렌드와 함께 예측된 결과물을 시각화하여 보여줍니다."
      ]
    },
    {
      "cell_type": "code",
      "execution_count": null,
      "metadata": {
        "id": "mGJoVF5PbPrw"
      },
      "outputs": [],
      "source": [
        "fig = m.plot(forecast)"
      ]
    },
    {
      "cell_type": "markdown",
      "metadata": {
        "id": "05tPBbekbPrw"
      },
      "source": [
        "### plotly 활용"
      ]
    },
    {
      "cell_type": "code",
      "execution_count": null,
      "metadata": {
        "id": "Z0rhwvr8bPrx"
      },
      "outputs": [],
      "source": [
        "fig = plot_plotly(m, forecast)\n",
        "fig"
      ]
    },
    {
      "cell_type": "markdown",
      "metadata": {
        "id": "I_QdKH0NbPrx"
      },
      "source": [
        "### 컴포넌트 별 시각화"
      ]
    },
    {
      "cell_type": "markdown",
      "metadata": {
        "id": "kPBjubCobPrx"
      },
      "source": [
        "컴포넌트 별 시각화에서는 seasonality 별 시각화를 진행해 볼 수 있습니다.\n",
        "\n",
        "**trend, yearly, weekly 데이터를 시각화**하여 보여 줍니다."
      ]
    },
    {
      "cell_type": "code",
      "execution_count": null,
      "metadata": {
        "id": "c-q847hcbPrx"
      },
      "outputs": [],
      "source": [
        "plot_components_plotly(m, forecast)"
      ]
    },
    {
      "cell_type": "markdown",
      "metadata": {
        "id": "driRs4ZfbPry"
      },
      "source": [
        "### change points"
      ]
    },
    {
      "cell_type": "markdown",
      "metadata": {
        "id": "Yrz_0rfqbPry"
      },
      "source": [
        "By default, Prophet specifies 25 potential changepoints which are uniformly placed in the first 80% of the time series. The vertical lines in this figure indicate where the potential changepoints were placed:"
      ]
    },
    {
      "cell_type": "markdown",
      "metadata": {
        "id": "WE6GJV4IbPry"
      },
      "source": [
        "처음 80%의 시계열 데이터에 대하여 잠재적인 25개의 changepoints를 만들고, 그 중 선별하여 최종 changepoints를 그래프에서 vertical line으로 그려주게 됩니다."
      ]
    },
    {
      "cell_type": "code",
      "execution_count": null,
      "metadata": {
        "id": "sgPz58lSbPry"
      },
      "outputs": [],
      "source": [
        "from fbprophet.plot import add_changepoints_to_plot"
      ]
    },
    {
      "cell_type": "code",
      "execution_count": null,
      "metadata": {
        "id": "XJy5RzMdbPrz"
      },
      "outputs": [],
      "source": [
        "fig = m.plot(forecast)\n",
        "a = add_changepoints_to_plot(fig.gca(), m, forecast)"
      ]
    },
    {
      "cell_type": "markdown",
      "metadata": {
        "id": "65fBQ95fbPrz"
      },
      "source": [
        "### flexibility 조절"
      ]
    },
    {
      "cell_type": "markdown",
      "metadata": {
        "id": "5BJwR2c9bPrz"
      },
      "source": [
        "If the trend changes are being overfit (too much flexibility) or underfit (not enough flexibility), you can adjust the strength of the sparse prior using the input argument changepoint_prior_scale. By default, this parameter is set to 0.05. Increasing it will make the trend more flexible:"
      ]
    },
    {
      "cell_type": "markdown",
      "metadata": {
        "id": "mUQm9UGebPrz"
      },
      "source": [
        "flexibility **계수가 낮으면 과소적합, 높으면 과대적합**하여 예측하게 됩니다.\n",
        "\n",
        "중요한 hyperparameter 입니다."
      ]
    },
    {
      "cell_type": "code",
      "execution_count": null,
      "metadata": {
        "id": "N2HM39HVbPr0"
      },
      "outputs": [],
      "source": [
        "m = Prophet(changepoint_prior_scale=0.8)\n",
        "forecast = m.fit(stock).predict(future)\n",
        "fig = m.plot(forecast)"
      ]
    },
    {
      "cell_type": "code",
      "execution_count": null,
      "metadata": {
        "id": "AlZ_QrHrbPr0"
      },
      "outputs": [],
      "source": [
        "m = Prophet(changepoint_prior_scale=0.01)\n",
        "forecast = m.fit(stock).predict(future)\n",
        "fig = m.plot(forecast)"
      ]
    },
    {
      "cell_type": "markdown",
      "source": [
        "## 서울시 코로나 확진자 현황"
      ],
      "metadata": {
        "id": "_11Xo-jva3Ox"
      }
    },
    {
      "cell_type": "markdown",
      "source": [
        "[데이터셋 다운로드](http://data.seoul.go.kr/dataList/OA-20279/S/1/datasetView.do)"
      ],
      "metadata": {
        "id": "APCiAORfcQc5"
      }
    },
    {
      "cell_type": "code",
      "source": [
        "# 서울시 코로나 확진자 데이터 다운로드\n",
        "!wget -O seoul_covid.csv https://www.dropbox.com/s/vv9mh6ciq9xnart/seoul_covid19.csv?dl=1"
      ],
      "metadata": {
        "id": "M_Dktiy0h5qa"
      },
      "execution_count": null,
      "outputs": []
    },
    {
      "cell_type": "code",
      "source": [
        "corona = pd.read_csv('seoul_covid.csv')\n",
        "corona"
      ],
      "metadata": {
        "id": "8d6AGvypcWOS"
      },
      "execution_count": null,
      "outputs": []
    },
    {
      "cell_type": "code",
      "source": [
        "plt.figure(figsize=(12, 10))\n",
        "corona.groupby('확진일')['연번'].count().plot()\n",
        "plt.show()"
      ],
      "metadata": {
        "id": "aPCz9oMBcz7Y"
      },
      "execution_count": null,
      "outputs": []
    },
    {
      "cell_type": "code",
      "source": [
        "plt.figure(figsize=(12, 10))\n",
        "corona.groupby('지역')['연번'].count().plot(kind='bar')\n",
        "plt.show()"
      ],
      "metadata": {
        "id": "WJ85INaKhe7u"
      },
      "execution_count": null,
      "outputs": []
    },
    {
      "cell_type": "markdown",
      "source": [
        "## 정확한 분석을 위한 데이터 클린징"
      ],
      "metadata": {
        "id": "EpMjdabLjPKJ"
      }
    },
    {
      "cell_type": "markdown",
      "source": [
        "공백이 들어간 경우"
      ],
      "metadata": {
        "id": "WbiNxI4ajK3a"
      }
    },
    {
      "cell_type": "code",
      "source": [
        "corona.loc[corona['지역'] == '관악구 ']"
      ],
      "metadata": {
        "id": "LOwQImxLiyiX"
      },
      "execution_count": null,
      "outputs": []
    },
    {
      "cell_type": "markdown",
      "source": [
        "공백이 들어가지 않은 경우"
      ],
      "metadata": {
        "id": "Qs-4oU5bjOdh"
      }
    },
    {
      "cell_type": "code",
      "source": [
        "corona.loc[corona['지역'] == '관악구']"
      ],
      "metadata": {
        "id": "WGvZdd0XjMV5"
      },
      "execution_count": null,
      "outputs": []
    },
    {
      "cell_type": "markdown",
      "source": [
        "공백을 제거하는 함수 `strip()`활용"
      ],
      "metadata": {
        "id": "hhxv5rH_jZuq"
      }
    },
    {
      "cell_type": "code",
      "source": [
        "corona['지역'].apply(lambda x: x.strip())"
      ],
      "metadata": {
        "id": "yPlTSNQLjTsh"
      },
      "execution_count": null,
      "outputs": []
    },
    {
      "cell_type": "code",
      "source": [
        "corona['지역'] = corona['지역'].apply(lambda x: x.strip())"
      ],
      "metadata": {
        "id": "k0IZNmIpjdMZ"
      },
      "execution_count": null,
      "outputs": []
    },
    {
      "cell_type": "markdown",
      "source": [
        "공백이 들어간 데이터가 제거되었음을 확인합니다."
      ],
      "metadata": {
        "id": "d19Kmwywji2S"
      }
    },
    {
      "cell_type": "code",
      "source": [
        "corona.loc[corona['지역'] == '관악구 ']"
      ],
      "metadata": {
        "id": "Tb73qretjgKB"
      },
      "execution_count": null,
      "outputs": []
    },
    {
      "cell_type": "markdown",
      "source": [
        "**구**가 빠진 지역명은 구를 추가합니다."
      ],
      "metadata": {
        "id": "6__xZq9Ijy_5"
      }
    },
    {
      "cell_type": "code",
      "source": [
        "plt.figure(figsize=(12, 10))\n",
        "corona.groupby('지역')['연번'].count().plot(kind='bar')\n",
        "plt.show()"
      ],
      "metadata": {
        "id": "XBJZSkCojiap"
      },
      "execution_count": null,
      "outputs": []
    },
    {
      "cell_type": "code",
      "source": [
        "target = ['동대문', '서대문', '송파', '영등포']"
      ],
      "metadata": {
        "id": "N0uuCMqXj4Hh"
      },
      "execution_count": null,
      "outputs": []
    },
    {
      "cell_type": "code",
      "source": [
        "corona['지역'].apply(lambda x: x + '구' if x in target else x).value_counts()"
      ],
      "metadata": {
        "id": "mjGOfDcgkALp"
      },
      "execution_count": null,
      "outputs": []
    },
    {
      "cell_type": "code",
      "source": [
        "corona['지역'] = corona['지역'].apply(lambda x: x + '구' if x in target else x)"
      ],
      "metadata": {
        "id": "MDj8mAcmkIOq"
      },
      "execution_count": null,
      "outputs": []
    },
    {
      "cell_type": "markdown",
      "source": [
        "지역이 깔끔하게 전처리 되었음을 확인합니다."
      ],
      "metadata": {
        "id": "hYdF6BxZkRty"
      }
    },
    {
      "cell_type": "code",
      "source": [
        "plt.figure(figsize=(12, 10))\n",
        "corona.groupby('지역')['연번'].count().plot(kind='bar')\n",
        "plt.show()"
      ],
      "metadata": {
        "id": "_PgvjDUjkOMx"
      },
      "execution_count": null,
      "outputs": []
    },
    {
      "cell_type": "markdown",
      "source": [
        "확진자 숫자를 기준으로 오름차순 정렬합니다."
      ],
      "metadata": {
        "id": "Fztg6U6nkdT5"
      }
    },
    {
      "cell_type": "code",
      "source": [
        "plt.figure(figsize=(12, 10))\n",
        "corona.groupby('지역')['연번'].count().sort_values().plot(kind='bar')\n",
        "plt.show()"
      ],
      "metadata": {
        "id": "5WuaKUx7kPkp"
      },
      "execution_count": null,
      "outputs": []
    },
    {
      "cell_type": "code",
      "source": [
        "import folium\n",
        "import requests\n",
        "import json"
      ],
      "metadata": {
        "id": "uZsXBfmKkhbJ"
      },
      "execution_count": null,
      "outputs": []
    },
    {
      "cell_type": "code",
      "source": [
        "# 서울 행정구역 json raw파일(githubcontent)\n",
        "r = requests.get('https://raw.githubusercontent.com/southkorea/seoul-maps/master/kostat/2013/json/seoul_municipalities_geo_simple.json')\n",
        "c = r.content\n",
        "seoul_geo = json.loads(c)"
      ],
      "metadata": {
        "id": "_ti6CDgmkoLh"
      },
      "execution_count": null,
      "outputs": []
    },
    {
      "cell_type": "code",
      "source": [
        "# 위도\n",
        "latitude = 37.394946\n",
        "# 경도\n",
        "longitude = 127.111104"
      ],
      "metadata": {
        "id": "UcN3Hppfkvkz"
      },
      "execution_count": null,
      "outputs": []
    },
    {
      "cell_type": "code",
      "source": [
        "m = folium.Map(\n",
        "    location=[37.559819, 126.963895],\n",
        "    zoom_start=10, \n",
        "    tiles='cartodbpositron'\n",
        ")\n",
        "\n",
        "folium.GeoJson(\n",
        "    seoul_geo,\n",
        "    name='지역구'\n",
        ").add_to(m)\n",
        "\n",
        "m.choropleth(geo_data=seoul_geo,\n",
        "             data=corona.groupby('지역')['연번'].count().sort_values(),\n",
        "             fill_color='YlOrRd', # 색상 변경도 가능하다\n",
        "             fill_opacity=0.3,\n",
        "             line_opacity=0.2,\n",
        "             key_on='properties.name',\n",
        "             legend_name=f'코로나 확진자 현황', \n",
        "            )\n",
        "m"
      ],
      "metadata": {
        "id": "eLdm8LtSkypi"
      },
      "execution_count": null,
      "outputs": []
    },
    {
      "cell_type": "code",
      "source": [
        "corona.head()"
      ],
      "metadata": {
        "id": "VVyV6CUtna8r"
      },
      "execution_count": null,
      "outputs": []
    },
    {
      "cell_type": "code",
      "source": [
        "corona_df = corona.groupby('확진일')['연번'].count().reset_index()\n",
        "corona_df"
      ],
      "metadata": {
        "id": "dSOlccUNnc4S"
      },
      "execution_count": null,
      "outputs": []
    },
    {
      "cell_type": "code",
      "source": [
        "corona_df.columns = ['ds', 'y']\n",
        "corona_df"
      ],
      "metadata": {
        "id": "BUldChXjnnoz"
      },
      "execution_count": null,
      "outputs": []
    },
    {
      "cell_type": "code",
      "source": [
        "from fbprophet import Prophet\n",
        "from fbprophet.plot import plot_plotly, plot_components_plotly\n",
        "\n",
        "m = Prophet(changepoint_prior_scale=5.5, yearly_seasonality=False, weekly_seasonality=True, daily_seasonality=False)\n",
        "m.fit(corona_df)"
      ],
      "metadata": {
        "id": "OzlEopNCkzYZ"
      },
      "execution_count": null,
      "outputs": []
    },
    {
      "cell_type": "code",
      "source": [
        "future = m.make_future_dataframe(periods=30)\n",
        "future.tail()"
      ],
      "metadata": {
        "id": "VnyEtgWbn3Dr"
      },
      "execution_count": null,
      "outputs": []
    },
    {
      "cell_type": "code",
      "source": [
        "forecast = m.predict(future)\n",
        "forecast.tail()"
      ],
      "metadata": {
        "id": "Z4JBuK3Zn9ID"
      },
      "execution_count": null,
      "outputs": []
    },
    {
      "cell_type": "code",
      "source": [
        "fig = m.plot(forecast)"
      ],
      "metadata": {
        "id": "megbJFh0pBsb"
      },
      "execution_count": null,
      "outputs": []
    },
    {
      "cell_type": "code",
      "source": [
        "from fbprophet.plot import add_changepoints_to_plot\n",
        "\n",
        "fig = m.plot(forecast)\n",
        "a = add_changepoints_to_plot(fig.gca(), m, forecast)"
      ],
      "metadata": {
        "id": "u0oFNajsoBEL"
      },
      "execution_count": null,
      "outputs": []
    },
    {
      "cell_type": "code",
      "source": [
        "# 최근 N일 데이터로 시뮬레이션 결과\n",
        "N = 200\n",
        "m = Prophet(changepoint_prior_scale=1.5, yearly_seasonality=False, weekly_seasonality=True, daily_seasonality=False)\n",
        "forecast = m.fit(corona_df.iloc[-N:]).predict(future.iloc[-N:])\n",
        "fig = m.plot(forecast)\n",
        "a = add_changepoints_to_plot(fig.gca(), m, forecast)"
      ],
      "metadata": {
        "id": "yITJcRndoVAi"
      },
      "execution_count": null,
      "outputs": []
    },
    {
      "cell_type": "code",
      "source": [
        "# 최근 N일 데이터로 시뮬레이션 결과\n",
        "N = 150\n",
        "m = Prophet(changepoint_prior_scale=1.5, yearly_seasonality=False, weekly_seasonality=True, daily_seasonality=False)\n",
        "forecast = m.fit(corona_df.iloc[-N:]).predict(future.iloc[-N:])\n",
        "fig = m.plot(forecast)\n",
        "a = add_changepoints_to_plot(fig.gca(), m, forecast)"
      ],
      "metadata": {
        "id": "OAt4b7s6qOI6"
      },
      "execution_count": null,
      "outputs": []
    },
    {
      "cell_type": "code",
      "source": [
        "# 최근 N일 데이터로 시뮬레이션 결과\n",
        "N = 100\n",
        "m = Prophet(changepoint_prior_scale=1.5, yearly_seasonality=False, weekly_seasonality=True, daily_seasonality=False)\n",
        "forecast = m.fit(corona_df.iloc[-N:]).predict(future.iloc[-N:])\n",
        "fig = m.plot(forecast)\n",
        "a = add_changepoints_to_plot(fig.gca(), m, forecast)"
      ],
      "metadata": {
        "id": "0fUze0bUqVLq"
      },
      "execution_count": null,
      "outputs": []
    }
  ],
  "metadata": {
    "colab": {
      "collapsed_sections": [],
      "name": "Facebook Prophet 시계열 데이터 예측",
      "provenance": []
    },
    "kernelspec": {
      "display_name": "Python 3",
      "language": "python",
      "name": "python3"
    },
    "language_info": {
      "codemirror_mode": {
        "name": "ipython",
        "version": 3
      },
      "file_extension": ".py",
      "mimetype": "text/x-python",
      "name": "python",
      "nbconvert_exporter": "python",
      "pygments_lexer": "ipython3",
      "version": "3.6.10"
    }
  },
  "nbformat": 4,
  "nbformat_minor": 0
}