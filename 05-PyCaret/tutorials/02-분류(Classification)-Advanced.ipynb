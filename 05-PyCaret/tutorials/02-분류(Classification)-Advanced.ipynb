{
 "cells": [
  {
   "cell_type": "markdown",
   "id": "5ae0e343",
   "metadata": {
    "id": "5ae0e343"
   },
   "source": [
    "## PyCaret 설치"
   ]
  },
  {
   "cell_type": "code",
   "execution_count": null,
   "id": "47484d8d",
   "metadata": {
    "id": "47484d8d"
   },
   "outputs": [],
   "source": [
    "!pip install pycaret"
   ]
  },
  {
   "cell_type": "markdown",
   "id": "b26c3873",
   "metadata": {
    "id": "b26c3873"
   },
   "source": [
    "Google Colab 사용자의 경우 다음의 코드를 실행합니다."
   ]
  },
  {
   "cell_type": "code",
   "execution_count": null,
   "id": "bce29045",
   "metadata": {
    "id": "bce29045"
   },
   "outputs": [],
   "source": [
    "from pycaret.utils import enable_colab\n",
    "\n",
    "enable_colab()"
   ]
  },
  {
   "cell_type": "markdown",
   "id": "7f4674cd",
   "metadata": {
    "id": "7f4674cd"
   },
   "source": [
    "## 필요한 모듈 import"
   ]
  },
  {
   "cell_type": "code",
   "execution_count": null,
   "id": "77da6ea3",
   "metadata": {
    "id": "77da6ea3"
   },
   "outputs": [],
   "source": [
    "import pandas as pd\n",
    "import numpy as np\n",
    "import seaborn as sns\n",
    "\n",
    "pd.options.display.max_columns = None"
   ]
  },
  {
   "cell_type": "markdown",
   "id": "73ffae10",
   "metadata": {
    "id": "73ffae10"
   },
   "source": [
    "## 실습을 위한 데이터셋 로드"
   ]
  },
  {
   "cell_type": "code",
   "execution_count": null,
   "id": "NNEh2pF7ivJ8",
   "metadata": {
    "id": "NNEh2pF7ivJ8"
   },
   "outputs": [],
   "source": [
    "dataset = sns.load_dataset('titanic')\n",
    "dataset.head()"
   ]
  },
  {
   "cell_type": "code",
   "execution_count": null,
   "id": "222a5388",
   "metadata": {
    "id": "222a5388"
   },
   "outputs": [],
   "source": [
    "# 데이터셋 크기 출력\n",
    "dataset.shape"
   ]
  },
  {
   "cell_type": "code",
   "execution_count": null,
   "id": "N-Xb7KZ-2oCC",
   "metadata": {
    "id": "N-Xb7KZ-2oCC"
   },
   "outputs": [],
   "source": [
    "train = dataset.sample(frac=0.8, random_state=786)\n",
    "test = dataset.drop(train.index)\n",
    "train.reset_index(inplace=True, drop=True)\n",
    "test.reset_index(inplace=True, drop=True)\n",
    "print('학습용 데이터셋: ' + str(train.shape))\n",
    "print('예측용 데이터셋: ' + str(test.shape))"
   ]
  },
  {
   "cell_type": "markdown",
   "id": "BMZj0fh9jJmi",
   "metadata": {
    "id": "BMZj0fh9jJmi"
   },
   "source": [
    "### 컬럼 설명\n",
    "\n",
    "- survivied: 생존여부 (1: 생존, 0: 사망)\n",
    "- pclass: 좌석 등급 (1등급, 2등급, 3등급)\n",
    "- sex: 성별\n",
    "- age: 나이\n",
    "- sibsp: 형제 + 배우자 수\n",
    "- parch: 부모 + 자녀 수\n",
    "- fare: 좌석 요금\n",
    "- embarked: 탑승 항구 (S, C, Q)\n",
    "- class: pclass와 동일\n",
    "- who: 성별과 동일\n",
    "- adult_male: 성인 남자 여부\n",
    "- deck: 데크 번호 (알파벳 + 숫자 혼용)\n",
    "- embark_town: 탑승 항구 이름\n",
    "- alive: 생존여부 (yes, no)\n",
    "- alone: 혼자 탑승 여부"
   ]
  },
  {
   "cell_type": "markdown",
   "id": "6beffef3",
   "metadata": {
    "id": "6beffef3"
   },
   "source": [
    "## 1-1) 셋업 setup"
   ]
  },
  {
   "cell_type": "markdown",
   "id": "aO28a9eQmR1g",
   "metadata": {
    "id": "aO28a9eQmR1g"
   },
   "source": [
    "머신러닝 예측 방식에 따라 다음 중 하나를 골라 import 합니다."
   ]
  },
  {
   "cell_type": "code",
   "execution_count": null,
   "id": "fe755196",
   "metadata": {
    "id": "fe755196"
   },
   "outputs": [],
   "source": [
    "from pycaret.classification import *    # 분류\n",
    "# from pycaret.regression import *      # 회귀\n",
    "# from pycaret.clustering import *      # 군집\n",
    "# from pycaret.anomaly import *         # 이상 탐지\n",
    "# from pycaret.arules import *          # 연관 규칙"
   ]
  },
  {
   "cell_type": "markdown",
   "id": "099f81a7",
   "metadata": {
    "id": "099f81a7"
   },
   "source": [
    "**`setup` 함수**\n",
    "\n",
    "- `data`: 학습할 데이터셋을 지정합니다.\n",
    "- `target`: 예측할 대상(target) 컬럼을 지정합니다.\n",
    "- `session_id`: SEED 값을 지정합니다.\n",
    "\n",
    "- `profile`: True로 설정시 데이터 프로파일링을 출력합니다."
   ]
  },
  {
   "cell_type": "code",
   "execution_count": null,
   "id": "XQ3dwHU9Lb5r",
   "metadata": {
    "id": "XQ3dwHU9Lb5r"
   },
   "outputs": [],
   "source": [
    "train.head(1)"
   ]
  },
  {
   "cell_type": "markdown",
   "id": "O1v2NEXqLj96",
   "metadata": {
    "id": "O1v2NEXqLj96"
   },
   "source": [
    "`ignore_features`에는 분석 / 학습에 무시할 컬럼을 지정합니다.\n",
    "\n",
    "- `alive`, `embark_town`, `class`는 다른 컬럼과 겹치는 컬럼이므로 제외합니다."
   ]
  },
  {
   "cell_type": "code",
   "execution_count": null,
   "id": "oc7Pq-GjL0A_",
   "metadata": {
    "id": "oc7Pq-GjL0A_"
   },
   "outputs": [],
   "source": [
    "ignore_features=['alive', 'embark_town', 'class']"
   ]
  },
  {
   "cell_type": "markdown",
   "id": "O1qGmf5wNt9C",
   "metadata": {
    "id": "O1qGmf5wNt9C"
   },
   "source": [
    "`categorical_features`에는 범주형 컬럼을 지정합니다.\n",
    "- `pclass`, `sex`, `embarked` 컬럼은 범주형 특성을 가집니다. 즉, 카테고리화 할 수 있는 컬럼을 의미합니다."
   ]
  },
  {
   "cell_type": "code",
   "execution_count": null,
   "id": "nzZ7QB_nL2Ga",
   "metadata": {
    "id": "nzZ7QB_nL2Ga"
   },
   "outputs": [],
   "source": [
    "categorical_features=['pclass', 'sex', 'embarked']"
   ]
  },
  {
   "cell_type": "markdown",
   "id": "Twj8n_RkN6CJ",
   "metadata": {
    "id": "Twj8n_RkN6CJ"
   },
   "source": [
    "`numeric_features`에는 수치형 컬럼을 지정합니다.\n",
    "- `age`, `fare`, `sibsp`, `parch`는 숫자형태의 데이터를 가지므로 수치형 컬럼에 지정합니다."
   ]
  },
  {
   "cell_type": "code",
   "execution_count": null,
   "id": "qEgZT-OHL_JC",
   "metadata": {
    "id": "qEgZT-OHL_JC"
   },
   "outputs": [],
   "source": [
    "numeric_features=['age', 'fare', 'sibsp', 'parch']"
   ]
  },
  {
   "cell_type": "code",
   "execution_count": null,
   "id": "f2278ada",
   "metadata": {
    "id": "f2278ada"
   },
   "outputs": [],
   "source": [
    "clf = setup(data=train, \n",
    "            target='survived', \n",
    "            ignore_features=ignore_features,           # 분석/학습에 고려하지 않을 feature(컬럼) 제거\n",
    "            categorical_features=categorical_features, # 범주형 컬럼 지정\n",
    "            numeric_features=numeric_features,         # 수치형 컬럼 지정\n",
    "            session_id=123, \n",
    "            silent=True,\n",
    "            ) "
   ]
  },
  {
   "cell_type": "markdown",
   "id": "BL9ZOqVvOfDS",
   "metadata": {
    "id": "BL9ZOqVvOfDS"
   },
   "source": [
    "## 1-2) 고급 데이터 전처리\n",
    "\n",
    "[문서 링크](https://pycaret.readthedocs.io/en/latest/api/classification.html)"
   ]
  },
  {
   "cell_type": "markdown",
   "id": "dP34AevKREVY",
   "metadata": {
    "id": "dP34AevKREVY"
   },
   "source": [
    "### `categorical_imputation`: str, default = ‘constant’"
   ]
  },
  {
   "cell_type": "markdown",
   "id": "e3ZYAXIsOhvx",
   "metadata": {
    "id": "e3ZYAXIsOhvx"
   },
   "source": [
    "범주형 데이터에 대한 결측치를 어떻게 채워줄지에 대한 전략을 지정합니다. 기본 값은 `constant`이며 `constant`로 지정시 **not_available**로 채워지게 됩니다.\n",
    "\n",
    "`mode`로 변경시 최빈 값으로 채워지게 됩니다."
   ]
  },
  {
   "cell_type": "code",
   "execution_count": null,
   "id": "_V2v84CMOwKx",
   "metadata": {
    "id": "_V2v84CMOwKx"
   },
   "outputs": [],
   "source": [
    "clf = setup(data=train, \n",
    "            target='survived', \n",
    "            ignore_features=ignore_features,           # 분석/학습에 고려하지 않을 feature(컬럼) 제거\n",
    "            categorical_features=categorical_features, # 범주형 컬럼 지정\n",
    "            numeric_features=numeric_features,         # 수치형 컬럼 지정\n",
    "            categorical_imputation='mode',             # 범주형 결측치를 최빈값으로 채움\n",
    "            session_id=123, \n",
    "            silent=True,\n",
    "            ) "
   ]
  },
  {
   "cell_type": "markdown",
   "id": "GpQ5Q6NKPZrB",
   "metadata": {
    "id": "GpQ5Q6NKPZrB"
   },
   "source": [
    "`high_cardinality_features`: list of str, default = None\n",
    "\n",
    "범주형의 데이터 종류(level)가 많은 경우 우리는 몇 가지의 대분류로 압축하여 데이터를 단순화 할 수 있습니다.\n",
    "```\n",
    "(예시)\n",
    "United-States                 29170\n",
    "Mexico                          643\n",
    "?                               583\n",
    "Philippines                     198\n",
    "Germany                         137\n",
    "Canada                          121\n",
    "Puerto-Rico                     114\n",
    "El-Salvador                     106\n",
    "India                           100\n",
    "Cuba                             95\n",
    "England                          90\n",
    "Jamaica                          81\n",
    "South                            80\n",
    "China                            75\n",
    "Italy                            73\n",
    "Dominican-Republic               70\n",
    "Vietnam                          67\n",
    "Guatemala                        64\n",
    "Japan                            62\n",
    "Poland                           60\n",
    "Columbia                         59\n",
    "Taiwan                           51\n",
    "Haiti                            44\n",
    "Iran                             43\n",
    "Portugal                         37\n",
    "Nicaragua                        34\n",
    "Peru                             31\n",
    "France                           29\n",
    "Greece                           29\n",
    "Ecuador                          28\n",
    "Ireland                          24\n",
    "Hong                             20\n",
    "Cambodia                         19\n",
    "Trinadad&Tobago                  19\n",
    "Laos                             18\n",
    "Thailand                         18\n",
    "Yugoslavia                       16\n",
    "Outlying-US(Guam-USVI-etc)       14\n",
    "Honduras                         13\n",
    "Hungary                          13\n",
    "Scotland                         12\n",
    "Holand-Netherlands                1\n",
    "Name: native_country, dtype: int64\n",
    "```"
   ]
  },
  {
   "cell_type": "markdown",
   "id": "79KmFHTPQRnB",
   "metadata": {
    "id": "79KmFHTPQRnB"
   },
   "source": [
    "위의 국가별 범주를 살펴봤을 때 너무 많은 범주가 존재하기 때문에 효율적인 학습이 어렵습니다.\n",
    "\n",
    "우리는 임의의 그룹을 만들어 단순화할 수 있습니다.\n",
    "\n",
    "```\n",
    "income_01 = ['Jamaica',\n",
    " 'Haiti',\n",
    " 'Puerto-Rico',\n",
    " 'Laos',\n",
    " 'Thailand',\n",
    " 'Ecuador',]\n",
    "\n",
    "income_02 = ['Outlying-US(Guam-USVI-etc)',\n",
    " 'Honduras',\n",
    " 'Columbia',\n",
    " 'Dominican-Republic',\n",
    " 'Mexico',\n",
    " 'Guatemala',\n",
    " 'Portugal',\n",
    " 'Trinadad&Tobago',\n",
    " 'Nicaragua',\n",
    " 'Peru',\n",
    " 'Vietnam',\n",
    " 'El-Salvador',]\n",
    "\n",
    "income_03 = ['Poland',\n",
    " 'Ireland',\n",
    " 'South',\n",
    " 'China',]\n",
    "\n",
    "income_04 = [\n",
    "    'United-States',\n",
    "]\n",
    "income_05 = [\n",
    " 'Greece',\n",
    " 'Scotland',\n",
    " 'Cuba',\n",
    " 'Hungary',\n",
    " 'Hong',\n",
    " 'Holand-Netherlands',\n",
    "]\n",
    "income_06 = [\n",
    " 'Philippines',\n",
    " 'Canada',\n",
    "]\n",
    "income_07 = [\n",
    " 'England',\n",
    " 'Germany',\n",
    "]\n",
    "\n",
    "income_08 = [\n",
    " 'Italy',\n",
    " 'India',\n",
    " 'Japan',\n",
    " 'France',\n",
    " 'Yugoslavia',\n",
    " 'Cambodia',\n",
    "]\n",
    "\n",
    "income_09 = [\n",
    " 'Taiwan',\n",
    " 'Iran',\n",
    "]\n",
    "\n",
    "income_other=['?', ]\n",
    "```"
   ]
  },
  {
   "cell_type": "markdown",
   "id": "wQUrgw5qQhYx",
   "metadata": {
    "id": "wQUrgw5qQhYx"
   },
   "source": [
    "```\n",
    "(결과)\n",
    "income_04       29170\n",
    "income_02        1157\n",
    "income_other      583\n",
    "income_06         319\n",
    "income_01         303\n",
    "income_08         299\n",
    "income_03         239\n",
    "income_07         227\n",
    "income_05         170\n",
    "income_09          94\n",
    "Name: country_bin, dtype: int64\n",
    "```"
   ]
  },
  {
   "cell_type": "markdown",
   "id": "CZQRtRROQnhZ",
   "metadata": {
    "id": "CZQRtRROQnhZ"
   },
   "source": [
    "`high_cardinality_features`에 리스트 형식으로 컬럼을 지정해주면 됩니다."
   ]
  },
  {
   "cell_type": "markdown",
   "id": "E2C6BzcgRAQG",
   "metadata": {
    "id": "E2C6BzcgRAQG"
   },
   "source": [
    "### imputation_type: str, default = ‘simple’"
   ]
  },
  {
   "cell_type": "markdown",
   "id": "1n0P847XQwtR",
   "metadata": {
    "id": "1n0P847XQwtR"
   },
   "source": [
    "`imputation`은 결측치를 채우는 전략입니다.\n",
    "\n",
    "`imputation_type`은 기본 `simple`이 지정되어 있어, 결측단순 값으로 치환됩니다. 예를 들면 **평균**, **중앙값**과 같은 단순 값으로 말이죠.\n",
    "\n",
    "하지만, 머신러닝 알고리즘을 활용하여 예측하여 값을 채워 줄 수 있습니다. 적용하기 위해서는 `imputation_type='iterative'`로 설정합니다.\n",
    "\n",
    "`iterative_imputation_iters`은 iteration 횟수를 지정하는데, 기본 5가 설정되어 있습니다.\n",
    "- 너무 숫자를 늘리게 되면 과적합될 수 있습니다."
   ]
  },
  {
   "cell_type": "code",
   "execution_count": null,
   "id": "Getvydg7RmpB",
   "metadata": {
    "id": "Getvydg7RmpB"
   },
   "outputs": [],
   "source": [
    "clf = setup(data=train, \n",
    "            target='survived', \n",
    "            ignore_features=ignore_features,           # 분석/학습에 고려하지 않을 feature(컬럼) 제거\n",
    "            categorical_features=categorical_features, # 범주형 컬럼 지정\n",
    "            numeric_features=numeric_features,         # 수치형 컬럼 지정\n",
    "            categorical_imputation='mode',             # 범주형 결측치를 최빈값으로 채움\n",
    "            imputation_type='iterative',               # 결측치를 lightgbm으로 예측하여 채움\n",
    "            iterative_imputation_iters=10,             # imputation iteration 지정\n",
    "            session_id=123, \n",
    "            silent=True,\n",
    "            ) "
   ]
  },
  {
   "cell_type": "markdown",
   "id": "mycW-MMbSVnC",
   "metadata": {
    "id": "mycW-MMbSVnC"
   },
   "source": [
    "### normalize / normalize_method"
   ]
  },
  {
   "cell_type": "markdown",
   "id": "BGDJRi8ASlOx",
   "metadata": {
    "id": "BGDJRi8ASlOx"
   },
   "source": [
    "- `normalize`: bool, default = False\n",
    "- `normalize_method`: str, default = ‘zscore’"
   ]
  },
  {
   "cell_type": "markdown",
   "id": "qZmEfC2mSZch",
   "metadata": {
    "id": "qZmEfC2mSZch"
   },
   "source": [
    "`normalize`는 데이터의 정규화/표준화 여부를 설정합니다.\n",
    "\n",
    "`normalize_method`는 기본 'zscore'가 설정되어 있습니다.\n",
    "\n",
    "- 'minmax': scales and translates each feature individually such that it is in the range of 0 - 1.\n",
    "- 'maxabs': scales and translates each feature individually such that the maximal absolute value of each feature will be 1.0.\n",
    "- 'robust': scales and translates each feature according to the Interquartile range. When the dataset contains outliers, robust scaler often gives better results."
   ]
  },
  {
   "cell_type": "code",
   "execution_count": null,
   "id": "25n3JqfPTHqp",
   "metadata": {
    "id": "25n3JqfPTHqp"
   },
   "outputs": [],
   "source": [
    "clf = setup(data=train, \n",
    "            target='survived', \n",
    "            ignore_features=ignore_features,           # 분석/학습에 고려하지 않을 feature(컬럼) 제거\n",
    "            categorical_features=categorical_features, # 범주형 컬럼 지정\n",
    "            numeric_features=numeric_features,         # 수치형 컬럼 지정\n",
    "            categorical_imputation='mode',             # 범주형 결측치를 최빈값으로 채움\n",
    "            imputation_type='iterative',               # 결측치를 lightgbm으로 예측하여 채움\n",
    "            iterative_imputation_iters=10,             # imputation iteration 지정\n",
    "            normalize=True,                            # 정규화 적용\n",
    "            normalize_method='zscore',                 # 정규화 방식 지정\n",
    "            session_id=123, \n",
    "            silent=True,\n",
    "            ) "
   ]
  },
  {
   "cell_type": "markdown",
   "id": "b91d2d5d",
   "metadata": {
    "id": "b91d2d5d"
   },
   "source": [
    "## 2-1) 모든 모델에 대한 학습 compare_models\n",
    "\n",
    "`compare_models`\n",
    "- `sort`: 정렬 기준이 되는 평가지표를 설정합니다.\n",
    "- `n_select`: 상위 N개의 알고리즘을 선택합니다.\n",
    "- `fold`: Cross Validation 평가 Fold의 개수를 지정합니다."
   ]
  },
  {
   "cell_type": "code",
   "execution_count": null,
   "id": "0a74e38e",
   "metadata": {
    "id": "0a74e38e"
   },
   "outputs": [],
   "source": [
    "best_models = compare_models(sort='Accuracy', n_select=3, fold=5)"
   ]
  },
  {
   "cell_type": "markdown",
   "id": "t68rVj-gfciG",
   "metadata": {
    "id": "t68rVj-gfciG"
   },
   "source": [
    "### 모델 블렌딩 blend_models\n",
    "\n",
    "- `compare_models`로 추출된 best 모델에 대하여 모델 블렌딩하여 성능 개선\n",
    "- `Soft` voting 방식으로 `estimator_list`에 적용된 모델을 앙상블\n",
    "- `Voting Ensemble`"
   ]
  },
  {
   "cell_type": "code",
   "execution_count": null,
   "id": "qLwzgiNYfG8N",
   "metadata": {
    "id": "qLwzgiNYfG8N"
   },
   "outputs": [],
   "source": [
    "blended_models = blend_models(best_models, fold=5)"
   ]
  },
  {
   "cell_type": "markdown",
   "id": "JwzPvXm2hqCf",
   "metadata": {
    "id": "JwzPvXm2hqCf"
   },
   "source": [
    "## 2-2) 단일 모델 생성 create_model / 배깅 앙상블 ensemble_"
   ]
  },
  {
   "cell_type": "markdown",
   "id": "2KXSiuGTIO96",
   "metadata": {
    "id": "2KXSiuGTIO96"
   },
   "source": [
    "단일 모델을 생성하기 위해서는 `create_model`로 생성할 수 있습니다.\n",
    "\n",
    "단일 모델 리스트\n",
    "- `lr` - Logistic Regression\n",
    "- `knn` - K Neighbors Classifier\n",
    "- `nb` - Naive Bayes\n",
    "- `dt` - Decision Tree Classifier\n",
    "- `svm` - SVM - Linear Kernel\n",
    "- `rbfsvm` - SVM - Radial Kernel\n",
    "- `gpc` - Gaussian Process Classifier\n",
    "- `mlp` - MLP Classifier\n",
    "- `ridge` - Ridge Classifier\n",
    "- `rf` - Random Forest Classifier\n",
    "- `qda` - Quadratic Discriminant Analysis\n",
    "- `ada` - Ada Boost Classifier\n",
    "- `gbc` - Gradient Boosting Classifier\n",
    "- `lda` - Linear Discriminant Analysis\n",
    "- `et` - Extra Trees Classifier\n",
    "- `xgboost` - Extreme Gradient Boosting\n",
    "- `lightgbm` - Light Gradient Boosting Machine\n",
    "- `catboost` - CatBoost Classifier"
   ]
  },
  {
   "cell_type": "code",
   "execution_count": null,
   "id": "C3B7yEI1hvae",
   "metadata": {
    "id": "C3B7yEI1hvae"
   },
   "outputs": [],
   "source": [
    "dt = create_model('dt')"
   ]
  },
  {
   "cell_type": "markdown",
   "id": "Er5WoBGhIfrq",
   "metadata": {
    "id": "Er5WoBGhIfrq"
   },
   "source": [
    "### 배깅 앙상블 ensemble_model"
   ]
  },
  {
   "cell_type": "code",
   "execution_count": null,
   "id": "d0FRjnd5h1SN",
   "metadata": {
    "id": "d0FRjnd5h1SN"
   },
   "outputs": [],
   "source": [
    "ensembled_models = ensemble_model(dt)"
   ]
  },
  {
   "cell_type": "markdown",
   "id": "ombHKHXoli3a",
   "metadata": {
    "id": "ombHKHXoli3a"
   },
   "source": [
    "## 3) 모델 예측 predict_model\n",
    "\n",
    "- `Label`에 예측된 결과를 확인할 수 있습니다.\n",
    "- `Score`에 예측된 결과의 **확률** 값을 확인할 수 있습니다."
   ]
  },
  {
   "cell_type": "code",
   "execution_count": null,
   "id": "aR5eG-KrGGvc",
   "metadata": {
    "id": "aR5eG-KrGGvc"
   },
   "outputs": [],
   "source": [
    "predict_model(data=dataset, estimator=ensembled_models)"
   ]
  },
  {
   "cell_type": "markdown",
   "id": "hwihJrs9Iyvo",
   "metadata": {
    "id": "hwihJrs9Iyvo"
   },
   "source": [
    "## 4) 모델 분석 interpret_model\n"
   ]
  },
  {
   "cell_type": "markdown",
   "id": "yjLyQeBdF4MP",
   "metadata": {
    "id": "yjLyQeBdF4MP"
   },
   "source": [
    "### 특성 중요도 Feature Importances\n",
    "\n",
    "각 특성별 종속변수(Y)에 미치는 영향도를 계산"
   ]
  },
  {
   "cell_type": "code",
   "execution_count": null,
   "id": "mtQLRQk2F0QY",
   "metadata": {
    "id": "mtQLRQk2F0QY"
   },
   "outputs": [],
   "source": [
    "plot_model(dt, plot='feature')"
   ]
  },
  {
   "cell_type": "markdown",
   "id": "IMpHTVkLGBvA",
   "metadata": {
    "id": "IMpHTVkLGBvA"
   },
   "source": [
    "### 오차행렬 confusion_matrix"
   ]
  },
  {
   "cell_type": "code",
   "execution_count": null,
   "id": "X1hfsg8DHuuo",
   "metadata": {
    "id": "X1hfsg8DHuuo"
   },
   "outputs": [],
   "source": [
    "from IPython.display import Image\n",
    "\n",
    "Image('https://skappal7.files.wordpress.com/2018/08/confusion-matrix.jpg', width=750)"
   ]
  },
  {
   "cell_type": "code",
   "execution_count": null,
   "id": "QjCjULiaF0lQ",
   "metadata": {
    "id": "QjCjULiaF0lQ"
   },
   "outputs": [],
   "source": [
    "plot_model(dt, plot='confusion_matrix')"
   ]
  },
  {
   "cell_type": "markdown",
   "id": "E3vx9SmtHZzY",
   "metadata": {
    "id": "E3vx9SmtHZzY"
   },
   "source": [
    "**정밀도 Precision**\n",
    "\n",
    "- TP / (FP + TP)\n",
    "- 중요 사례: 스팸 분류 (스팸으로 분류한 메일 중에서 중요 메일이 있는 경우\n",
    "                \n",
    "**재현율 Recall**\n",
    "\n",
    "- TP / (FN + TP)\n",
    "- 중요 사례: 암 진단 (암 환자를 건강으로 분류하는 경우)"
   ]
  },
  {
   "cell_type": "markdown",
   "id": "2mcs6jvMHybo",
   "metadata": {
    "id": "2mcs6jvMHybo"
   },
   "source": [
    "### 섀플리 분석 SHAP(SHapley Additive exPlanations)"
   ]
  },
  {
   "cell_type": "markdown",
   "id": "gJHYnQEtFzlY",
   "metadata": {
    "id": "gJHYnQEtFzlY"
   },
   "source": [
    "- 게임 이론에서 처음 등장하였으며, 머신러닝 모델을 분석하기 시작하면서 다시 주목받고 있음\n",
    "- 섀플리 값 (SHAP Value)는 각각의 데이터가 종속변수 (Y)에 미치는 영향도를 계산한 값 (기여도를 수치화)\n"
   ]
  },
  {
   "cell_type": "code",
   "execution_count": null,
   "id": "8TV9ditZJzEX",
   "metadata": {
    "id": "8TV9ditZJzEX"
   },
   "outputs": [],
   "source": [
    "# 섀플리 설치\n",
    "!pip install shap"
   ]
  },
  {
   "cell_type": "code",
   "execution_count": null,
   "id": "gVWZp8-5JuPR",
   "metadata": {
    "id": "gVWZp8-5JuPR"
   },
   "outputs": [],
   "source": [
    "interpret_model(dt)"
   ]
  },
  {
   "cell_type": "code",
   "execution_count": null,
   "id": "FtDpTLYUKdmC",
   "metadata": {
    "id": "FtDpTLYUKdmC"
   },
   "outputs": [],
   "source": [
    "interpret_model(dt, plot='reason')"
   ]
  }
 ],
 "metadata": {
  "colab": {
   "collapsed_sections": [],
   "machine_shape": "hm",
   "name": "01_분류_level2",
   "provenance": []
  },
  "kernelspec": {
   "display_name": "Python 3 (ipykernel)",
   "language": "python",
   "name": "python3"
  },
  "language_info": {
   "codemirror_mode": {
    "name": "ipython",
    "version": 3
   },
   "file_extension": ".py",
   "mimetype": "text/x-python",
   "name": "python",
   "nbconvert_exporter": "python",
   "pygments_lexer": "ipython3",
   "version": "3.8.13"
  }
 },
 "nbformat": 4,
 "nbformat_minor": 5
}
