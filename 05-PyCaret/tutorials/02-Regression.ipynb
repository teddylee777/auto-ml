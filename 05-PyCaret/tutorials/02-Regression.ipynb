{
 "cells": [
  {
   "cell_type": "markdown",
   "id": "5ae0e343",
   "metadata": {
    "id": "5ae0e343"
   },
   "source": [
    "## PyCaret 설치"
   ]
  },
  {
   "cell_type": "code",
   "execution_count": 3,
   "id": "47484d8d",
   "metadata": {
    "id": "47484d8d"
   },
   "outputs": [
    {
     "name": "stdout",
     "output_type": "stream",
     "text": [
      "============================================================\n",
      "설치환경: Local\n",
      "별도의 PyCaret을 설치하지 않습니다(skip)\n",
      "PyCaret의 설치를 진행하려는 경우 다음의 명령어를 실행해 주세요\n",
      "!pip install pycaret\n",
      "============================================================\n",
      "[알림] 완료\n",
      "============================================================\n"
     ]
    }
   ],
   "source": [
    "import urllib.request\n",
    "\n",
    "url = 'https://www.dropbox.com/s/pq6n1vg90a4v6t4/pycaret_colab.py?dl=1'\n",
    "urllib.request.urlretrieve(url, 'pycaret_colab.py')\n",
    "%run pycaret_colab.py"
   ]
  },
  {
   "cell_type": "markdown",
   "id": "7f4674cd",
   "metadata": {
    "id": "7f4674cd"
   },
   "source": [
    "## 필요한 모듈 import"
   ]
  },
  {
   "cell_type": "code",
   "execution_count": 4,
   "id": "77da6ea3",
   "metadata": {
    "id": "77da6ea3"
   },
   "outputs": [],
   "source": [
    "import pandas as pd\n",
    "import numpy as np\n",
    "import seaborn as sns\n",
    "\n",
    "pd.options.display.max_columns = None"
   ]
  },
  {
   "cell_type": "markdown",
   "id": "73ffae10",
   "metadata": {
    "id": "73ffae10"
   },
   "source": [
    "## 실습을 위한 데이터셋 로드"
   ]
  },
  {
   "cell_type": "code",
   "execution_count": 5,
   "id": "NNEh2pF7ivJ8",
   "metadata": {
    "id": "NNEh2pF7ivJ8"
   },
   "outputs": [
    {
     "data": {
      "text/html": [
       "<div>\n",
       "<style scoped>\n",
       "    .dataframe tbody tr th:only-of-type {\n",
       "        vertical-align: middle;\n",
       "    }\n",
       "\n",
       "    .dataframe tbody tr th {\n",
       "        vertical-align: top;\n",
       "    }\n",
       "\n",
       "    .dataframe thead th {\n",
       "        text-align: right;\n",
       "    }\n",
       "</style>\n",
       "<table border=\"1\" class=\"dataframe\">\n",
       "  <thead>\n",
       "    <tr style=\"text-align: right;\">\n",
       "      <th></th>\n",
       "      <th>Carat Weight</th>\n",
       "      <th>Cut</th>\n",
       "      <th>Color</th>\n",
       "      <th>Clarity</th>\n",
       "      <th>Polish</th>\n",
       "      <th>Symmetry</th>\n",
       "      <th>Report</th>\n",
       "      <th>Price</th>\n",
       "    </tr>\n",
       "  </thead>\n",
       "  <tbody>\n",
       "    <tr>\n",
       "      <th>0</th>\n",
       "      <td>1.10</td>\n",
       "      <td>Ideal</td>\n",
       "      <td>H</td>\n",
       "      <td>SI1</td>\n",
       "      <td>VG</td>\n",
       "      <td>EX</td>\n",
       "      <td>GIA</td>\n",
       "      <td>5169</td>\n",
       "    </tr>\n",
       "    <tr>\n",
       "      <th>1</th>\n",
       "      <td>0.83</td>\n",
       "      <td>Ideal</td>\n",
       "      <td>H</td>\n",
       "      <td>VS1</td>\n",
       "      <td>ID</td>\n",
       "      <td>ID</td>\n",
       "      <td>AGSL</td>\n",
       "      <td>3470</td>\n",
       "    </tr>\n",
       "    <tr>\n",
       "      <th>2</th>\n",
       "      <td>0.85</td>\n",
       "      <td>Ideal</td>\n",
       "      <td>H</td>\n",
       "      <td>SI1</td>\n",
       "      <td>EX</td>\n",
       "      <td>EX</td>\n",
       "      <td>GIA</td>\n",
       "      <td>3183</td>\n",
       "    </tr>\n",
       "    <tr>\n",
       "      <th>3</th>\n",
       "      <td>0.91</td>\n",
       "      <td>Ideal</td>\n",
       "      <td>E</td>\n",
       "      <td>SI1</td>\n",
       "      <td>VG</td>\n",
       "      <td>VG</td>\n",
       "      <td>GIA</td>\n",
       "      <td>4370</td>\n",
       "    </tr>\n",
       "    <tr>\n",
       "      <th>4</th>\n",
       "      <td>0.83</td>\n",
       "      <td>Ideal</td>\n",
       "      <td>G</td>\n",
       "      <td>SI1</td>\n",
       "      <td>EX</td>\n",
       "      <td>EX</td>\n",
       "      <td>GIA</td>\n",
       "      <td>3171</td>\n",
       "    </tr>\n",
       "  </tbody>\n",
       "</table>\n",
       "</div>"
      ],
      "text/plain": [
       "   Carat Weight    Cut Color Clarity Polish Symmetry Report  Price\n",
       "0          1.10  Ideal     H     SI1     VG       EX    GIA   5169\n",
       "1          0.83  Ideal     H     VS1     ID       ID   AGSL   3470\n",
       "2          0.85  Ideal     H     SI1     EX       EX    GIA   3183\n",
       "3          0.91  Ideal     E     SI1     VG       VG    GIA   4370\n",
       "4          0.83  Ideal     G     SI1     EX       EX    GIA   3171"
      ]
     },
     "metadata": {},
     "output_type": "display_data"
    }
   ],
   "source": [
    "from pycaret.datasets import get_data\n",
    "dataset = get_data('diamond')"
   ]
  },
  {
   "cell_type": "code",
   "execution_count": 6,
   "id": "222a5388",
   "metadata": {
    "id": "222a5388"
   },
   "outputs": [
    {
     "data": {
      "text/plain": [
       "(6000, 8)"
      ]
     },
     "execution_count": 6,
     "metadata": {},
     "output_type": "execute_result"
    }
   ],
   "source": [
    "# 데이터셋 크기 출력\n",
    "dataset.shape"
   ]
  },
  {
   "cell_type": "code",
   "execution_count": 7,
   "id": "N-Xb7KZ-2oCC",
   "metadata": {
    "id": "N-Xb7KZ-2oCC"
   },
   "outputs": [
    {
     "name": "stdout",
     "output_type": "stream",
     "text": [
      "학습용 데이터셋: (4800, 8)\n",
      "예측용 데이터셋: (1200, 8)\n"
     ]
    }
   ],
   "source": [
    "train = dataset.sample(frac=0.8, random_state=123)\n",
    "test = dataset.drop(train.index)\n",
    "train.reset_index(inplace=True, drop=True)\n",
    "test.reset_index(inplace=True, drop=True)\n",
    "\n",
    "print('학습용 데이터셋: ' + str(train.shape))\n",
    "print('예측용 데이터셋: ' + str(test.shape))"
   ]
  },
  {
   "cell_type": "markdown",
   "id": "6beffef3",
   "metadata": {
    "id": "6beffef3"
   },
   "source": [
    "## 설정: setup()"
   ]
  },
  {
   "cell_type": "markdown",
   "id": "aO28a9eQmR1g",
   "metadata": {
    "id": "aO28a9eQmR1g"
   },
   "source": [
    "머신러닝 예측 방식에 따라 다음 중 하나를 골라 import 합니다."
   ]
  },
  {
   "cell_type": "code",
   "execution_count": 8,
   "id": "fe755196",
   "metadata": {
    "id": "fe755196"
   },
   "outputs": [],
   "source": [
    "from pycaret.regression import *        # 회귀"
   ]
  },
  {
   "cell_type": "markdown",
   "id": "099f81a7",
   "metadata": {
    "id": "099f81a7"
   },
   "source": [
    "**`setup` 함수**\n",
    "\n",
    "- `data`: 학습할 데이터셋을 지정합니다.\n",
    "- `target`: 예측할 대상(target) 컬럼을 지정합니다.\n",
    "- `session_id`: SEED 값을 지정합니다."
   ]
  },
  {
   "cell_type": "code",
   "execution_count": 9,
   "id": "XQ3dwHU9Lb5r",
   "metadata": {
    "id": "XQ3dwHU9Lb5r"
   },
   "outputs": [
    {
     "data": {
      "text/html": [
       "<div>\n",
       "<style scoped>\n",
       "    .dataframe tbody tr th:only-of-type {\n",
       "        vertical-align: middle;\n",
       "    }\n",
       "\n",
       "    .dataframe tbody tr th {\n",
       "        vertical-align: top;\n",
       "    }\n",
       "\n",
       "    .dataframe thead th {\n",
       "        text-align: right;\n",
       "    }\n",
       "</style>\n",
       "<table border=\"1\" class=\"dataframe\">\n",
       "  <thead>\n",
       "    <tr style=\"text-align: right;\">\n",
       "      <th></th>\n",
       "      <th>Carat Weight</th>\n",
       "      <th>Cut</th>\n",
       "      <th>Color</th>\n",
       "      <th>Clarity</th>\n",
       "      <th>Polish</th>\n",
       "      <th>Symmetry</th>\n",
       "      <th>Report</th>\n",
       "      <th>Price</th>\n",
       "    </tr>\n",
       "  </thead>\n",
       "  <tbody>\n",
       "    <tr>\n",
       "      <th>0</th>\n",
       "      <td>0.75</td>\n",
       "      <td>Ideal</td>\n",
       "      <td>G</td>\n",
       "      <td>VVS2</td>\n",
       "      <td>EX</td>\n",
       "      <td>EX</td>\n",
       "      <td>GIA</td>\n",
       "      <td>3879</td>\n",
       "    </tr>\n",
       "    <tr>\n",
       "      <th>1</th>\n",
       "      <td>1.08</td>\n",
       "      <td>Ideal</td>\n",
       "      <td>F</td>\n",
       "      <td>SI1</td>\n",
       "      <td>VG</td>\n",
       "      <td>VG</td>\n",
       "      <td>GIA</td>\n",
       "      <td>5534</td>\n",
       "    </tr>\n",
       "    <tr>\n",
       "      <th>2</th>\n",
       "      <td>1.29</td>\n",
       "      <td>Very Good</td>\n",
       "      <td>G</td>\n",
       "      <td>VS1</td>\n",
       "      <td>G</td>\n",
       "      <td>VG</td>\n",
       "      <td>GIA</td>\n",
       "      <td>9105</td>\n",
       "    </tr>\n",
       "  </tbody>\n",
       "</table>\n",
       "</div>"
      ],
      "text/plain": [
       "   Carat Weight        Cut Color Clarity Polish Symmetry Report  Price\n",
       "0          0.75      Ideal     G    VVS2     EX       EX    GIA   3879\n",
       "1          1.08      Ideal     F     SI1     VG       VG    GIA   5534\n",
       "2          1.29  Very Good     G     VS1      G       VG    GIA   9105"
      ]
     },
     "execution_count": 9,
     "metadata": {},
     "output_type": "execute_result"
    }
   ],
   "source": [
    "train.head(3)"
   ]
  },
  {
   "cell_type": "code",
   "execution_count": 10,
   "id": "Z7zfUMjjYn95",
   "metadata": {
    "id": "Z7zfUMjjYn95"
   },
   "outputs": [],
   "source": [
    "clf = setup(data=train, \n",
    "            target='Price', \n",
    "            session_id=123, \n",
    "            verbose=False,\n",
    "            ) "
   ]
  },
  {
   "cell_type": "markdown",
   "id": "BL9ZOqVvOfDS",
   "metadata": {
    "id": "BL9ZOqVvOfDS"
   },
   "source": [
    "## 데이터 전처리\n",
    "\n",
    "[문서 링크](https://pycaret.readthedocs.io/en/latest/api/classification.html)"
   ]
  },
  {
   "cell_type": "markdown",
   "id": "GS4u_sFqYwf6",
   "metadata": {
    "id": "GS4u_sFqYwf6"
   },
   "source": [
    "### `remove_multicollinearity` / `multicollinearity_threshold`\n",
    "\n",
    "다중 공선성 문제가 발생할 수 있는 컬럼을 제거합니다."
   ]
  },
  {
   "cell_type": "code",
   "execution_count": 11,
   "id": "IIR7-X7gY-XI",
   "metadata": {
    "id": "IIR7-X7gY-XI"
   },
   "outputs": [],
   "source": [
    "clf = setup(data=train, \n",
    "            target='Price', \n",
    "            session_id=123, \n",
    "            remove_multicollinearity=True,      # collinearity 제거\n",
    "            multicollinearity_threshold = 0.95, # collinearity 제거 임계치\n",
    "            verbose=False,\n",
    "            ) "
   ]
  },
  {
   "cell_type": "markdown",
   "id": "Na1TBYOUZRCR",
   "metadata": {
    "id": "Na1TBYOUZRCR"
   },
   "source": [
    "### `bin_numeric_features`\n",
    "\n",
    "**binning**을 적용할 컬럼을 선택합니다."
   ]
  },
  {
   "cell_type": "code",
   "execution_count": 12,
   "id": "g7l6qf9XZQ9x",
   "metadata": {
    "id": "g7l6qf9XZQ9x"
   },
   "outputs": [],
   "source": [
    "clf = setup(data=train, \n",
    "            target='Price', \n",
    "            session_id=123, \n",
    "            remove_multicollinearity=True,        # collinearity 제거\n",
    "            multicollinearity_threshold=0.95,     # collinearity 제거 임계치\n",
    "            bin_numeric_features=['Carat Weight'],\n",
    "            verbose=False,\n",
    "            ) "
   ]
  },
  {
   "cell_type": "markdown",
   "id": "4JxigWPwZm2x",
   "metadata": {
    "id": "4JxigWPwZm2x"
   },
   "source": [
    "### `transformation` / `transform_target`"
   ]
  },
  {
   "cell_type": "code",
   "execution_count": null,
   "id": "MHCLaOb3Zmyp",
   "metadata": {
    "id": "MHCLaOb3Zmyp"
   },
   "outputs": [],
   "source": [
    "clf = setup(data=train, \n",
    "            target='Price', \n",
    "            session_id=123, \n",
    "            remove_multicollinearity=True,        # collinearity 제거\n",
    "            multicollinearity_threshold=0.95,     # collinearity 제거 임계치\n",
    "            bin_numeric_features=['Carat Weight'],\n",
    "            normalize=True, \n",
    "            transformation=True, \n",
    "            transform_target=True, \n",
    "            verbose=False,\n",
    "            ) "
   ]
  },
  {
   "cell_type": "markdown",
   "id": "b91d2d5d",
   "metadata": {
    "id": "b91d2d5d"
   },
   "source": [
    "## 모든 모델에 대한 학습 compare_models()\n",
    "\n",
    "`compare_models`\n",
    "- `sort`: 정렬 기준이 되는 평가지표를 설정합니다.\n",
    "- `n_select`: 상위 N개의 알고리즘을 선택합니다.\n",
    "- `fold`: Cross Validation 평가 Fold의 개수를 지정합니다.\n",
    "- `round`: 결과를 소수 N째자리 까지 반올림하여 표기합니다."
   ]
  },
  {
   "cell_type": "code",
   "execution_count": null,
   "id": "0a74e38e",
   "metadata": {
    "id": "0a74e38e"
   },
   "outputs": [],
   "source": [
    "best_models = compare_models(n_select=3, fold=5, round=2)"
   ]
  },
  {
   "cell_type": "markdown",
   "id": "t68rVj-gfciG",
   "metadata": {
    "id": "t68rVj-gfciG"
   },
   "source": [
    "### 모델 블렌딩 blend_models\n",
    "\n",
    "- `compare_models`로 추출된 best 모델에 대하여 모델 블렌딩하여 성능 개선\n",
    "- `Soft` voting 방식으로 `estimator_list`에 적용된 모델을 앙상블\n",
    "- `Voting Ensemble`"
   ]
  },
  {
   "cell_type": "code",
   "execution_count": null,
   "id": "qLwzgiNYfG8N",
   "metadata": {
    "id": "qLwzgiNYfG8N"
   },
   "outputs": [],
   "source": [
    "blended_models = blend_models(best_models, fold=5)"
   ]
  },
  {
   "cell_type": "markdown",
   "id": "JwzPvXm2hqCf",
   "metadata": {
    "id": "JwzPvXm2hqCf"
   },
   "source": [
    "## 단일 모델 생성 create_models() / 앙상블 ensemble_models()"
   ]
  },
  {
   "cell_type": "markdown",
   "id": "2KXSiuGTIO96",
   "metadata": {
    "id": "2KXSiuGTIO96"
   },
   "source": [
    "단일 모델을 생성하기 위해서는 `create_model`로 생성할 수 있습니다."
   ]
  },
  {
   "cell_type": "code",
   "execution_count": null,
   "id": "2f2c631f",
   "metadata": {},
   "outputs": [],
   "source": [
    "models()"
   ]
  },
  {
   "cell_type": "code",
   "execution_count": null,
   "id": "C3B7yEI1hvae",
   "metadata": {
    "id": "C3B7yEI1hvae"
   },
   "outputs": [],
   "source": [
    "dt = create_model('dt')"
   ]
  },
  {
   "cell_type": "markdown",
   "id": "Er5WoBGhIfrq",
   "metadata": {
    "id": "Er5WoBGhIfrq"
   },
   "source": [
    "- [배깅 앙상블](https://teddylee777.github.io/machine-learning/ensemble%EA%B8%B0%EB%B2%95%EC%97%90-%EB%8C%80%ED%95%9C-%EC%9D%B4%ED%95%B4%EC%99%80-%EC%A2%85%EB%A5%98-2)\n",
    "\n",
    "- [부스팅 앙상블](https://teddylee777.github.io/machine-learning/ensemble%EA%B8%B0%EB%B2%95%EC%97%90-%EB%8C%80%ED%95%9C-%EC%9D%B4%ED%95%B4%EC%99%80-%EC%A2%85%EB%A5%98-3)"
   ]
  },
  {
   "cell_type": "code",
   "execution_count": null,
   "id": "0B7_tTxEd4qp",
   "metadata": {
    "id": "0B7_tTxEd4qp"
   },
   "outputs": [],
   "source": [
    "ensembled_models = ensemble_model(dt, method='Bagging')"
   ]
  },
  {
   "cell_type": "code",
   "execution_count": null,
   "id": "d0FRjnd5h1SN",
   "metadata": {
    "id": "d0FRjnd5h1SN"
   },
   "outputs": [],
   "source": [
    "ensembled_models = ensemble_model(dt, method='Boosting')"
   ]
  },
  {
   "cell_type": "markdown",
   "id": "0351UbCLaxZJ",
   "metadata": {
    "id": "0351UbCLaxZJ"
   },
   "source": [
    "## 모델 튜닝: tune_model()"
   ]
  },
  {
   "cell_type": "code",
   "execution_count": null,
   "id": "Uar4WoAga-kQ",
   "metadata": {
    "id": "Uar4WoAga-kQ"
   },
   "outputs": [],
   "source": [
    "lasso = create_model('lasso', fold=5)"
   ]
  },
  {
   "cell_type": "markdown",
   "id": "JOm11q-UbiVy",
   "metadata": {
    "id": "JOm11q-UbiVy"
   },
   "source": [
    "`RandomizedSearchCV`를 활용하여 하이퍼 파라미터를 튜닝합니다.\n",
    "\n",
    "- `n_iter`에 횟수를 늘리거나 줄여서 시도할 횟수를 지정할 수 있습니다."
   ]
  },
  {
   "cell_type": "code",
   "execution_count": null,
   "id": "DGZxp41ba0IR",
   "metadata": {
    "id": "DGZxp41ba0IR"
   },
   "outputs": [],
   "source": [
    "tuned_models = tune_model(dt, fold=5, n_iter=50, round=2)"
   ]
  },
  {
   "cell_type": "markdown",
   "id": "ombHKHXoli3a",
   "metadata": {
    "id": "ombHKHXoli3a"
   },
   "source": [
    "## 모델 예측: predict_model()\n",
    "\n",
    "- `Label`에 예측된 결과를 확인할 수 있습니다.\n",
    "- `Score`에 예측된 결과의 **확률** 값을 확인할 수 있습니다."
   ]
  },
  {
   "cell_type": "code",
   "execution_count": null,
   "id": "aR5eG-KrGGvc",
   "metadata": {
    "id": "aR5eG-KrGGvc"
   },
   "outputs": [],
   "source": [
    "prediction = predict_model(data=test, estimator=ensembled_models)"
   ]
  },
  {
   "cell_type": "markdown",
   "id": "hwihJrs9Iyvo",
   "metadata": {
    "id": "hwihJrs9Iyvo"
   },
   "source": [
    "## 모델 분석: interpret_model()"
   ]
  },
  {
   "cell_type": "markdown",
   "id": "So3v1yFWIhk-",
   "metadata": {
    "id": "So3v1yFWIhk-"
   },
   "source": [
    "### 특성 중요도 Feature Importances\n",
    "\n",
    "각 특성별 종속변수(Y)에 미치는 영향도를 계산"
   ]
  },
  {
   "cell_type": "code",
   "execution_count": null,
   "id": "e-D5qHvNIgER",
   "metadata": {
    "id": "e-D5qHvNIgER"
   },
   "outputs": [],
   "source": [
    "plot_model(dt, plot='feature')"
   ]
  }
 ],
 "metadata": {
  "colab": {
   "collapsed_sections": [],
   "machine_shape": "hm",
   "name": "02_회귀_level1",
   "provenance": []
  },
  "kernelspec": {
   "display_name": "Python 3 (ipykernel)",
   "language": "python",
   "name": "python3"
  },
  "language_info": {
   "codemirror_mode": {
    "name": "ipython",
    "version": 3
   },
   "file_extension": ".py",
   "mimetype": "text/x-python",
   "name": "python",
   "nbconvert_exporter": "python",
   "pygments_lexer": "ipython3",
   "version": "3.9.17"
  }
 },
 "nbformat": 4,
 "nbformat_minor": 5
}
