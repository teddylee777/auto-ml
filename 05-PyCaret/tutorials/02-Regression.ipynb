{
 "cells": [
  {
   "cell_type": "markdown",
   "id": "5ae0e343",
   "metadata": {
    "id": "5ae0e343"
   },
   "source": [
    "## PyCaret 설치"
   ]
  },
  {
   "cell_type": "code",
   "execution_count": 1,
   "id": "47484d8d",
   "metadata": {
    "id": "47484d8d"
   },
   "outputs": [
    {
     "name": "stdout",
     "output_type": "stream",
     "text": [
      "============================================================\n",
      "설치환경: Local\n",
      "별도의 PyCaret을 설치하지 않습니다(skip)\n",
      "PyCaret의 설치를 진행하려는 경우 다음의 명령어를 실행해 주세요\n",
      "!pip install pycaret\n",
      "============================================================\n",
      "[알림] 완료\n",
      "============================================================\n"
     ]
    }
   ],
   "source": [
    "import urllib.request\n",
    "\n",
    "url = 'https://www.dropbox.com/s/pq6n1vg90a4v6t4/pycaret_colab.py?dl=1'\n",
    "urllib.request.urlretrieve(url, 'pycaret_colab.py')\n",
    "%run pycaret_colab.py"
   ]
  },
  {
   "cell_type": "markdown",
   "id": "7f4674cd",
   "metadata": {
    "id": "7f4674cd"
   },
   "source": [
    "## 필요한 모듈 import"
   ]
  },
  {
   "cell_type": "code",
   "execution_count": 3,
   "id": "77da6ea3",
   "metadata": {
    "id": "77da6ea3"
   },
   "outputs": [],
   "source": [
    "import pandas as pd\n",
    "import numpy as np\n",
    "import seaborn as sns\n",
    "\n",
    "pd.options.display.max_columns = None"
   ]
  },
  {
   "cell_type": "markdown",
   "id": "73ffae10",
   "metadata": {
    "id": "73ffae10"
   },
   "source": [
    "## 실습을 위한 데이터셋 로드"
   ]
  },
  {
   "cell_type": "code",
   "execution_count": 4,
   "id": "NNEh2pF7ivJ8",
   "metadata": {
    "id": "NNEh2pF7ivJ8"
   },
   "outputs": [
    {
     "data": {
      "text/html": [
       "<div>\n",
       "<style scoped>\n",
       "    .dataframe tbody tr th:only-of-type {\n",
       "        vertical-align: middle;\n",
       "    }\n",
       "\n",
       "    .dataframe tbody tr th {\n",
       "        vertical-align: top;\n",
       "    }\n",
       "\n",
       "    .dataframe thead th {\n",
       "        text-align: right;\n",
       "    }\n",
       "</style>\n",
       "<table border=\"1\" class=\"dataframe\">\n",
       "  <thead>\n",
       "    <tr style=\"text-align: right;\">\n",
       "      <th></th>\n",
       "      <th>Carat Weight</th>\n",
       "      <th>Cut</th>\n",
       "      <th>Color</th>\n",
       "      <th>Clarity</th>\n",
       "      <th>Polish</th>\n",
       "      <th>Symmetry</th>\n",
       "      <th>Report</th>\n",
       "      <th>Price</th>\n",
       "    </tr>\n",
       "  </thead>\n",
       "  <tbody>\n",
       "    <tr>\n",
       "      <th>0</th>\n",
       "      <td>1.10</td>\n",
       "      <td>Ideal</td>\n",
       "      <td>H</td>\n",
       "      <td>SI1</td>\n",
       "      <td>VG</td>\n",
       "      <td>EX</td>\n",
       "      <td>GIA</td>\n",
       "      <td>5169</td>\n",
       "    </tr>\n",
       "    <tr>\n",
       "      <th>1</th>\n",
       "      <td>0.83</td>\n",
       "      <td>Ideal</td>\n",
       "      <td>H</td>\n",
       "      <td>VS1</td>\n",
       "      <td>ID</td>\n",
       "      <td>ID</td>\n",
       "      <td>AGSL</td>\n",
       "      <td>3470</td>\n",
       "    </tr>\n",
       "    <tr>\n",
       "      <th>2</th>\n",
       "      <td>0.85</td>\n",
       "      <td>Ideal</td>\n",
       "      <td>H</td>\n",
       "      <td>SI1</td>\n",
       "      <td>EX</td>\n",
       "      <td>EX</td>\n",
       "      <td>GIA</td>\n",
       "      <td>3183</td>\n",
       "    </tr>\n",
       "    <tr>\n",
       "      <th>3</th>\n",
       "      <td>0.91</td>\n",
       "      <td>Ideal</td>\n",
       "      <td>E</td>\n",
       "      <td>SI1</td>\n",
       "      <td>VG</td>\n",
       "      <td>VG</td>\n",
       "      <td>GIA</td>\n",
       "      <td>4370</td>\n",
       "    </tr>\n",
       "    <tr>\n",
       "      <th>4</th>\n",
       "      <td>0.83</td>\n",
       "      <td>Ideal</td>\n",
       "      <td>G</td>\n",
       "      <td>SI1</td>\n",
       "      <td>EX</td>\n",
       "      <td>EX</td>\n",
       "      <td>GIA</td>\n",
       "      <td>3171</td>\n",
       "    </tr>\n",
       "  </tbody>\n",
       "</table>\n",
       "</div>"
      ],
      "text/plain": [
       "   Carat Weight    Cut Color Clarity Polish Symmetry Report  Price\n",
       "0          1.10  Ideal     H     SI1     VG       EX    GIA   5169\n",
       "1          0.83  Ideal     H     VS1     ID       ID   AGSL   3470\n",
       "2          0.85  Ideal     H     SI1     EX       EX    GIA   3183\n",
       "3          0.91  Ideal     E     SI1     VG       VG    GIA   4370\n",
       "4          0.83  Ideal     G     SI1     EX       EX    GIA   3171"
      ]
     },
     "metadata": {},
     "output_type": "display_data"
    }
   ],
   "source": [
    "from pycaret.datasets import get_data\n",
    "dataset = get_data('diamond')"
   ]
  },
  {
   "cell_type": "code",
   "execution_count": 5,
   "id": "222a5388",
   "metadata": {
    "id": "222a5388"
   },
   "outputs": [
    {
     "data": {
      "text/plain": [
       "(6000, 8)"
      ]
     },
     "execution_count": 5,
     "metadata": {},
     "output_type": "execute_result"
    }
   ],
   "source": [
    "# 데이터셋 크기 출력\n",
    "dataset.shape"
   ]
  },
  {
   "cell_type": "code",
   "execution_count": 6,
   "id": "N-Xb7KZ-2oCC",
   "metadata": {
    "id": "N-Xb7KZ-2oCC"
   },
   "outputs": [
    {
     "name": "stdout",
     "output_type": "stream",
     "text": [
      "학습용 데이터셋: (4800, 8)\n",
      "예측용 데이터셋: (1200, 8)\n"
     ]
    }
   ],
   "source": [
    "train = dataset.sample(frac=0.8, random_state=123)\n",
    "test = dataset.drop(train.index)\n",
    "train.reset_index(inplace=True, drop=True)\n",
    "test.reset_index(inplace=True, drop=True)\n",
    "\n",
    "print('학습용 데이터셋: ' + str(train.shape))\n",
    "print('예측용 데이터셋: ' + str(test.shape))"
   ]
  },
  {
   "cell_type": "markdown",
   "id": "6beffef3",
   "metadata": {
    "id": "6beffef3"
   },
   "source": [
    "## 설정: setup()"
   ]
  },
  {
   "cell_type": "markdown",
   "id": "aO28a9eQmR1g",
   "metadata": {
    "id": "aO28a9eQmR1g"
   },
   "source": [
    "머신러닝 예측 방식에 따라 다음 중 하나를 골라 import 합니다."
   ]
  },
  {
   "cell_type": "code",
   "execution_count": 7,
   "id": "fe755196",
   "metadata": {
    "id": "fe755196"
   },
   "outputs": [],
   "source": [
    "from pycaret.regression import *        # 회귀"
   ]
  },
  {
   "cell_type": "markdown",
   "id": "099f81a7",
   "metadata": {
    "id": "099f81a7"
   },
   "source": [
    "**`setup` 함수**\n",
    "\n",
    "- `data`: 학습할 데이터셋을 지정합니다.\n",
    "- `target`: 예측할 대상(target) 컬럼을 지정합니다.\n",
    "- `session_id`: SEED 값을 지정합니다."
   ]
  },
  {
   "cell_type": "code",
   "execution_count": 8,
   "id": "XQ3dwHU9Lb5r",
   "metadata": {
    "id": "XQ3dwHU9Lb5r"
   },
   "outputs": [
    {
     "data": {
      "text/html": [
       "<div>\n",
       "<style scoped>\n",
       "    .dataframe tbody tr th:only-of-type {\n",
       "        vertical-align: middle;\n",
       "    }\n",
       "\n",
       "    .dataframe tbody tr th {\n",
       "        vertical-align: top;\n",
       "    }\n",
       "\n",
       "    .dataframe thead th {\n",
       "        text-align: right;\n",
       "    }\n",
       "</style>\n",
       "<table border=\"1\" class=\"dataframe\">\n",
       "  <thead>\n",
       "    <tr style=\"text-align: right;\">\n",
       "      <th></th>\n",
       "      <th>Carat Weight</th>\n",
       "      <th>Cut</th>\n",
       "      <th>Color</th>\n",
       "      <th>Clarity</th>\n",
       "      <th>Polish</th>\n",
       "      <th>Symmetry</th>\n",
       "      <th>Report</th>\n",
       "      <th>Price</th>\n",
       "    </tr>\n",
       "  </thead>\n",
       "  <tbody>\n",
       "    <tr>\n",
       "      <th>0</th>\n",
       "      <td>0.75</td>\n",
       "      <td>Ideal</td>\n",
       "      <td>G</td>\n",
       "      <td>VVS2</td>\n",
       "      <td>EX</td>\n",
       "      <td>EX</td>\n",
       "      <td>GIA</td>\n",
       "      <td>3879</td>\n",
       "    </tr>\n",
       "    <tr>\n",
       "      <th>1</th>\n",
       "      <td>1.08</td>\n",
       "      <td>Ideal</td>\n",
       "      <td>F</td>\n",
       "      <td>SI1</td>\n",
       "      <td>VG</td>\n",
       "      <td>VG</td>\n",
       "      <td>GIA</td>\n",
       "      <td>5534</td>\n",
       "    </tr>\n",
       "    <tr>\n",
       "      <th>2</th>\n",
       "      <td>1.29</td>\n",
       "      <td>Very Good</td>\n",
       "      <td>G</td>\n",
       "      <td>VS1</td>\n",
       "      <td>G</td>\n",
       "      <td>VG</td>\n",
       "      <td>GIA</td>\n",
       "      <td>9105</td>\n",
       "    </tr>\n",
       "  </tbody>\n",
       "</table>\n",
       "</div>"
      ],
      "text/plain": [
       "   Carat Weight        Cut Color Clarity Polish Symmetry Report  Price\n",
       "0          0.75      Ideal     G    VVS2     EX       EX    GIA   3879\n",
       "1          1.08      Ideal     F     SI1     VG       VG    GIA   5534\n",
       "2          1.29  Very Good     G     VS1      G       VG    GIA   9105"
      ]
     },
     "execution_count": 8,
     "metadata": {},
     "output_type": "execute_result"
    }
   ],
   "source": [
    "train.head(3)"
   ]
  },
  {
   "cell_type": "code",
   "execution_count": 9,
   "id": "Z7zfUMjjYn95",
   "metadata": {
    "id": "Z7zfUMjjYn95"
   },
   "outputs": [],
   "source": [
    "clf = setup(data=train, \n",
    "            target='Price', \n",
    "            session_id=123, \n",
    "            verbose=False,\n",
    "            ) "
   ]
  },
  {
   "cell_type": "markdown",
   "id": "BL9ZOqVvOfDS",
   "metadata": {
    "id": "BL9ZOqVvOfDS"
   },
   "source": [
    "## 데이터 전처리\n",
    "\n",
    "[문서 링크](https://pycaret.readthedocs.io/en/latest/api/classification.html)"
   ]
  },
  {
   "cell_type": "markdown",
   "id": "GS4u_sFqYwf6",
   "metadata": {
    "id": "GS4u_sFqYwf6"
   },
   "source": [
    "### `remove_multicollinearity` / `multicollinearity_threshold`\n",
    "\n",
    "다중 공선성 문제가 발생할 수 있는 컬럼을 제거합니다."
   ]
  },
  {
   "cell_type": "code",
   "execution_count": 10,
   "id": "IIR7-X7gY-XI",
   "metadata": {
    "id": "IIR7-X7gY-XI"
   },
   "outputs": [],
   "source": [
    "clf = setup(data=train, \n",
    "            target='Price', \n",
    "            session_id=123, \n",
    "            remove_multicollinearity=True,      # collinearity 제거\n",
    "            multicollinearity_threshold = 0.95, # collinearity 제거 임계치\n",
    "            verbose=False,\n",
    "            ) "
   ]
  },
  {
   "cell_type": "markdown",
   "id": "Na1TBYOUZRCR",
   "metadata": {
    "id": "Na1TBYOUZRCR"
   },
   "source": [
    "### `bin_numeric_features`\n",
    "\n",
    "**binning**을 적용할 컬럼을 선택합니다."
   ]
  },
  {
   "cell_type": "code",
   "execution_count": 11,
   "id": "g7l6qf9XZQ9x",
   "metadata": {
    "id": "g7l6qf9XZQ9x"
   },
   "outputs": [],
   "source": [
    "clf = setup(data=train, \n",
    "            target='Price', \n",
    "            session_id=123, \n",
    "            remove_multicollinearity=True,        # collinearity 제거\n",
    "            multicollinearity_threshold=0.95,     # collinearity 제거 임계치\n",
    "            bin_numeric_features=['Carat Weight'],\n",
    "            verbose=False,\n",
    "            ) "
   ]
  },
  {
   "cell_type": "markdown",
   "id": "4JxigWPwZm2x",
   "metadata": {
    "id": "4JxigWPwZm2x"
   },
   "source": [
    "### `transformation` / `transform_target`"
   ]
  },
  {
   "cell_type": "code",
   "execution_count": 12,
   "id": "MHCLaOb3Zmyp",
   "metadata": {
    "id": "MHCLaOb3Zmyp"
   },
   "outputs": [],
   "source": [
    "clf = setup(data=train, \n",
    "            target='Price', \n",
    "            session_id=123, \n",
    "            remove_multicollinearity=True,        # collinearity 제거\n",
    "            multicollinearity_threshold=0.95,     # collinearity 제거 임계치\n",
    "            bin_numeric_features=['Carat Weight'],\n",
    "            normalize=True, \n",
    "            transformation=True, \n",
    "            transform_target=True, \n",
    "            verbose=False,\n",
    "            ) "
   ]
  },
  {
   "cell_type": "markdown",
   "id": "b91d2d5d",
   "metadata": {
    "id": "b91d2d5d"
   },
   "source": [
    "## 모든 모델에 대한 학습 compare_models()\n",
    "\n",
    "`compare_models`\n",
    "- `sort`: 정렬 기준이 되는 평가지표를 설정합니다.\n",
    "- `n_select`: 상위 N개의 알고리즘을 선택합니다.\n",
    "- `fold`: Cross Validation 평가 Fold의 개수를 지정합니다.\n",
    "- `round`: 결과를 소수 N째자리 까지 반올림하여 표기합니다."
   ]
  },
  {
   "cell_type": "code",
   "execution_count": 13,
   "id": "0a74e38e",
   "metadata": {
    "id": "0a74e38e"
   },
   "outputs": [
    {
     "data": {
      "text/html": [],
      "text/plain": [
       "<IPython.core.display.HTML object>"
      ]
     },
     "metadata": {},
     "output_type": "display_data"
    },
    {
     "data": {
      "text/html": [
       "<style type=\"text/css\">\n",
       "#T_0e2d5 th {\n",
       "  text-align: left;\n",
       "}\n",
       "#T_0e2d5_row0_col0, #T_0e2d5_row0_col1, #T_0e2d5_row1_col0, #T_0e2d5_row1_col2, #T_0e2d5_row1_col3, #T_0e2d5_row1_col4, #T_0e2d5_row2_col0, #T_0e2d5_row2_col1, #T_0e2d5_row2_col2, #T_0e2d5_row2_col3, #T_0e2d5_row2_col4, #T_0e2d5_row2_col5, #T_0e2d5_row3_col0, #T_0e2d5_row3_col1, #T_0e2d5_row3_col2, #T_0e2d5_row3_col3, #T_0e2d5_row3_col4, #T_0e2d5_row3_col5, #T_0e2d5_row3_col6, #T_0e2d5_row4_col0, #T_0e2d5_row4_col1, #T_0e2d5_row4_col2, #T_0e2d5_row4_col3, #T_0e2d5_row4_col4, #T_0e2d5_row4_col5, #T_0e2d5_row4_col6, #T_0e2d5_row5_col0, #T_0e2d5_row5_col1, #T_0e2d5_row5_col2, #T_0e2d5_row5_col3, #T_0e2d5_row5_col4, #T_0e2d5_row5_col5, #T_0e2d5_row5_col6, #T_0e2d5_row6_col0, #T_0e2d5_row6_col1, #T_0e2d5_row6_col2, #T_0e2d5_row6_col3, #T_0e2d5_row6_col4, #T_0e2d5_row6_col5, #T_0e2d5_row6_col6, #T_0e2d5_row7_col0, #T_0e2d5_row7_col1, #T_0e2d5_row7_col2, #T_0e2d5_row7_col3, #T_0e2d5_row7_col4, #T_0e2d5_row7_col5, #T_0e2d5_row7_col6, #T_0e2d5_row8_col0, #T_0e2d5_row8_col1, #T_0e2d5_row8_col2, #T_0e2d5_row8_col3, #T_0e2d5_row8_col4, #T_0e2d5_row8_col5, #T_0e2d5_row8_col6, #T_0e2d5_row9_col0, #T_0e2d5_row9_col1, #T_0e2d5_row9_col2, #T_0e2d5_row9_col3, #T_0e2d5_row9_col4, #T_0e2d5_row9_col5, #T_0e2d5_row9_col6, #T_0e2d5_row10_col0, #T_0e2d5_row10_col1, #T_0e2d5_row10_col2, #T_0e2d5_row10_col3, #T_0e2d5_row10_col4, #T_0e2d5_row10_col5, #T_0e2d5_row10_col6, #T_0e2d5_row11_col0, #T_0e2d5_row11_col1, #T_0e2d5_row11_col2, #T_0e2d5_row11_col3, #T_0e2d5_row11_col4, #T_0e2d5_row11_col5, #T_0e2d5_row11_col6, #T_0e2d5_row12_col0, #T_0e2d5_row12_col1, #T_0e2d5_row12_col2, #T_0e2d5_row12_col3, #T_0e2d5_row12_col4, #T_0e2d5_row12_col5, #T_0e2d5_row12_col6, #T_0e2d5_row13_col0, #T_0e2d5_row13_col1, #T_0e2d5_row13_col2, #T_0e2d5_row13_col3, #T_0e2d5_row13_col4, #T_0e2d5_row13_col5, #T_0e2d5_row13_col6, #T_0e2d5_row14_col0, #T_0e2d5_row14_col1, #T_0e2d5_row14_col2, #T_0e2d5_row14_col3, #T_0e2d5_row14_col4, #T_0e2d5_row14_col5, #T_0e2d5_row14_col6, #T_0e2d5_row15_col0, #T_0e2d5_row15_col1, #T_0e2d5_row15_col2, #T_0e2d5_row15_col3, #T_0e2d5_row15_col4, #T_0e2d5_row15_col5, #T_0e2d5_row15_col6, #T_0e2d5_row16_col0, #T_0e2d5_row16_col1, #T_0e2d5_row16_col2, #T_0e2d5_row16_col3, #T_0e2d5_row16_col4, #T_0e2d5_row16_col5, #T_0e2d5_row16_col6, #T_0e2d5_row17_col0, #T_0e2d5_row17_col1, #T_0e2d5_row17_col2, #T_0e2d5_row17_col3, #T_0e2d5_row17_col4, #T_0e2d5_row17_col5, #T_0e2d5_row17_col6 {\n",
       "  text-align: left;\n",
       "}\n",
       "#T_0e2d5_row0_col2, #T_0e2d5_row0_col3, #T_0e2d5_row0_col4, #T_0e2d5_row0_col5, #T_0e2d5_row0_col6, #T_0e2d5_row1_col1, #T_0e2d5_row1_col5, #T_0e2d5_row1_col6, #T_0e2d5_row2_col6 {\n",
       "  text-align: left;\n",
       "  background-color: yellow;\n",
       "}\n",
       "#T_0e2d5_row0_col7, #T_0e2d5_row1_col7, #T_0e2d5_row2_col7, #T_0e2d5_row3_col7, #T_0e2d5_row4_col7, #T_0e2d5_row8_col7, #T_0e2d5_row9_col7, #T_0e2d5_row10_col7, #T_0e2d5_row12_col7, #T_0e2d5_row13_col7, #T_0e2d5_row14_col7, #T_0e2d5_row15_col7, #T_0e2d5_row16_col7, #T_0e2d5_row17_col7 {\n",
       "  text-align: left;\n",
       "  background-color: lightgrey;\n",
       "}\n",
       "#T_0e2d5_row5_col7, #T_0e2d5_row6_col7, #T_0e2d5_row7_col7, #T_0e2d5_row11_col7 {\n",
       "  text-align: left;\n",
       "  background-color: yellow;\n",
       "  background-color: lightgrey;\n",
       "}\n",
       "</style>\n",
       "<table id=\"T_0e2d5\">\n",
       "  <thead>\n",
       "    <tr>\n",
       "      <th class=\"blank level0\" >&nbsp;</th>\n",
       "      <th id=\"T_0e2d5_level0_col0\" class=\"col_heading level0 col0\" >Model</th>\n",
       "      <th id=\"T_0e2d5_level0_col1\" class=\"col_heading level0 col1\" >MAE</th>\n",
       "      <th id=\"T_0e2d5_level0_col2\" class=\"col_heading level0 col2\" >MSE</th>\n",
       "      <th id=\"T_0e2d5_level0_col3\" class=\"col_heading level0 col3\" >RMSE</th>\n",
       "      <th id=\"T_0e2d5_level0_col4\" class=\"col_heading level0 col4\" >R2</th>\n",
       "      <th id=\"T_0e2d5_level0_col5\" class=\"col_heading level0 col5\" >RMSLE</th>\n",
       "      <th id=\"T_0e2d5_level0_col6\" class=\"col_heading level0 col6\" >MAPE</th>\n",
       "      <th id=\"T_0e2d5_level0_col7\" class=\"col_heading level0 col7\" >TT (Sec)</th>\n",
       "    </tr>\n",
       "  </thead>\n",
       "  <tbody>\n",
       "    <tr>\n",
       "      <th id=\"T_0e2d5_level0_row0\" class=\"row_heading level0 row0\" >gbr</th>\n",
       "      <td id=\"T_0e2d5_row0_col0\" class=\"data row0 col0\" >Gradient Boosting Regressor</td>\n",
       "      <td id=\"T_0e2d5_row0_col1\" class=\"data row0 col1\" >1362.37</td>\n",
       "      <td id=\"T_0e2d5_row0_col2\" class=\"data row0 col2\" >4493980.11</td>\n",
       "      <td id=\"T_0e2d5_row0_col3\" class=\"data row0 col3\" >2107.96</td>\n",
       "      <td id=\"T_0e2d5_row0_col4\" class=\"data row0 col4\" >0.96</td>\n",
       "      <td id=\"T_0e2d5_row0_col5\" class=\"data row0 col5\" >0.19</td>\n",
       "      <td id=\"T_0e2d5_row0_col6\" class=\"data row0 col6\" >0.15</td>\n",
       "      <td id=\"T_0e2d5_row0_col7\" class=\"data row0 col7\" >0.10</td>\n",
       "    </tr>\n",
       "    <tr>\n",
       "      <th id=\"T_0e2d5_level0_row1\" class=\"row_heading level0 row1\" >lightgbm</th>\n",
       "      <td id=\"T_0e2d5_row1_col0\" class=\"data row1 col0\" >Light Gradient Boosting Machine</td>\n",
       "      <td id=\"T_0e2d5_row1_col1\" class=\"data row1 col1\" >1336.49</td>\n",
       "      <td id=\"T_0e2d5_row1_col2\" class=\"data row1 col2\" >4969291.49</td>\n",
       "      <td id=\"T_0e2d5_row1_col3\" class=\"data row1 col3\" >2216.08</td>\n",
       "      <td id=\"T_0e2d5_row1_col4\" class=\"data row1 col4\" >0.95</td>\n",
       "      <td id=\"T_0e2d5_row1_col5\" class=\"data row1 col5\" >0.19</td>\n",
       "      <td id=\"T_0e2d5_row1_col6\" class=\"data row1 col6\" >0.15</td>\n",
       "      <td id=\"T_0e2d5_row1_col7\" class=\"data row1 col7\" >0.06</td>\n",
       "    </tr>\n",
       "    <tr>\n",
       "      <th id=\"T_0e2d5_level0_row2\" class=\"row_heading level0 row2\" >rf</th>\n",
       "      <td id=\"T_0e2d5_row2_col0\" class=\"data row2 col0\" >Random Forest Regressor</td>\n",
       "      <td id=\"T_0e2d5_row2_col1\" class=\"data row2 col1\" >1381.69</td>\n",
       "      <td id=\"T_0e2d5_row2_col2\" class=\"data row2 col2\" >5107187.00</td>\n",
       "      <td id=\"T_0e2d5_row2_col3\" class=\"data row2 col3\" >2250.52</td>\n",
       "      <td id=\"T_0e2d5_row2_col4\" class=\"data row2 col4\" >0.95</td>\n",
       "      <td id=\"T_0e2d5_row2_col5\" class=\"data row2 col5\" >0.20</td>\n",
       "      <td id=\"T_0e2d5_row2_col6\" class=\"data row2 col6\" >0.15</td>\n",
       "      <td id=\"T_0e2d5_row2_col7\" class=\"data row2 col7\" >0.15</td>\n",
       "    </tr>\n",
       "    <tr>\n",
       "      <th id=\"T_0e2d5_level0_row3\" class=\"row_heading level0 row3\" >et</th>\n",
       "      <td id=\"T_0e2d5_row3_col0\" class=\"data row3 col0\" >Extra Trees Regressor</td>\n",
       "      <td id=\"T_0e2d5_row3_col1\" class=\"data row3 col1\" >1525.86</td>\n",
       "      <td id=\"T_0e2d5_row3_col2\" class=\"data row3 col2\" >6259937.79</td>\n",
       "      <td id=\"T_0e2d5_row3_col3\" class=\"data row3 col3\" >2483.04</td>\n",
       "      <td id=\"T_0e2d5_row3_col4\" class=\"data row3 col4\" >0.94</td>\n",
       "      <td id=\"T_0e2d5_row3_col5\" class=\"data row3 col5\" >0.22</td>\n",
       "      <td id=\"T_0e2d5_row3_col6\" class=\"data row3 col6\" >0.16</td>\n",
       "      <td id=\"T_0e2d5_row3_col7\" class=\"data row3 col7\" >0.15</td>\n",
       "    </tr>\n",
       "    <tr>\n",
       "      <th id=\"T_0e2d5_level0_row4\" class=\"row_heading level0 row4\" >dt</th>\n",
       "      <td id=\"T_0e2d5_row4_col0\" class=\"data row4 col0\" >Decision Tree Regressor</td>\n",
       "      <td id=\"T_0e2d5_row4_col1\" class=\"data row4 col1\" >1544.23</td>\n",
       "      <td id=\"T_0e2d5_row4_col2\" class=\"data row4 col2\" >6512392.33</td>\n",
       "      <td id=\"T_0e2d5_row4_col3\" class=\"data row4 col3\" >2523.82</td>\n",
       "      <td id=\"T_0e2d5_row4_col4\" class=\"data row4 col4\" >0.94</td>\n",
       "      <td id=\"T_0e2d5_row4_col5\" class=\"data row4 col5\" >0.22</td>\n",
       "      <td id=\"T_0e2d5_row4_col6\" class=\"data row4 col6\" >0.17</td>\n",
       "      <td id=\"T_0e2d5_row4_col7\" class=\"data row4 col7\" >0.05</td>\n",
       "    </tr>\n",
       "    <tr>\n",
       "      <th id=\"T_0e2d5_level0_row5\" class=\"row_heading level0 row5\" >lar</th>\n",
       "      <td id=\"T_0e2d5_row5_col0\" class=\"data row5 col0\" >Least Angle Regression</td>\n",
       "      <td id=\"T_0e2d5_row5_col1\" class=\"data row5 col1\" >2382.90</td>\n",
       "      <td id=\"T_0e2d5_row5_col2\" class=\"data row5 col2\" >12874492.77</td>\n",
       "      <td id=\"T_0e2d5_row5_col3\" class=\"data row5 col3\" >3587.37</td>\n",
       "      <td id=\"T_0e2d5_row5_col4\" class=\"data row5 col4\" >0.88</td>\n",
       "      <td id=\"T_0e2d5_row5_col5\" class=\"data row5 col5\" >0.25</td>\n",
       "      <td id=\"T_0e2d5_row5_col6\" class=\"data row5 col6\" >0.21</td>\n",
       "      <td id=\"T_0e2d5_row5_col7\" class=\"data row5 col7\" >0.04</td>\n",
       "    </tr>\n",
       "    <tr>\n",
       "      <th id=\"T_0e2d5_level0_row6\" class=\"row_heading level0 row6\" >br</th>\n",
       "      <td id=\"T_0e2d5_row6_col0\" class=\"data row6 col0\" >Bayesian Ridge</td>\n",
       "      <td id=\"T_0e2d5_row6_col1\" class=\"data row6 col1\" >2377.12</td>\n",
       "      <td id=\"T_0e2d5_row6_col2\" class=\"data row6 col2\" >12779486.99</td>\n",
       "      <td id=\"T_0e2d5_row6_col3\" class=\"data row6 col3\" >3574.53</td>\n",
       "      <td id=\"T_0e2d5_row6_col4\" class=\"data row6 col4\" >0.88</td>\n",
       "      <td id=\"T_0e2d5_row6_col5\" class=\"data row6 col5\" >0.25</td>\n",
       "      <td id=\"T_0e2d5_row6_col6\" class=\"data row6 col6\" >0.21</td>\n",
       "      <td id=\"T_0e2d5_row6_col7\" class=\"data row6 col7\" >0.04</td>\n",
       "    </tr>\n",
       "    <tr>\n",
       "      <th id=\"T_0e2d5_level0_row7\" class=\"row_heading level0 row7\" >huber</th>\n",
       "      <td id=\"T_0e2d5_row7_col0\" class=\"data row7 col0\" >Huber Regressor</td>\n",
       "      <td id=\"T_0e2d5_row7_col1\" class=\"data row7 col1\" >2334.21</td>\n",
       "      <td id=\"T_0e2d5_row7_col2\" class=\"data row7 col2\" >12724691.09</td>\n",
       "      <td id=\"T_0e2d5_row7_col3\" class=\"data row7 col3\" >3565.72</td>\n",
       "      <td id=\"T_0e2d5_row7_col4\" class=\"data row7 col4\" >0.88</td>\n",
       "      <td id=\"T_0e2d5_row7_col5\" class=\"data row7 col5\" >0.25</td>\n",
       "      <td id=\"T_0e2d5_row7_col6\" class=\"data row7 col6\" >0.21</td>\n",
       "      <td id=\"T_0e2d5_row7_col7\" class=\"data row7 col7\" >0.04</td>\n",
       "    </tr>\n",
       "    <tr>\n",
       "      <th id=\"T_0e2d5_level0_row8\" class=\"row_heading level0 row8\" >ridge</th>\n",
       "      <td id=\"T_0e2d5_row8_col0\" class=\"data row8 col0\" >Ridge Regression</td>\n",
       "      <td id=\"T_0e2d5_row8_col1\" class=\"data row8 col1\" >2372.71</td>\n",
       "      <td id=\"T_0e2d5_row8_col2\" class=\"data row8 col2\" >12697843.87</td>\n",
       "      <td id=\"T_0e2d5_row8_col3\" class=\"data row8 col3\" >3563.10</td>\n",
       "      <td id=\"T_0e2d5_row8_col4\" class=\"data row8 col4\" >0.88</td>\n",
       "      <td id=\"T_0e2d5_row8_col5\" class=\"data row8 col5\" >0.25</td>\n",
       "      <td id=\"T_0e2d5_row8_col6\" class=\"data row8 col6\" >0.21</td>\n",
       "      <td id=\"T_0e2d5_row8_col7\" class=\"data row8 col7\" >0.17</td>\n",
       "    </tr>\n",
       "    <tr>\n",
       "      <th id=\"T_0e2d5_level0_row9\" class=\"row_heading level0 row9\" >lr</th>\n",
       "      <td id=\"T_0e2d5_row9_col0\" class=\"data row9 col0\" >Linear Regression</td>\n",
       "      <td id=\"T_0e2d5_row9_col1\" class=\"data row9 col1\" >2369.60</td>\n",
       "      <td id=\"T_0e2d5_row9_col2\" class=\"data row9 col2\" >12744858.77</td>\n",
       "      <td id=\"T_0e2d5_row9_col3\" class=\"data row9 col3\" >3569.71</td>\n",
       "      <td id=\"T_0e2d5_row9_col4\" class=\"data row9 col4\" >0.88</td>\n",
       "      <td id=\"T_0e2d5_row9_col5\" class=\"data row9 col5\" >0.25</td>\n",
       "      <td id=\"T_0e2d5_row9_col6\" class=\"data row9 col6\" >0.21</td>\n",
       "      <td id=\"T_0e2d5_row9_col7\" class=\"data row9 col7\" >0.33</td>\n",
       "    </tr>\n",
       "    <tr>\n",
       "      <th id=\"T_0e2d5_level0_row10\" class=\"row_heading level0 row10\" >ada</th>\n",
       "      <td id=\"T_0e2d5_row10_col0\" class=\"data row10 col0\" >AdaBoost Regressor</td>\n",
       "      <td id=\"T_0e2d5_row10_col1\" class=\"data row10 col1\" >2533.83</td>\n",
       "      <td id=\"T_0e2d5_row10_col2\" class=\"data row10 col2\" >23685365.26</td>\n",
       "      <td id=\"T_0e2d5_row10_col3\" class=\"data row10 col3\" >4835.65</td>\n",
       "      <td id=\"T_0e2d5_row10_col4\" class=\"data row10 col4\" >0.78</td>\n",
       "      <td id=\"T_0e2d5_row10_col5\" class=\"data row10 col5\" >0.26</td>\n",
       "      <td id=\"T_0e2d5_row10_col6\" class=\"data row10 col6\" >0.20</td>\n",
       "      <td id=\"T_0e2d5_row10_col7\" class=\"data row10 col7\" >0.07</td>\n",
       "    </tr>\n",
       "    <tr>\n",
       "      <th id=\"T_0e2d5_level0_row11\" class=\"row_heading level0 row11\" >omp</th>\n",
       "      <td id=\"T_0e2d5_row11_col0\" class=\"data row11 col0\" >Orthogonal Matching Pursuit</td>\n",
       "      <td id=\"T_0e2d5_row11_col1\" class=\"data row11 col1\" >3034.25</td>\n",
       "      <td id=\"T_0e2d5_row11_col2\" class=\"data row11 col2\" >34076244.98</td>\n",
       "      <td id=\"T_0e2d5_row11_col3\" class=\"data row11 col3\" >5823.30</td>\n",
       "      <td id=\"T_0e2d5_row11_col4\" class=\"data row11 col4\" >0.68</td>\n",
       "      <td id=\"T_0e2d5_row11_col5\" class=\"data row11 col5\" >0.32</td>\n",
       "      <td id=\"T_0e2d5_row11_col6\" class=\"data row11 col6\" >0.25</td>\n",
       "      <td id=\"T_0e2d5_row11_col7\" class=\"data row11 col7\" >0.04</td>\n",
       "    </tr>\n",
       "    <tr>\n",
       "      <th id=\"T_0e2d5_level0_row12\" class=\"row_heading level0 row12\" >knn</th>\n",
       "      <td id=\"T_0e2d5_row12_col0\" class=\"data row12 col0\" >K Neighbors Regressor</td>\n",
       "      <td id=\"T_0e2d5_row12_col1\" class=\"data row12 col1\" >4289.02</td>\n",
       "      <td id=\"T_0e2d5_row12_col2\" class=\"data row12 col2\" >58668909.86</td>\n",
       "      <td id=\"T_0e2d5_row12_col3\" class=\"data row12 col3\" >7646.90</td>\n",
       "      <td id=\"T_0e2d5_row12_col4\" class=\"data row12 col4\" >0.45</td>\n",
       "      <td id=\"T_0e2d5_row12_col5\" class=\"data row12 col5\" >0.47</td>\n",
       "      <td id=\"T_0e2d5_row12_col6\" class=\"data row12 col6\" >0.36</td>\n",
       "      <td id=\"T_0e2d5_row12_col7\" class=\"data row12 col7\" >0.05</td>\n",
       "    </tr>\n",
       "    <tr>\n",
       "      <th id=\"T_0e2d5_level0_row13\" class=\"row_heading level0 row13\" >lasso</th>\n",
       "      <td id=\"T_0e2d5_row13_col0\" class=\"data row13 col0\" >Lasso Regression</td>\n",
       "      <td id=\"T_0e2d5_row13_col1\" class=\"data row13 col1\" >6788.52</td>\n",
       "      <td id=\"T_0e2d5_row13_col2\" class=\"data row13 col2\" >120754328.40</td>\n",
       "      <td id=\"T_0e2d5_row13_col3\" class=\"data row13 col3\" >10980.24</td>\n",
       "      <td id=\"T_0e2d5_row13_col4\" class=\"data row13 col4\" >-0.13</td>\n",
       "      <td id=\"T_0e2d5_row13_col5\" class=\"data row13 col5\" >0.73</td>\n",
       "      <td id=\"T_0e2d5_row13_col6\" class=\"data row13 col6\" >0.59</td>\n",
       "      <td id=\"T_0e2d5_row13_col7\" class=\"data row13 col7\" >0.17</td>\n",
       "    </tr>\n",
       "    <tr>\n",
       "      <th id=\"T_0e2d5_level0_row14\" class=\"row_heading level0 row14\" >en</th>\n",
       "      <td id=\"T_0e2d5_row14_col0\" class=\"data row14 col0\" >Elastic Net</td>\n",
       "      <td id=\"T_0e2d5_row14_col1\" class=\"data row14 col1\" >6788.52</td>\n",
       "      <td id=\"T_0e2d5_row14_col2\" class=\"data row14 col2\" >120754328.40</td>\n",
       "      <td id=\"T_0e2d5_row14_col3\" class=\"data row14 col3\" >10980.24</td>\n",
       "      <td id=\"T_0e2d5_row14_col4\" class=\"data row14 col4\" >-0.13</td>\n",
       "      <td id=\"T_0e2d5_row14_col5\" class=\"data row14 col5\" >0.73</td>\n",
       "      <td id=\"T_0e2d5_row14_col6\" class=\"data row14 col6\" >0.59</td>\n",
       "      <td id=\"T_0e2d5_row14_col7\" class=\"data row14 col7\" >0.17</td>\n",
       "    </tr>\n",
       "    <tr>\n",
       "      <th id=\"T_0e2d5_level0_row15\" class=\"row_heading level0 row15\" >llar</th>\n",
       "      <td id=\"T_0e2d5_row15_col0\" class=\"data row15 col0\" >Lasso Least Angle Regression</td>\n",
       "      <td id=\"T_0e2d5_row15_col1\" class=\"data row15 col1\" >6788.52</td>\n",
       "      <td id=\"T_0e2d5_row15_col2\" class=\"data row15 col2\" >120754328.40</td>\n",
       "      <td id=\"T_0e2d5_row15_col3\" class=\"data row15 col3\" >10980.24</td>\n",
       "      <td id=\"T_0e2d5_row15_col4\" class=\"data row15 col4\" >-0.13</td>\n",
       "      <td id=\"T_0e2d5_row15_col5\" class=\"data row15 col5\" >0.73</td>\n",
       "      <td id=\"T_0e2d5_row15_col6\" class=\"data row15 col6\" >0.59</td>\n",
       "      <td id=\"T_0e2d5_row15_col7\" class=\"data row15 col7\" >0.05</td>\n",
       "    </tr>\n",
       "    <tr>\n",
       "      <th id=\"T_0e2d5_level0_row16\" class=\"row_heading level0 row16\" >dummy</th>\n",
       "      <td id=\"T_0e2d5_row16_col0\" class=\"data row16 col0\" >Dummy Regressor</td>\n",
       "      <td id=\"T_0e2d5_row16_col1\" class=\"data row16 col1\" >6788.52</td>\n",
       "      <td id=\"T_0e2d5_row16_col2\" class=\"data row16 col2\" >120754328.40</td>\n",
       "      <td id=\"T_0e2d5_row16_col3\" class=\"data row16 col3\" >10980.24</td>\n",
       "      <td id=\"T_0e2d5_row16_col4\" class=\"data row16 col4\" >-0.13</td>\n",
       "      <td id=\"T_0e2d5_row16_col5\" class=\"data row16 col5\" >0.73</td>\n",
       "      <td id=\"T_0e2d5_row16_col6\" class=\"data row16 col6\" >0.59</td>\n",
       "      <td id=\"T_0e2d5_row16_col7\" class=\"data row16 col7\" >0.05</td>\n",
       "    </tr>\n",
       "    <tr>\n",
       "      <th id=\"T_0e2d5_level0_row17\" class=\"row_heading level0 row17\" >par</th>\n",
       "      <td id=\"T_0e2d5_row17_col0\" class=\"data row17 col0\" >Passive Aggressive Regressor</td>\n",
       "      <td id=\"T_0e2d5_row17_col1\" class=\"data row17 col1\" >16746.64</td>\n",
       "      <td id=\"T_0e2d5_row17_col2\" class=\"data row17 col2\" >151836393530.61</td>\n",
       "      <td id=\"T_0e2d5_row17_col3\" class=\"data row17 col3\" >195442.38</td>\n",
       "      <td id=\"T_0e2d5_row17_col4\" class=\"data row17 col4\" >-1520.66</td>\n",
       "      <td id=\"T_0e2d5_row17_col5\" class=\"data row17 col5\" >0.66</td>\n",
       "      <td id=\"T_0e2d5_row17_col6\" class=\"data row17 col6\" >0.99</td>\n",
       "      <td id=\"T_0e2d5_row17_col7\" class=\"data row17 col7\" >0.05</td>\n",
       "    </tr>\n",
       "  </tbody>\n",
       "</table>\n"
      ],
      "text/plain": [
       "<pandas.io.formats.style.Styler at 0x14a65fa00>"
      ]
     },
     "metadata": {},
     "output_type": "display_data"
    },
    {
     "data": {
      "text/html": [],
      "text/plain": [
       "<IPython.core.display.HTML object>"
      ]
     },
     "metadata": {},
     "output_type": "display_data"
    }
   ],
   "source": [
    "best_models = compare_models(n_select=3, fold=5, round=2)"
   ]
  },
  {
   "cell_type": "markdown",
   "id": "t68rVj-gfciG",
   "metadata": {
    "id": "t68rVj-gfciG"
   },
   "source": [
    "### 모델 블렌딩 blend_models\n",
    "\n",
    "- `compare_models`로 추출된 best 모델에 대하여 모델 블렌딩하여 성능 개선\n",
    "- `Soft` voting 방식으로 `estimator_list`에 적용된 모델을 앙상블\n",
    "- `Voting Ensemble`"
   ]
  },
  {
   "cell_type": "code",
   "execution_count": 14,
   "id": "qLwzgiNYfG8N",
   "metadata": {
    "id": "qLwzgiNYfG8N"
   },
   "outputs": [
    {
     "data": {
      "text/html": [],
      "text/plain": [
       "<IPython.core.display.HTML object>"
      ]
     },
     "metadata": {},
     "output_type": "display_data"
    },
    {
     "data": {
      "text/html": [
       "<style type=\"text/css\">\n",
       "#T_6d1ec_row5_col0, #T_6d1ec_row5_col1, #T_6d1ec_row5_col2, #T_6d1ec_row5_col3, #T_6d1ec_row5_col4, #T_6d1ec_row5_col5 {\n",
       "  background: yellow;\n",
       "}\n",
       "</style>\n",
       "<table id=\"T_6d1ec\">\n",
       "  <thead>\n",
       "    <tr>\n",
       "      <th class=\"blank level0\" >&nbsp;</th>\n",
       "      <th id=\"T_6d1ec_level0_col0\" class=\"col_heading level0 col0\" >MAE</th>\n",
       "      <th id=\"T_6d1ec_level0_col1\" class=\"col_heading level0 col1\" >MSE</th>\n",
       "      <th id=\"T_6d1ec_level0_col2\" class=\"col_heading level0 col2\" >RMSE</th>\n",
       "      <th id=\"T_6d1ec_level0_col3\" class=\"col_heading level0 col3\" >R2</th>\n",
       "      <th id=\"T_6d1ec_level0_col4\" class=\"col_heading level0 col4\" >RMSLE</th>\n",
       "      <th id=\"T_6d1ec_level0_col5\" class=\"col_heading level0 col5\" >MAPE</th>\n",
       "    </tr>\n",
       "    <tr>\n",
       "      <th class=\"index_name level0\" >Fold</th>\n",
       "      <th class=\"blank col0\" >&nbsp;</th>\n",
       "      <th class=\"blank col1\" >&nbsp;</th>\n",
       "      <th class=\"blank col2\" >&nbsp;</th>\n",
       "      <th class=\"blank col3\" >&nbsp;</th>\n",
       "      <th class=\"blank col4\" >&nbsp;</th>\n",
       "      <th class=\"blank col5\" >&nbsp;</th>\n",
       "    </tr>\n",
       "  </thead>\n",
       "  <tbody>\n",
       "    <tr>\n",
       "      <th id=\"T_6d1ec_level0_row0\" class=\"row_heading level0 row0\" >0</th>\n",
       "      <td id=\"T_6d1ec_row0_col0\" class=\"data row0 col0\" >1267.6611</td>\n",
       "      <td id=\"T_6d1ec_row0_col1\" class=\"data row0 col1\" >3413435.1821</td>\n",
       "      <td id=\"T_6d1ec_row0_col2\" class=\"data row0 col2\" >1847.5484</td>\n",
       "      <td id=\"T_6d1ec_row0_col3\" class=\"data row0 col3\" >0.9668</td>\n",
       "      <td id=\"T_6d1ec_row0_col4\" class=\"data row0 col4\" >0.1960</td>\n",
       "      <td id=\"T_6d1ec_row0_col5\" class=\"data row0 col5\" >0.1534</td>\n",
       "    </tr>\n",
       "    <tr>\n",
       "      <th id=\"T_6d1ec_level0_row1\" class=\"row_heading level0 row1\" >1</th>\n",
       "      <td id=\"T_6d1ec_row1_col0\" class=\"data row1 col0\" >1375.2386</td>\n",
       "      <td id=\"T_6d1ec_row1_col1\" class=\"data row1 col1\" >5554473.3898</td>\n",
       "      <td id=\"T_6d1ec_row1_col2\" class=\"data row1 col2\" >2356.7930</td>\n",
       "      <td id=\"T_6d1ec_row1_col3\" class=\"data row1 col3\" >0.9532</td>\n",
       "      <td id=\"T_6d1ec_row1_col4\" class=\"data row1 col4\" >0.1804</td>\n",
       "      <td id=\"T_6d1ec_row1_col5\" class=\"data row1 col5\" >0.1397</td>\n",
       "    </tr>\n",
       "    <tr>\n",
       "      <th id=\"T_6d1ec_level0_row2\" class=\"row_heading level0 row2\" >2</th>\n",
       "      <td id=\"T_6d1ec_row2_col0\" class=\"data row2 col0\" >1228.5037</td>\n",
       "      <td id=\"T_6d1ec_row2_col1\" class=\"data row2 col1\" >3459920.6284</td>\n",
       "      <td id=\"T_6d1ec_row2_col2\" class=\"data row2 col2\" >1860.0862</td>\n",
       "      <td id=\"T_6d1ec_row2_col3\" class=\"data row2 col3\" >0.9653</td>\n",
       "      <td id=\"T_6d1ec_row2_col4\" class=\"data row2 col4\" >0.1865</td>\n",
       "      <td id=\"T_6d1ec_row2_col5\" class=\"data row2 col5\" >0.1460</td>\n",
       "    </tr>\n",
       "    <tr>\n",
       "      <th id=\"T_6d1ec_level0_row3\" class=\"row_heading level0 row3\" >3</th>\n",
       "      <td id=\"T_6d1ec_row3_col0\" class=\"data row3 col0\" >1279.6689</td>\n",
       "      <td id=\"T_6d1ec_row3_col1\" class=\"data row3 col1\" >4293234.2593</td>\n",
       "      <td id=\"T_6d1ec_row3_col2\" class=\"data row3 col2\" >2072.0121</td>\n",
       "      <td id=\"T_6d1ec_row3_col3\" class=\"data row3 col3\" >0.9596</td>\n",
       "      <td id=\"T_6d1ec_row3_col4\" class=\"data row3 col4\" >0.1902</td>\n",
       "      <td id=\"T_6d1ec_row3_col5\" class=\"data row3 col5\" >0.1497</td>\n",
       "    </tr>\n",
       "    <tr>\n",
       "      <th id=\"T_6d1ec_level0_row4\" class=\"row_heading level0 row4\" >4</th>\n",
       "      <td id=\"T_6d1ec_row4_col0\" class=\"data row4 col0\" >1360.8001</td>\n",
       "      <td id=\"T_6d1ec_row4_col1\" class=\"data row4 col1\" >4959823.4161</td>\n",
       "      <td id=\"T_6d1ec_row4_col2\" class=\"data row4 col2\" >2227.0661</td>\n",
       "      <td id=\"T_6d1ec_row4_col3\" class=\"data row4 col3\" >0.9539</td>\n",
       "      <td id=\"T_6d1ec_row4_col4\" class=\"data row4 col4\" >0.1746</td>\n",
       "      <td id=\"T_6d1ec_row4_col5\" class=\"data row4 col5\" >0.1313</td>\n",
       "    </tr>\n",
       "    <tr>\n",
       "      <th id=\"T_6d1ec_level0_row5\" class=\"row_heading level0 row5\" >Mean</th>\n",
       "      <td id=\"T_6d1ec_row5_col0\" class=\"data row5 col0\" >1302.3745</td>\n",
       "      <td id=\"T_6d1ec_row5_col1\" class=\"data row5 col1\" >4336177.3751</td>\n",
       "      <td id=\"T_6d1ec_row5_col2\" class=\"data row5 col2\" >2072.7012</td>\n",
       "      <td id=\"T_6d1ec_row5_col3\" class=\"data row5 col3\" >0.9598</td>\n",
       "      <td id=\"T_6d1ec_row5_col4\" class=\"data row5 col4\" >0.1856</td>\n",
       "      <td id=\"T_6d1ec_row5_col5\" class=\"data row5 col5\" >0.1440</td>\n",
       "    </tr>\n",
       "    <tr>\n",
       "      <th id=\"T_6d1ec_level0_row6\" class=\"row_heading level0 row6\" >Std</th>\n",
       "      <td id=\"T_6d1ec_row6_col0\" class=\"data row6 col0\" >56.3918</td>\n",
       "      <td id=\"T_6d1ec_row6_col1\" class=\"data row6 col1\" >835978.7935</td>\n",
       "      <td id=\"T_6d1ec_row6_col2\" class=\"data row6 col2\" >200.2179</td>\n",
       "      <td id=\"T_6d1ec_row6_col3\" class=\"data row6 col3\" >0.0056</td>\n",
       "      <td id=\"T_6d1ec_row6_col4\" class=\"data row6 col4\" >0.0075</td>\n",
       "      <td id=\"T_6d1ec_row6_col5\" class=\"data row6 col5\" >0.0078</td>\n",
       "    </tr>\n",
       "  </tbody>\n",
       "</table>\n"
      ],
      "text/plain": [
       "<pandas.io.formats.style.Styler at 0x1632c2610>"
      ]
     },
     "metadata": {},
     "output_type": "display_data"
    },
    {
     "data": {
      "text/html": [],
      "text/plain": [
       "<IPython.core.display.HTML object>"
      ]
     },
     "metadata": {},
     "output_type": "display_data"
    }
   ],
   "source": [
    "blended_models = blend_models(best_models, fold=5)"
   ]
  },
  {
   "cell_type": "markdown",
   "id": "JwzPvXm2hqCf",
   "metadata": {
    "id": "JwzPvXm2hqCf"
   },
   "source": [
    "## 단일 모델 생성 create_models() / 앙상블 ensemble_models()"
   ]
  },
  {
   "cell_type": "markdown",
   "id": "2KXSiuGTIO96",
   "metadata": {
    "id": "2KXSiuGTIO96"
   },
   "source": [
    "단일 모델을 생성하기 위해서는 `create_model`로 생성할 수 있습니다."
   ]
  },
  {
   "cell_type": "code",
   "execution_count": 15,
   "id": "2f2c631f",
   "metadata": {},
   "outputs": [
    {
     "data": {
      "text/html": [
       "<div>\n",
       "<style scoped>\n",
       "    .dataframe tbody tr th:only-of-type {\n",
       "        vertical-align: middle;\n",
       "    }\n",
       "\n",
       "    .dataframe tbody tr th {\n",
       "        vertical-align: top;\n",
       "    }\n",
       "\n",
       "    .dataframe thead th {\n",
       "        text-align: right;\n",
       "    }\n",
       "</style>\n",
       "<table border=\"1\" class=\"dataframe\">\n",
       "  <thead>\n",
       "    <tr style=\"text-align: right;\">\n",
       "      <th></th>\n",
       "      <th>Name</th>\n",
       "      <th>Reference</th>\n",
       "      <th>Turbo</th>\n",
       "    </tr>\n",
       "    <tr>\n",
       "      <th>ID</th>\n",
       "      <th></th>\n",
       "      <th></th>\n",
       "      <th></th>\n",
       "    </tr>\n",
       "  </thead>\n",
       "  <tbody>\n",
       "    <tr>\n",
       "      <th>lr</th>\n",
       "      <td>Linear Regression</td>\n",
       "      <td>sklearn.linear_model._base.LinearRegression</td>\n",
       "      <td>True</td>\n",
       "    </tr>\n",
       "    <tr>\n",
       "      <th>lasso</th>\n",
       "      <td>Lasso Regression</td>\n",
       "      <td>sklearn.linear_model._coordinate_descent.Lasso</td>\n",
       "      <td>True</td>\n",
       "    </tr>\n",
       "    <tr>\n",
       "      <th>ridge</th>\n",
       "      <td>Ridge Regression</td>\n",
       "      <td>sklearn.linear_model._ridge.Ridge</td>\n",
       "      <td>True</td>\n",
       "    </tr>\n",
       "    <tr>\n",
       "      <th>en</th>\n",
       "      <td>Elastic Net</td>\n",
       "      <td>sklearn.linear_model._coordinate_descent.Elast...</td>\n",
       "      <td>True</td>\n",
       "    </tr>\n",
       "    <tr>\n",
       "      <th>lar</th>\n",
       "      <td>Least Angle Regression</td>\n",
       "      <td>sklearn.linear_model._least_angle.Lars</td>\n",
       "      <td>True</td>\n",
       "    </tr>\n",
       "    <tr>\n",
       "      <th>llar</th>\n",
       "      <td>Lasso Least Angle Regression</td>\n",
       "      <td>sklearn.linear_model._least_angle.LassoLars</td>\n",
       "      <td>True</td>\n",
       "    </tr>\n",
       "    <tr>\n",
       "      <th>omp</th>\n",
       "      <td>Orthogonal Matching Pursuit</td>\n",
       "      <td>sklearn.linear_model._omp.OrthogonalMatchingPu...</td>\n",
       "      <td>True</td>\n",
       "    </tr>\n",
       "    <tr>\n",
       "      <th>br</th>\n",
       "      <td>Bayesian Ridge</td>\n",
       "      <td>sklearn.linear_model._bayes.BayesianRidge</td>\n",
       "      <td>True</td>\n",
       "    </tr>\n",
       "    <tr>\n",
       "      <th>ard</th>\n",
       "      <td>Automatic Relevance Determination</td>\n",
       "      <td>sklearn.linear_model._bayes.ARDRegression</td>\n",
       "      <td>False</td>\n",
       "    </tr>\n",
       "    <tr>\n",
       "      <th>par</th>\n",
       "      <td>Passive Aggressive Regressor</td>\n",
       "      <td>sklearn.linear_model._passive_aggressive.Passi...</td>\n",
       "      <td>True</td>\n",
       "    </tr>\n",
       "    <tr>\n",
       "      <th>ransac</th>\n",
       "      <td>Random Sample Consensus</td>\n",
       "      <td>sklearn.linear_model._ransac.RANSACRegressor</td>\n",
       "      <td>False</td>\n",
       "    </tr>\n",
       "    <tr>\n",
       "      <th>tr</th>\n",
       "      <td>TheilSen Regressor</td>\n",
       "      <td>sklearn.linear_model._theil_sen.TheilSenRegressor</td>\n",
       "      <td>False</td>\n",
       "    </tr>\n",
       "    <tr>\n",
       "      <th>huber</th>\n",
       "      <td>Huber Regressor</td>\n",
       "      <td>sklearn.linear_model._huber.HuberRegressor</td>\n",
       "      <td>True</td>\n",
       "    </tr>\n",
       "    <tr>\n",
       "      <th>kr</th>\n",
       "      <td>Kernel Ridge</td>\n",
       "      <td>sklearn.kernel_ridge.KernelRidge</td>\n",
       "      <td>False</td>\n",
       "    </tr>\n",
       "    <tr>\n",
       "      <th>svm</th>\n",
       "      <td>Support Vector Regression</td>\n",
       "      <td>sklearn.svm._classes.SVR</td>\n",
       "      <td>False</td>\n",
       "    </tr>\n",
       "    <tr>\n",
       "      <th>knn</th>\n",
       "      <td>K Neighbors Regressor</td>\n",
       "      <td>sklearn.neighbors._regression.KNeighborsRegressor</td>\n",
       "      <td>True</td>\n",
       "    </tr>\n",
       "    <tr>\n",
       "      <th>dt</th>\n",
       "      <td>Decision Tree Regressor</td>\n",
       "      <td>sklearn.tree._classes.DecisionTreeRegressor</td>\n",
       "      <td>True</td>\n",
       "    </tr>\n",
       "    <tr>\n",
       "      <th>rf</th>\n",
       "      <td>Random Forest Regressor</td>\n",
       "      <td>sklearn.ensemble._forest.RandomForestRegressor</td>\n",
       "      <td>True</td>\n",
       "    </tr>\n",
       "    <tr>\n",
       "      <th>et</th>\n",
       "      <td>Extra Trees Regressor</td>\n",
       "      <td>sklearn.ensemble._forest.ExtraTreesRegressor</td>\n",
       "      <td>True</td>\n",
       "    </tr>\n",
       "    <tr>\n",
       "      <th>ada</th>\n",
       "      <td>AdaBoost Regressor</td>\n",
       "      <td>sklearn.ensemble._weight_boosting.AdaBoostRegr...</td>\n",
       "      <td>True</td>\n",
       "    </tr>\n",
       "    <tr>\n",
       "      <th>gbr</th>\n",
       "      <td>Gradient Boosting Regressor</td>\n",
       "      <td>sklearn.ensemble._gb.GradientBoostingRegressor</td>\n",
       "      <td>True</td>\n",
       "    </tr>\n",
       "    <tr>\n",
       "      <th>mlp</th>\n",
       "      <td>MLP Regressor</td>\n",
       "      <td>sklearn.neural_network._multilayer_perceptron....</td>\n",
       "      <td>False</td>\n",
       "    </tr>\n",
       "    <tr>\n",
       "      <th>lightgbm</th>\n",
       "      <td>Light Gradient Boosting Machine</td>\n",
       "      <td>lightgbm.sklearn.LGBMRegressor</td>\n",
       "      <td>True</td>\n",
       "    </tr>\n",
       "    <tr>\n",
       "      <th>dummy</th>\n",
       "      <td>Dummy Regressor</td>\n",
       "      <td>sklearn.dummy.DummyRegressor</td>\n",
       "      <td>True</td>\n",
       "    </tr>\n",
       "  </tbody>\n",
       "</table>\n",
       "</div>"
      ],
      "text/plain": [
       "                                       Name  \\\n",
       "ID                                            \n",
       "lr                        Linear Regression   \n",
       "lasso                      Lasso Regression   \n",
       "ridge                      Ridge Regression   \n",
       "en                              Elastic Net   \n",
       "lar                  Least Angle Regression   \n",
       "llar           Lasso Least Angle Regression   \n",
       "omp             Orthogonal Matching Pursuit   \n",
       "br                           Bayesian Ridge   \n",
       "ard       Automatic Relevance Determination   \n",
       "par            Passive Aggressive Regressor   \n",
       "ransac              Random Sample Consensus   \n",
       "tr                       TheilSen Regressor   \n",
       "huber                       Huber Regressor   \n",
       "kr                             Kernel Ridge   \n",
       "svm               Support Vector Regression   \n",
       "knn                   K Neighbors Regressor   \n",
       "dt                  Decision Tree Regressor   \n",
       "rf                  Random Forest Regressor   \n",
       "et                    Extra Trees Regressor   \n",
       "ada                      AdaBoost Regressor   \n",
       "gbr             Gradient Boosting Regressor   \n",
       "mlp                           MLP Regressor   \n",
       "lightgbm    Light Gradient Boosting Machine   \n",
       "dummy                       Dummy Regressor   \n",
       "\n",
       "                                                  Reference  Turbo  \n",
       "ID                                                                  \n",
       "lr              sklearn.linear_model._base.LinearRegression   True  \n",
       "lasso        sklearn.linear_model._coordinate_descent.Lasso   True  \n",
       "ridge                     sklearn.linear_model._ridge.Ridge   True  \n",
       "en        sklearn.linear_model._coordinate_descent.Elast...   True  \n",
       "lar                  sklearn.linear_model._least_angle.Lars   True  \n",
       "llar            sklearn.linear_model._least_angle.LassoLars   True  \n",
       "omp       sklearn.linear_model._omp.OrthogonalMatchingPu...   True  \n",
       "br                sklearn.linear_model._bayes.BayesianRidge   True  \n",
       "ard               sklearn.linear_model._bayes.ARDRegression  False  \n",
       "par       sklearn.linear_model._passive_aggressive.Passi...   True  \n",
       "ransac         sklearn.linear_model._ransac.RANSACRegressor  False  \n",
       "tr        sklearn.linear_model._theil_sen.TheilSenRegressor  False  \n",
       "huber            sklearn.linear_model._huber.HuberRegressor   True  \n",
       "kr                         sklearn.kernel_ridge.KernelRidge  False  \n",
       "svm                                sklearn.svm._classes.SVR  False  \n",
       "knn       sklearn.neighbors._regression.KNeighborsRegressor   True  \n",
       "dt              sklearn.tree._classes.DecisionTreeRegressor   True  \n",
       "rf           sklearn.ensemble._forest.RandomForestRegressor   True  \n",
       "et             sklearn.ensemble._forest.ExtraTreesRegressor   True  \n",
       "ada       sklearn.ensemble._weight_boosting.AdaBoostRegr...   True  \n",
       "gbr          sklearn.ensemble._gb.GradientBoostingRegressor   True  \n",
       "mlp       sklearn.neural_network._multilayer_perceptron....  False  \n",
       "lightgbm                     lightgbm.sklearn.LGBMRegressor   True  \n",
       "dummy                          sklearn.dummy.DummyRegressor   True  "
      ]
     },
     "execution_count": 15,
     "metadata": {},
     "output_type": "execute_result"
    }
   ],
   "source": [
    "models()"
   ]
  },
  {
   "cell_type": "code",
   "execution_count": 16,
   "id": "C3B7yEI1hvae",
   "metadata": {
    "id": "C3B7yEI1hvae"
   },
   "outputs": [
    {
     "data": {
      "text/html": [],
      "text/plain": [
       "<IPython.core.display.HTML object>"
      ]
     },
     "metadata": {},
     "output_type": "display_data"
    },
    {
     "data": {
      "text/html": [
       "<style type=\"text/css\">\n",
       "#T_2c136_row10_col0, #T_2c136_row10_col1, #T_2c136_row10_col2, #T_2c136_row10_col3, #T_2c136_row10_col4, #T_2c136_row10_col5 {\n",
       "  background: yellow;\n",
       "}\n",
       "</style>\n",
       "<table id=\"T_2c136\">\n",
       "  <thead>\n",
       "    <tr>\n",
       "      <th class=\"blank level0\" >&nbsp;</th>\n",
       "      <th id=\"T_2c136_level0_col0\" class=\"col_heading level0 col0\" >MAE</th>\n",
       "      <th id=\"T_2c136_level0_col1\" class=\"col_heading level0 col1\" >MSE</th>\n",
       "      <th id=\"T_2c136_level0_col2\" class=\"col_heading level0 col2\" >RMSE</th>\n",
       "      <th id=\"T_2c136_level0_col3\" class=\"col_heading level0 col3\" >R2</th>\n",
       "      <th id=\"T_2c136_level0_col4\" class=\"col_heading level0 col4\" >RMSLE</th>\n",
       "      <th id=\"T_2c136_level0_col5\" class=\"col_heading level0 col5\" >MAPE</th>\n",
       "    </tr>\n",
       "    <tr>\n",
       "      <th class=\"index_name level0\" >Fold</th>\n",
       "      <th class=\"blank col0\" >&nbsp;</th>\n",
       "      <th class=\"blank col1\" >&nbsp;</th>\n",
       "      <th class=\"blank col2\" >&nbsp;</th>\n",
       "      <th class=\"blank col3\" >&nbsp;</th>\n",
       "      <th class=\"blank col4\" >&nbsp;</th>\n",
       "      <th class=\"blank col5\" >&nbsp;</th>\n",
       "    </tr>\n",
       "  </thead>\n",
       "  <tbody>\n",
       "    <tr>\n",
       "      <th id=\"T_2c136_level0_row0\" class=\"row_heading level0 row0\" >0</th>\n",
       "      <td id=\"T_2c136_row0_col0\" class=\"data row0 col0\" >1566.1020</td>\n",
       "      <td id=\"T_2c136_row0_col1\" class=\"data row0 col1\" >5561963.9282</td>\n",
       "      <td id=\"T_2c136_row0_col2\" class=\"data row0 col2\" >2358.3816</td>\n",
       "      <td id=\"T_2c136_row0_col3\" class=\"data row0 col3\" >0.9524</td>\n",
       "      <td id=\"T_2c136_row0_col4\" class=\"data row0 col4\" >0.2389</td>\n",
       "      <td id=\"T_2c136_row0_col5\" class=\"data row0 col5\" >0.1795</td>\n",
       "    </tr>\n",
       "    <tr>\n",
       "      <th id=\"T_2c136_level0_row1\" class=\"row_heading level0 row1\" >1</th>\n",
       "      <td id=\"T_2c136_row1_col0\" class=\"data row1 col0\" >1372.8126</td>\n",
       "      <td id=\"T_2c136_row1_col1\" class=\"data row1 col1\" >3767788.7461</td>\n",
       "      <td id=\"T_2c136_row1_col2\" class=\"data row1 col2\" >1941.0793</td>\n",
       "      <td id=\"T_2c136_row1_col3\" class=\"data row1 col3\" >0.9574</td>\n",
       "      <td id=\"T_2c136_row1_col4\" class=\"data row1 col4\" >0.2247</td>\n",
       "      <td id=\"T_2c136_row1_col5\" class=\"data row1 col5\" >0.1733</td>\n",
       "    </tr>\n",
       "    <tr>\n",
       "      <th id=\"T_2c136_level0_row2\" class=\"row_heading level0 row2\" >2</th>\n",
       "      <td id=\"T_2c136_row2_col0\" class=\"data row2 col0\" >1648.7069</td>\n",
       "      <td id=\"T_2c136_row2_col1\" class=\"data row2 col1\" >9117228.3284</td>\n",
       "      <td id=\"T_2c136_row2_col2\" class=\"data row2 col2\" >3019.4748</td>\n",
       "      <td id=\"T_2c136_row2_col3\" class=\"data row2 col3\" >0.9155</td>\n",
       "      <td id=\"T_2c136_row2_col4\" class=\"data row2 col4\" >0.1986</td>\n",
       "      <td id=\"T_2c136_row2_col5\" class=\"data row2 col5\" >0.1515</td>\n",
       "    </tr>\n",
       "    <tr>\n",
       "      <th id=\"T_2c136_level0_row3\" class=\"row_heading level0 row3\" >3</th>\n",
       "      <td id=\"T_2c136_row3_col0\" class=\"data row3 col0\" >1725.0770</td>\n",
       "      <td id=\"T_2c136_row3_col1\" class=\"data row3 col1\" >11162884.2834</td>\n",
       "      <td id=\"T_2c136_row3_col2\" class=\"data row3 col2\" >3341.0903</td>\n",
       "      <td id=\"T_2c136_row3_col3\" class=\"data row3 col3\" >0.9138</td>\n",
       "      <td id=\"T_2c136_row3_col4\" class=\"data row3 col4\" >0.2223</td>\n",
       "      <td id=\"T_2c136_row3_col5\" class=\"data row3 col5\" >0.1658</td>\n",
       "    </tr>\n",
       "    <tr>\n",
       "      <th id=\"T_2c136_level0_row4\" class=\"row_heading level0 row4\" >4</th>\n",
       "      <td id=\"T_2c136_row4_col0\" class=\"data row4 col0\" >1385.0583</td>\n",
       "      <td id=\"T_2c136_row4_col1\" class=\"data row4 col1\" >4272603.1644</td>\n",
       "      <td id=\"T_2c136_row4_col2\" class=\"data row4 col2\" >2067.0276</td>\n",
       "      <td id=\"T_2c136_row4_col3\" class=\"data row4 col3\" >0.9551</td>\n",
       "      <td id=\"T_2c136_row4_col4\" class=\"data row4 col4\" >0.2074</td>\n",
       "      <td id=\"T_2c136_row4_col5\" class=\"data row4 col5\" >0.1590</td>\n",
       "    </tr>\n",
       "    <tr>\n",
       "      <th id=\"T_2c136_level0_row5\" class=\"row_heading level0 row5\" >5</th>\n",
       "      <td id=\"T_2c136_row5_col0\" class=\"data row5 col0\" >1489.0309</td>\n",
       "      <td id=\"T_2c136_row5_col1\" class=\"data row5 col1\" >5984498.8904</td>\n",
       "      <td id=\"T_2c136_row5_col2\" class=\"data row5 col2\" >2446.3235</td>\n",
       "      <td id=\"T_2c136_row5_col3\" class=\"data row5 col3\" >0.9426</td>\n",
       "      <td id=\"T_2c136_row5_col4\" class=\"data row5 col4\" >0.2197</td>\n",
       "      <td id=\"T_2c136_row5_col5\" class=\"data row5 col5\" >0.1671</td>\n",
       "    </tr>\n",
       "    <tr>\n",
       "      <th id=\"T_2c136_level0_row6\" class=\"row_heading level0 row6\" >6</th>\n",
       "      <td id=\"T_2c136_row6_col0\" class=\"data row6 col0\" >1557.2614</td>\n",
       "      <td id=\"T_2c136_row6_col1\" class=\"data row6 col1\" >6357071.7693</td>\n",
       "      <td id=\"T_2c136_row6_col2\" class=\"data row6 col2\" >2521.3234</td>\n",
       "      <td id=\"T_2c136_row6_col3\" class=\"data row6 col3\" >0.9437</td>\n",
       "      <td id=\"T_2c136_row6_col4\" class=\"data row6 col4\" >0.2361</td>\n",
       "      <td id=\"T_2c136_row6_col5\" class=\"data row6 col5\" >0.1718</td>\n",
       "    </tr>\n",
       "    <tr>\n",
       "      <th id=\"T_2c136_level0_row7\" class=\"row_heading level0 row7\" >7</th>\n",
       "      <td id=\"T_2c136_row7_col0\" class=\"data row7 col0\" >1587.0819</td>\n",
       "      <td id=\"T_2c136_row7_col1\" class=\"data row7 col1\" >7223248.3030</td>\n",
       "      <td id=\"T_2c136_row7_col2\" class=\"data row7 col2\" >2687.6101</td>\n",
       "      <td id=\"T_2c136_row7_col3\" class=\"data row7 col3\" >0.9276</td>\n",
       "      <td id=\"T_2c136_row7_col4\" class=\"data row7 col4\" >0.2218</td>\n",
       "      <td id=\"T_2c136_row7_col5\" class=\"data row7 col5\" >0.1751</td>\n",
       "    </tr>\n",
       "    <tr>\n",
       "      <th id=\"T_2c136_level0_row8\" class=\"row_heading level0 row8\" >8</th>\n",
       "      <td id=\"T_2c136_row8_col0\" class=\"data row8 col0\" >1558.1606</td>\n",
       "      <td id=\"T_2c136_row8_col1\" class=\"data row8 col1\" >6127035.6759</td>\n",
       "      <td id=\"T_2c136_row8_col2\" class=\"data row8 col2\" >2475.2850</td>\n",
       "      <td id=\"T_2c136_row8_col3\" class=\"data row8 col3\" >0.9452</td>\n",
       "      <td id=\"T_2c136_row8_col4\" class=\"data row8 col4\" >0.2108</td>\n",
       "      <td id=\"T_2c136_row8_col5\" class=\"data row8 col5\" >0.1508</td>\n",
       "    </tr>\n",
       "    <tr>\n",
       "      <th id=\"T_2c136_level0_row9\" class=\"row_heading level0 row9\" >9</th>\n",
       "      <td id=\"T_2c136_row9_col0\" class=\"data row9 col0\" >1525.6634</td>\n",
       "      <td id=\"T_2c136_row9_col1\" class=\"data row9 col1\" >8360084.8648</td>\n",
       "      <td id=\"T_2c136_row9_col2\" class=\"data row9 col2\" >2891.3811</td>\n",
       "      <td id=\"T_2c136_row9_col3\" class=\"data row9 col3\" >0.9192</td>\n",
       "      <td id=\"T_2c136_row9_col4\" class=\"data row9 col4\" >0.2139</td>\n",
       "      <td id=\"T_2c136_row9_col5\" class=\"data row9 col5\" >0.1529</td>\n",
       "    </tr>\n",
       "    <tr>\n",
       "      <th id=\"T_2c136_level0_row10\" class=\"row_heading level0 row10\" >Mean</th>\n",
       "      <td id=\"T_2c136_row10_col0\" class=\"data row10 col0\" >1541.4955</td>\n",
       "      <td id=\"T_2c136_row10_col1\" class=\"data row10 col1\" >6793440.7954</td>\n",
       "      <td id=\"T_2c136_row10_col2\" class=\"data row10 col2\" >2574.8977</td>\n",
       "      <td id=\"T_2c136_row10_col3\" class=\"data row10 col3\" >0.9372</td>\n",
       "      <td id=\"T_2c136_row10_col4\" class=\"data row10 col4\" >0.2194</td>\n",
       "      <td id=\"T_2c136_row10_col5\" class=\"data row10 col5\" >0.1647</td>\n",
       "    </tr>\n",
       "    <tr>\n",
       "      <th id=\"T_2c136_level0_row11\" class=\"row_heading level0 row11\" >Std</th>\n",
       "      <td id=\"T_2c136_row11_col0\" class=\"data row11 col0\" >102.1450</td>\n",
       "      <td id=\"T_2c136_row11_col1\" class=\"data row11 col1\" >2131801.1564</td>\n",
       "      <td id=\"T_2c136_row11_col2\" class=\"data row11 col2\" >404.1568</td>\n",
       "      <td id=\"T_2c136_row11_col3\" class=\"data row11 col3\" >0.0159</td>\n",
       "      <td id=\"T_2c136_row11_col4\" class=\"data row11 col4\" >0.0118</td>\n",
       "      <td id=\"T_2c136_row11_col5\" class=\"data row11 col5\" >0.0100</td>\n",
       "    </tr>\n",
       "  </tbody>\n",
       "</table>\n"
      ],
      "text/plain": [
       "<pandas.io.formats.style.Styler at 0x162e75b50>"
      ]
     },
     "metadata": {},
     "output_type": "display_data"
    },
    {
     "data": {
      "text/html": [],
      "text/plain": [
       "<IPython.core.display.HTML object>"
      ]
     },
     "metadata": {},
     "output_type": "display_data"
    }
   ],
   "source": [
    "dt = create_model('dt')"
   ]
  },
  {
   "cell_type": "markdown",
   "id": "Er5WoBGhIfrq",
   "metadata": {
    "id": "Er5WoBGhIfrq"
   },
   "source": [
    "- [배깅 앙상블](https://teddylee777.github.io/machine-learning/ensemble%EA%B8%B0%EB%B2%95%EC%97%90-%EB%8C%80%ED%95%9C-%EC%9D%B4%ED%95%B4%EC%99%80-%EC%A2%85%EB%A5%98-2)\n",
    "\n",
    "- [부스팅 앙상블](https://teddylee777.github.io/machine-learning/ensemble%EA%B8%B0%EB%B2%95%EC%97%90-%EB%8C%80%ED%95%9C-%EC%9D%B4%ED%95%B4%EC%99%80-%EC%A2%85%EB%A5%98-3)"
   ]
  },
  {
   "cell_type": "code",
   "execution_count": 17,
   "id": "0B7_tTxEd4qp",
   "metadata": {
    "id": "0B7_tTxEd4qp"
   },
   "outputs": [
    {
     "data": {
      "text/html": [],
      "text/plain": [
       "<IPython.core.display.HTML object>"
      ]
     },
     "metadata": {},
     "output_type": "display_data"
    },
    {
     "data": {
      "text/html": [
       "<style type=\"text/css\">\n",
       "#T_86e43_row10_col0, #T_86e43_row10_col1, #T_86e43_row10_col2, #T_86e43_row10_col3, #T_86e43_row10_col4, #T_86e43_row10_col5 {\n",
       "  background: yellow;\n",
       "}\n",
       "</style>\n",
       "<table id=\"T_86e43\">\n",
       "  <thead>\n",
       "    <tr>\n",
       "      <th class=\"blank level0\" >&nbsp;</th>\n",
       "      <th id=\"T_86e43_level0_col0\" class=\"col_heading level0 col0\" >MAE</th>\n",
       "      <th id=\"T_86e43_level0_col1\" class=\"col_heading level0 col1\" >MSE</th>\n",
       "      <th id=\"T_86e43_level0_col2\" class=\"col_heading level0 col2\" >RMSE</th>\n",
       "      <th id=\"T_86e43_level0_col3\" class=\"col_heading level0 col3\" >R2</th>\n",
       "      <th id=\"T_86e43_level0_col4\" class=\"col_heading level0 col4\" >RMSLE</th>\n",
       "      <th id=\"T_86e43_level0_col5\" class=\"col_heading level0 col5\" >MAPE</th>\n",
       "    </tr>\n",
       "    <tr>\n",
       "      <th class=\"index_name level0\" >Fold</th>\n",
       "      <th class=\"blank col0\" >&nbsp;</th>\n",
       "      <th class=\"blank col1\" >&nbsp;</th>\n",
       "      <th class=\"blank col2\" >&nbsp;</th>\n",
       "      <th class=\"blank col3\" >&nbsp;</th>\n",
       "      <th class=\"blank col4\" >&nbsp;</th>\n",
       "      <th class=\"blank col5\" >&nbsp;</th>\n",
       "    </tr>\n",
       "  </thead>\n",
       "  <tbody>\n",
       "    <tr>\n",
       "      <th id=\"T_86e43_level0_row0\" class=\"row_heading level0 row0\" >0</th>\n",
       "      <td id=\"T_86e43_row0_col0\" class=\"data row0 col0\" >1441.2908</td>\n",
       "      <td id=\"T_86e43_row0_col1\" class=\"data row0 col1\" >5045748.4311</td>\n",
       "      <td id=\"T_86e43_row0_col2\" class=\"data row0 col2\" >2246.2743</td>\n",
       "      <td id=\"T_86e43_row0_col3\" class=\"data row0 col3\" >0.9568</td>\n",
       "      <td id=\"T_86e43_row0_col4\" class=\"data row0 col4\" >0.2204</td>\n",
       "      <td id=\"T_86e43_row0_col5\" class=\"data row0 col5\" >0.1685</td>\n",
       "    </tr>\n",
       "    <tr>\n",
       "      <th id=\"T_86e43_level0_row1\" class=\"row_heading level0 row1\" >1</th>\n",
       "      <td id=\"T_86e43_row1_col0\" class=\"data row1 col0\" >1255.5933</td>\n",
       "      <td id=\"T_86e43_row1_col1\" class=\"data row1 col1\" >3066559.2789</td>\n",
       "      <td id=\"T_86e43_row1_col2\" class=\"data row1 col2\" >1751.1594</td>\n",
       "      <td id=\"T_86e43_row1_col3\" class=\"data row1 col3\" >0.9653</td>\n",
       "      <td id=\"T_86e43_row1_col4\" class=\"data row1 col4\" >0.1965</td>\n",
       "      <td id=\"T_86e43_row1_col5\" class=\"data row1 col5\" >0.1525</td>\n",
       "    </tr>\n",
       "    <tr>\n",
       "      <th id=\"T_86e43_level0_row2\" class=\"row_heading level0 row2\" >2</th>\n",
       "      <td id=\"T_86e43_row2_col0\" class=\"data row2 col0\" >1405.6990</td>\n",
       "      <td id=\"T_86e43_row2_col1\" class=\"data row2 col1\" >4953768.3486</td>\n",
       "      <td id=\"T_86e43_row2_col2\" class=\"data row2 col2\" >2225.7063</td>\n",
       "      <td id=\"T_86e43_row2_col3\" class=\"data row2 col3\" >0.9541</td>\n",
       "      <td id=\"T_86e43_row2_col4\" class=\"data row2 col4\" >0.1873</td>\n",
       "      <td id=\"T_86e43_row2_col5\" class=\"data row2 col5\" >0.1432</td>\n",
       "    </tr>\n",
       "    <tr>\n",
       "      <th id=\"T_86e43_level0_row3\" class=\"row_heading level0 row3\" >3</th>\n",
       "      <td id=\"T_86e43_row3_col0\" class=\"data row3 col0\" >1568.3854</td>\n",
       "      <td id=\"T_86e43_row3_col1\" class=\"data row3 col1\" >8921629.4531</td>\n",
       "      <td id=\"T_86e43_row3_col2\" class=\"data row3 col2\" >2986.9097</td>\n",
       "      <td id=\"T_86e43_row3_col3\" class=\"data row3 col3\" >0.9311</td>\n",
       "      <td id=\"T_86e43_row3_col4\" class=\"data row3 col4\" >0.2063</td>\n",
       "      <td id=\"T_86e43_row3_col5\" class=\"data row3 col5\" >0.1545</td>\n",
       "    </tr>\n",
       "    <tr>\n",
       "      <th id=\"T_86e43_level0_row4\" class=\"row_heading level0 row4\" >4</th>\n",
       "      <td id=\"T_86e43_row4_col0\" class=\"data row4 col0\" >1322.7850</td>\n",
       "      <td id=\"T_86e43_row4_col1\" class=\"data row4 col1\" >4149880.2989</td>\n",
       "      <td id=\"T_86e43_row4_col2\" class=\"data row4 col2\" >2037.1255</td>\n",
       "      <td id=\"T_86e43_row4_col3\" class=\"data row4 col3\" >0.9564</td>\n",
       "      <td id=\"T_86e43_row4_col4\" class=\"data row4 col4\" >0.1997</td>\n",
       "      <td id=\"T_86e43_row4_col5\" class=\"data row4 col5\" >0.1527</td>\n",
       "    </tr>\n",
       "    <tr>\n",
       "      <th id=\"T_86e43_level0_row5\" class=\"row_heading level0 row5\" >5</th>\n",
       "      <td id=\"T_86e43_row5_col0\" class=\"data row5 col0\" >1357.2718</td>\n",
       "      <td id=\"T_86e43_row5_col1\" class=\"data row5 col1\" >5082760.3171</td>\n",
       "      <td id=\"T_86e43_row5_col2\" class=\"data row5 col2\" >2254.4978</td>\n",
       "      <td id=\"T_86e43_row5_col3\" class=\"data row5 col3\" >0.9513</td>\n",
       "      <td id=\"T_86e43_row5_col4\" class=\"data row5 col4\" >0.2000</td>\n",
       "      <td id=\"T_86e43_row5_col5\" class=\"data row5 col5\" >0.1548</td>\n",
       "    </tr>\n",
       "    <tr>\n",
       "      <th id=\"T_86e43_level0_row6\" class=\"row_heading level0 row6\" >6</th>\n",
       "      <td id=\"T_86e43_row6_col0\" class=\"data row6 col0\" >1385.8271</td>\n",
       "      <td id=\"T_86e43_row6_col1\" class=\"data row6 col1\" >4843823.3176</td>\n",
       "      <td id=\"T_86e43_row6_col2\" class=\"data row6 col2\" >2200.8688</td>\n",
       "      <td id=\"T_86e43_row6_col3\" class=\"data row6 col3\" >0.9571</td>\n",
       "      <td id=\"T_86e43_row6_col4\" class=\"data row6 col4\" >0.2209</td>\n",
       "      <td id=\"T_86e43_row6_col5\" class=\"data row6 col5\" >0.1597</td>\n",
       "    </tr>\n",
       "    <tr>\n",
       "      <th id=\"T_86e43_level0_row7\" class=\"row_heading level0 row7\" >7</th>\n",
       "      <td id=\"T_86e43_row7_col0\" class=\"data row7 col0\" >1401.2516</td>\n",
       "      <td id=\"T_86e43_row7_col1\" class=\"data row7 col1\" >5326718.7977</td>\n",
       "      <td id=\"T_86e43_row7_col2\" class=\"data row7 col2\" >2307.9685</td>\n",
       "      <td id=\"T_86e43_row7_col3\" class=\"data row7 col3\" >0.9466</td>\n",
       "      <td id=\"T_86e43_row7_col4\" class=\"data row7 col4\" >0.2025</td>\n",
       "      <td id=\"T_86e43_row7_col5\" class=\"data row7 col5\" >0.1594</td>\n",
       "    </tr>\n",
       "    <tr>\n",
       "      <th id=\"T_86e43_level0_row8\" class=\"row_heading level0 row8\" >8</th>\n",
       "      <td id=\"T_86e43_row8_col0\" class=\"data row8 col0\" >1389.8774</td>\n",
       "      <td id=\"T_86e43_row8_col1\" class=\"data row8 col1\" >4950892.9424</td>\n",
       "      <td id=\"T_86e43_row8_col2\" class=\"data row8 col2\" >2225.0602</td>\n",
       "      <td id=\"T_86e43_row8_col3\" class=\"data row8 col3\" >0.9557</td>\n",
       "      <td id=\"T_86e43_row8_col4\" class=\"data row8 col4\" >0.1850</td>\n",
       "      <td id=\"T_86e43_row8_col5\" class=\"data row8 col5\" >0.1325</td>\n",
       "    </tr>\n",
       "    <tr>\n",
       "      <th id=\"T_86e43_level0_row9\" class=\"row_heading level0 row9\" >9</th>\n",
       "      <td id=\"T_86e43_row9_col0\" class=\"data row9 col0\" >1437.4271</td>\n",
       "      <td id=\"T_86e43_row9_col1\" class=\"data row9 col1\" >5288440.1845</td>\n",
       "      <td id=\"T_86e43_row9_col2\" class=\"data row9 col2\" >2299.6609</td>\n",
       "      <td id=\"T_86e43_row9_col3\" class=\"data row9 col3\" >0.9489</td>\n",
       "      <td id=\"T_86e43_row9_col4\" class=\"data row9 col4\" >0.1973</td>\n",
       "      <td id=\"T_86e43_row9_col5\" class=\"data row9 col5\" >0.1436</td>\n",
       "    </tr>\n",
       "    <tr>\n",
       "      <th id=\"T_86e43_level0_row10\" class=\"row_heading level0 row10\" >Mean</th>\n",
       "      <td id=\"T_86e43_row10_col0\" class=\"data row10 col0\" >1396.5408</td>\n",
       "      <td id=\"T_86e43_row10_col1\" class=\"data row10 col1\" >5163022.1370</td>\n",
       "      <td id=\"T_86e43_row10_col2\" class=\"data row10 col2\" >2253.5231</td>\n",
       "      <td id=\"T_86e43_row10_col3\" class=\"data row10 col3\" >0.9523</td>\n",
       "      <td id=\"T_86e43_row10_col4\" class=\"data row10 col4\" >0.2016</td>\n",
       "      <td id=\"T_86e43_row10_col5\" class=\"data row10 col5\" >0.1521</td>\n",
       "    </tr>\n",
       "    <tr>\n",
       "      <th id=\"T_86e43_level0_row11\" class=\"row_heading level0 row11\" >Std</th>\n",
       "      <td id=\"T_86e43_row11_col0\" class=\"data row11 col0\" >77.6648</td>\n",
       "      <td id=\"T_86e43_row11_col1\" class=\"data row11 col1\" >1407200.6627</td>\n",
       "      <td id=\"T_86e43_row11_col2\" class=\"data row11 col2\" >290.9563</td>\n",
       "      <td id=\"T_86e43_row11_col3\" class=\"data row11 col3\" >0.0086</td>\n",
       "      <td id=\"T_86e43_row11_col4\" class=\"data row11 col4\" >0.0113</td>\n",
       "      <td id=\"T_86e43_row11_col5\" class=\"data row11 col5\" >0.0096</td>\n",
       "    </tr>\n",
       "  </tbody>\n",
       "</table>\n"
      ],
      "text/plain": [
       "<pandas.io.formats.style.Styler at 0x14a862e50>"
      ]
     },
     "metadata": {},
     "output_type": "display_data"
    },
    {
     "data": {
      "text/html": [],
      "text/plain": [
       "<IPython.core.display.HTML object>"
      ]
     },
     "metadata": {},
     "output_type": "display_data"
    }
   ],
   "source": [
    "ensembled_models = ensemble_model(dt, method='Bagging')"
   ]
  },
  {
   "cell_type": "code",
   "execution_count": 18,
   "id": "d0FRjnd5h1SN",
   "metadata": {
    "id": "d0FRjnd5h1SN"
   },
   "outputs": [
    {
     "data": {
      "text/html": [],
      "text/plain": [
       "<IPython.core.display.HTML object>"
      ]
     },
     "metadata": {},
     "output_type": "display_data"
    },
    {
     "data": {
      "text/html": [
       "<style type=\"text/css\">\n",
       "#T_09693_row10_col0, #T_09693_row10_col1, #T_09693_row10_col2, #T_09693_row10_col3, #T_09693_row10_col4, #T_09693_row10_col5 {\n",
       "  background: yellow;\n",
       "}\n",
       "</style>\n",
       "<table id=\"T_09693\">\n",
       "  <thead>\n",
       "    <tr>\n",
       "      <th class=\"blank level0\" >&nbsp;</th>\n",
       "      <th id=\"T_09693_level0_col0\" class=\"col_heading level0 col0\" >MAE</th>\n",
       "      <th id=\"T_09693_level0_col1\" class=\"col_heading level0 col1\" >MSE</th>\n",
       "      <th id=\"T_09693_level0_col2\" class=\"col_heading level0 col2\" >RMSE</th>\n",
       "      <th id=\"T_09693_level0_col3\" class=\"col_heading level0 col3\" >R2</th>\n",
       "      <th id=\"T_09693_level0_col4\" class=\"col_heading level0 col4\" >RMSLE</th>\n",
       "      <th id=\"T_09693_level0_col5\" class=\"col_heading level0 col5\" >MAPE</th>\n",
       "    </tr>\n",
       "    <tr>\n",
       "      <th class=\"index_name level0\" >Fold</th>\n",
       "      <th class=\"blank col0\" >&nbsp;</th>\n",
       "      <th class=\"blank col1\" >&nbsp;</th>\n",
       "      <th class=\"blank col2\" >&nbsp;</th>\n",
       "      <th class=\"blank col3\" >&nbsp;</th>\n",
       "      <th class=\"blank col4\" >&nbsp;</th>\n",
       "      <th class=\"blank col5\" >&nbsp;</th>\n",
       "    </tr>\n",
       "  </thead>\n",
       "  <tbody>\n",
       "    <tr>\n",
       "      <th id=\"T_09693_level0_row0\" class=\"row_heading level0 row0\" >0</th>\n",
       "      <td id=\"T_09693_row0_col0\" class=\"data row0 col0\" >1474.3106</td>\n",
       "      <td id=\"T_09693_row0_col1\" class=\"data row0 col1\" >5631542.4680</td>\n",
       "      <td id=\"T_09693_row0_col2\" class=\"data row0 col2\" >2373.0871</td>\n",
       "      <td id=\"T_09693_row0_col3\" class=\"data row0 col3\" >0.9518</td>\n",
       "      <td id=\"T_09693_row0_col4\" class=\"data row0 col4\" >0.2247</td>\n",
       "      <td id=\"T_09693_row0_col5\" class=\"data row0 col5\" >0.1682</td>\n",
       "    </tr>\n",
       "    <tr>\n",
       "      <th id=\"T_09693_level0_row1\" class=\"row_heading level0 row1\" >1</th>\n",
       "      <td id=\"T_09693_row1_col0\" class=\"data row1 col0\" >1267.9635</td>\n",
       "      <td id=\"T_09693_row1_col1\" class=\"data row1 col1\" >3159266.9531</td>\n",
       "      <td id=\"T_09693_row1_col2\" class=\"data row1 col2\" >1777.4327</td>\n",
       "      <td id=\"T_09693_row1_col3\" class=\"data row1 col3\" >0.9643</td>\n",
       "      <td id=\"T_09693_row1_col4\" class=\"data row1 col4\" >0.2129</td>\n",
       "      <td id=\"T_09693_row1_col5\" class=\"data row1 col5\" >0.1594</td>\n",
       "    </tr>\n",
       "    <tr>\n",
       "      <th id=\"T_09693_level0_row2\" class=\"row_heading level0 row2\" >2</th>\n",
       "      <td id=\"T_09693_row2_col0\" class=\"data row2 col0\" >1445.6082</td>\n",
       "      <td id=\"T_09693_row2_col1\" class=\"data row2 col1\" >5564642.3244</td>\n",
       "      <td id=\"T_09693_row2_col2\" class=\"data row2 col2\" >2358.9494</td>\n",
       "      <td id=\"T_09693_row2_col3\" class=\"data row2 col3\" >0.9484</td>\n",
       "      <td id=\"T_09693_row2_col4\" class=\"data row2 col4\" >0.1958</td>\n",
       "      <td id=\"T_09693_row2_col5\" class=\"data row2 col5\" >0.1463</td>\n",
       "    </tr>\n",
       "    <tr>\n",
       "      <th id=\"T_09693_level0_row3\" class=\"row_heading level0 row3\" >3</th>\n",
       "      <td id=\"T_09693_row3_col0\" class=\"data row3 col0\" >1577.6641</td>\n",
       "      <td id=\"T_09693_row3_col1\" class=\"data row3 col1\" >8301016.0350</td>\n",
       "      <td id=\"T_09693_row3_col2\" class=\"data row3 col2\" >2881.1484</td>\n",
       "      <td id=\"T_09693_row3_col3\" class=\"data row3 col3\" >0.9359</td>\n",
       "      <td id=\"T_09693_row3_col4\" class=\"data row3 col4\" >0.2148</td>\n",
       "      <td id=\"T_09693_row3_col5\" class=\"data row3 col5\" >0.1590</td>\n",
       "    </tr>\n",
       "    <tr>\n",
       "      <th id=\"T_09693_level0_row4\" class=\"row_heading level0 row4\" >4</th>\n",
       "      <td id=\"T_09693_row4_col0\" class=\"data row4 col0\" >1431.2988</td>\n",
       "      <td id=\"T_09693_row4_col1\" class=\"data row4 col1\" >4829494.4406</td>\n",
       "      <td id=\"T_09693_row4_col2\" class=\"data row4 col2\" >2197.6111</td>\n",
       "      <td id=\"T_09693_row4_col3\" class=\"data row4 col3\" >0.9493</td>\n",
       "      <td id=\"T_09693_row4_col4\" class=\"data row4 col4\" >0.2128</td>\n",
       "      <td id=\"T_09693_row4_col5\" class=\"data row4 col5\" >0.1612</td>\n",
       "    </tr>\n",
       "    <tr>\n",
       "      <th id=\"T_09693_level0_row5\" class=\"row_heading level0 row5\" >5</th>\n",
       "      <td id=\"T_09693_row5_col0\" class=\"data row5 col0\" >1437.6035</td>\n",
       "      <td id=\"T_09693_row5_col1\" class=\"data row5 col1\" >7425918.8019</td>\n",
       "      <td id=\"T_09693_row5_col2\" class=\"data row5 col2\" >2725.0539</td>\n",
       "      <td id=\"T_09693_row5_col3\" class=\"data row5 col3\" >0.9288</td>\n",
       "      <td id=\"T_09693_row5_col4\" class=\"data row5 col4\" >0.2123</td>\n",
       "      <td id=\"T_09693_row5_col5\" class=\"data row5 col5\" >0.1614</td>\n",
       "    </tr>\n",
       "    <tr>\n",
       "      <th id=\"T_09693_level0_row6\" class=\"row_heading level0 row6\" >6</th>\n",
       "      <td id=\"T_09693_row6_col0\" class=\"data row6 col0\" >1479.4150</td>\n",
       "      <td id=\"T_09693_row6_col1\" class=\"data row6 col1\" >6921686.9637</td>\n",
       "      <td id=\"T_09693_row6_col2\" class=\"data row6 col2\" >2630.9099</td>\n",
       "      <td id=\"T_09693_row6_col3\" class=\"data row6 col3\" >0.9387</td>\n",
       "      <td id=\"T_09693_row6_col4\" class=\"data row6 col4\" >0.2281</td>\n",
       "      <td id=\"T_09693_row6_col5\" class=\"data row6 col5\" >0.1648</td>\n",
       "    </tr>\n",
       "    <tr>\n",
       "      <th id=\"T_09693_level0_row7\" class=\"row_heading level0 row7\" >7</th>\n",
       "      <td id=\"T_09693_row7_col0\" class=\"data row7 col0\" >1476.1202</td>\n",
       "      <td id=\"T_09693_row7_col1\" class=\"data row7 col1\" >5955073.4565</td>\n",
       "      <td id=\"T_09693_row7_col2\" class=\"data row7 col2\" >2440.3019</td>\n",
       "      <td id=\"T_09693_row7_col3\" class=\"data row7 col3\" >0.9403</td>\n",
       "      <td id=\"T_09693_row7_col4\" class=\"data row7 col4\" >0.2154</td>\n",
       "      <td id=\"T_09693_row7_col5\" class=\"data row7 col5\" >0.1692</td>\n",
       "    </tr>\n",
       "    <tr>\n",
       "      <th id=\"T_09693_level0_row8\" class=\"row_heading level0 row8\" >8</th>\n",
       "      <td id=\"T_09693_row8_col0\" class=\"data row8 col0\" >1464.6795</td>\n",
       "      <td id=\"T_09693_row8_col1\" class=\"data row8 col1\" >5582692.9987</td>\n",
       "      <td id=\"T_09693_row8_col2\" class=\"data row8 col2\" >2362.7723</td>\n",
       "      <td id=\"T_09693_row8_col3\" class=\"data row8 col3\" >0.9500</td>\n",
       "      <td id=\"T_09693_row8_col4\" class=\"data row8 col4\" >0.1955</td>\n",
       "      <td id=\"T_09693_row8_col5\" class=\"data row8 col5\" >0.1390</td>\n",
       "    </tr>\n",
       "    <tr>\n",
       "      <th id=\"T_09693_level0_row9\" class=\"row_heading level0 row9\" >9</th>\n",
       "      <td id=\"T_09693_row9_col0\" class=\"data row9 col0\" >1516.8927</td>\n",
       "      <td id=\"T_09693_row9_col1\" class=\"data row9 col1\" >5772917.3213</td>\n",
       "      <td id=\"T_09693_row9_col2\" class=\"data row9 col2\" >2402.6896</td>\n",
       "      <td id=\"T_09693_row9_col3\" class=\"data row9 col3\" >0.9442</td>\n",
       "      <td id=\"T_09693_row9_col4\" class=\"data row9 col4\" >0.2170</td>\n",
       "      <td id=\"T_09693_row9_col5\" class=\"data row9 col5\" >0.1546</td>\n",
       "    </tr>\n",
       "    <tr>\n",
       "      <th id=\"T_09693_level0_row10\" class=\"row_heading level0 row10\" >Mean</th>\n",
       "      <td id=\"T_09693_row10_col0\" class=\"data row10 col0\" >1457.1556</td>\n",
       "      <td id=\"T_09693_row10_col1\" class=\"data row10 col1\" >5914425.1763</td>\n",
       "      <td id=\"T_09693_row10_col2\" class=\"data row10 col2\" >2414.9956</td>\n",
       "      <td id=\"T_09693_row10_col3\" class=\"data row10 col3\" >0.9452</td>\n",
       "      <td id=\"T_09693_row10_col4\" class=\"data row10 col4\" >0.2129</td>\n",
       "      <td id=\"T_09693_row10_col5\" class=\"data row10 col5\" >0.1583</td>\n",
       "    </tr>\n",
       "    <tr>\n",
       "      <th id=\"T_09693_level0_row11\" class=\"row_heading level0 row11\" >Std</th>\n",
       "      <td id=\"T_09693_row11_col0\" class=\"data row11 col0\" >75.0165</td>\n",
       "      <td id=\"T_09693_row11_col1\" class=\"data row11 col1\" >1345253.5231</td>\n",
       "      <td id=\"T_09693_row11_col2\" class=\"data row11 col2\" >286.7425</td>\n",
       "      <td id=\"T_09693_row11_col3\" class=\"data row11 col3\" >0.0094</td>\n",
       "      <td id=\"T_09693_row11_col4\" class=\"data row11 col4\" >0.0100</td>\n",
       "      <td id=\"T_09693_row11_col5\" class=\"data row11 col5\" >0.0090</td>\n",
       "    </tr>\n",
       "  </tbody>\n",
       "</table>\n"
      ],
      "text/plain": [
       "<pandas.io.formats.style.Styler at 0x14a8708e0>"
      ]
     },
     "metadata": {},
     "output_type": "display_data"
    },
    {
     "data": {
      "text/html": [],
      "text/plain": [
       "<IPython.core.display.HTML object>"
      ]
     },
     "metadata": {},
     "output_type": "display_data"
    }
   ],
   "source": [
    "ensembled_models = ensemble_model(dt, method='Boosting')"
   ]
  },
  {
   "cell_type": "markdown",
   "id": "0351UbCLaxZJ",
   "metadata": {
    "id": "0351UbCLaxZJ"
   },
   "source": [
    "## 모델 튜닝: tune_model()"
   ]
  },
  {
   "cell_type": "code",
   "execution_count": null,
   "id": "Uar4WoAga-kQ",
   "metadata": {
    "id": "Uar4WoAga-kQ"
   },
   "outputs": [],
   "source": [
    "lasso = create_model('lasso', fold=5)"
   ]
  },
  {
   "cell_type": "markdown",
   "id": "JOm11q-UbiVy",
   "metadata": {
    "id": "JOm11q-UbiVy"
   },
   "source": [
    "`RandomizedSearchCV`를 활용하여 하이퍼 파라미터를 튜닝합니다.\n",
    "\n",
    "- `n_iter`에 횟수를 늘리거나 줄여서 시도할 횟수를 지정할 수 있습니다."
   ]
  },
  {
   "cell_type": "code",
   "execution_count": null,
   "id": "DGZxp41ba0IR",
   "metadata": {
    "id": "DGZxp41ba0IR"
   },
   "outputs": [],
   "source": [
    "tuned_models = tune_model(dt, fold=5, n_iter=50, round=2)"
   ]
  },
  {
   "cell_type": "markdown",
   "id": "ombHKHXoli3a",
   "metadata": {
    "id": "ombHKHXoli3a"
   },
   "source": [
    "## 모델 예측: predict_model()\n",
    "\n",
    "- `Label`에 예측된 결과를 확인할 수 있습니다.\n",
    "- `Score`에 예측된 결과의 **확률** 값을 확인할 수 있습니다."
   ]
  },
  {
   "cell_type": "code",
   "execution_count": null,
   "id": "aR5eG-KrGGvc",
   "metadata": {
    "id": "aR5eG-KrGGvc"
   },
   "outputs": [],
   "source": [
    "prediction = predict_model(data=test, estimator=ensembled_models)"
   ]
  },
  {
   "cell_type": "markdown",
   "id": "hwihJrs9Iyvo",
   "metadata": {
    "id": "hwihJrs9Iyvo"
   },
   "source": [
    "## 모델 분석: interpret_model()"
   ]
  },
  {
   "cell_type": "markdown",
   "id": "So3v1yFWIhk-",
   "metadata": {
    "id": "So3v1yFWIhk-"
   },
   "source": [
    "### 특성 중요도 Feature Importances\n",
    "\n",
    "각 특성별 종속변수(Y)에 미치는 영향도를 계산"
   ]
  },
  {
   "cell_type": "code",
   "execution_count": null,
   "id": "e-D5qHvNIgER",
   "metadata": {
    "id": "e-D5qHvNIgER"
   },
   "outputs": [],
   "source": [
    "plot_model(dt, plot='feature')"
   ]
  }
 ],
 "metadata": {
  "colab": {
   "collapsed_sections": [],
   "machine_shape": "hm",
   "name": "02_회귀_level1",
   "provenance": []
  },
  "kernelspec": {
   "display_name": "Python 3 (ipykernel)",
   "language": "python",
   "name": "python3"
  },
  "language_info": {
   "codemirror_mode": {
    "name": "ipython",
    "version": 3
   },
   "file_extension": ".py",
   "mimetype": "text/x-python",
   "name": "python",
   "nbconvert_exporter": "python",
   "pygments_lexer": "ipython3",
   "version": "3.9.17"
  }
 },
 "nbformat": 4,
 "nbformat_minor": 5
}
