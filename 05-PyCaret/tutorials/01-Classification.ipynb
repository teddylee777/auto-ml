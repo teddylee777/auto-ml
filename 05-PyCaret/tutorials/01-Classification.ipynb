{
 "cells": [
  {
   "cell_type": "markdown",
   "id": "5ae0e343",
   "metadata": {
    "id": "5ae0e343"
   },
   "source": [
    "## PyCaret 설치"
   ]
  },
  {
   "cell_type": "code",
   "execution_count": null,
   "id": "47484d8d",
   "metadata": {
    "id": "47484d8d"
   },
   "outputs": [],
   "source": [
    "import urllib.request\n",
    "\n",
    "url = 'https://www.dropbox.com/s/pq6n1vg90a4v6t4/pycaret_colab.py?dl=1'\n",
    "urllib.request.urlretrieve(url, 'pycaret_colab.py')\n",
    "%run pycaret_colab.py"
   ]
  },
  {
   "cell_type": "markdown",
   "id": "3Ga7YijY_5OA",
   "metadata": {
    "id": "3Ga7YijY_5OA"
   },
   "source": [
    "## 분류 Classification"
   ]
  },
  {
   "cell_type": "markdown",
   "id": "Qk9J7sZz_4_C",
   "metadata": {
    "id": "Qk9J7sZz_4_C"
   },
   "source": [
    "- 분류 모델은 정답 값(label)에 대하여 **클래스(class)**가 존재하면 개별 데이터를 특정 클래스로 분류할 수 있는 모델입니다.\n",
    "\n",
    "- (예시) 암/정상 환자 분류, 스팸/햄 메일 분류"
   ]
  },
  {
   "cell_type": "markdown",
   "id": "7f4674cd",
   "metadata": {
    "id": "7f4674cd"
   },
   "source": [
    "## 필요한 모듈 import"
   ]
  },
  {
   "cell_type": "code",
   "execution_count": null,
   "id": "77da6ea3",
   "metadata": {
    "id": "77da6ea3"
   },
   "outputs": [],
   "source": [
    "import pandas as pd\n",
    "import numpy as np\n",
    "import seaborn as sns\n",
    "\n",
    "pd.options.display.max_columns = None"
   ]
  },
  {
   "cell_type": "markdown",
   "id": "73ffae10",
   "metadata": {
    "id": "73ffae10"
   },
   "source": [
    "## 실습을 위한 데이터셋 로드"
   ]
  },
  {
   "cell_type": "code",
   "execution_count": null,
   "id": "QtyRx-87jQXy",
   "metadata": {
    "id": "QtyRx-87jQXy"
   },
   "outputs": [],
   "source": [
    "from IPython.display import Image\n",
    "\n",
    "Image('https://static1.squarespace.com/static/5006453fe4b09ef2252ba068/t/5090b249e4b047ba54dfd258/1351660113175/TItanic-Survival-Infographic.jpg')"
   ]
  },
  {
   "cell_type": "markdown",
   "id": "ygE2qCROjUsq",
   "metadata": {
    "id": "ygE2qCROjUsq"
   },
   "source": [
    "건조 당시 세계 최대의 여객선이었지만,**1912년의 최초이자 최후의 항해 때 빙산과 충돌해 침몰한 비운의 여객선**. 아마도 세상에서 가장 유명한 여객선이자 침몰선일 것입니다. \n",
    "\n",
    "침몰한 지 100년이 넘었지만 아직까지 세계에서 가장 유명한 침몰선입니다. \n",
    "\n",
    "사망자 수는 1위는 아니지만, 세계적으로 유명한 영화의 영향도 있고, 당시 최첨단 기술에 대해 기대감이 컸던 사회에 큰 영향을 끼치기도 한데다가, 근대 사회에서 들어서자마자 얼마 안된, 그리고 **유명인사들이 여럿 희생된 대참사**이기 때문에 가장 유명한 침몰선이 되었습니다. 또한 이 사건을 기점으로 여러가지 안전 조약들이 생겨났으니 더더욱 그렇습니다."
   ]
  },
  {
   "cell_type": "code",
   "execution_count": null,
   "id": "NNEh2pF7ivJ8",
   "metadata": {
    "id": "NNEh2pF7ivJ8"
   },
   "outputs": [],
   "source": [
    "dataset = sns.load_dataset('titanic')\n",
    "dataset.head()"
   ]
  },
  {
   "cell_type": "code",
   "execution_count": null,
   "id": "222a5388",
   "metadata": {
    "id": "222a5388"
   },
   "outputs": [],
   "source": [
    "# 데이터셋 크기 출력\n",
    "dataset.shape"
   ]
  },
  {
   "cell_type": "markdown",
   "id": "BMZj0fh9jJmi",
   "metadata": {
    "id": "BMZj0fh9jJmi"
   },
   "source": [
    "### 컬럼 설명\n",
    "\n",
    "- survivied: 생존여부 (1: 생존, 0: 사망)\n",
    "- pclass: 좌석 등급 (1등급, 2등급, 3등급)\n",
    "- sex: 성별\n",
    "- age: 나이\n",
    "- sibsp: 형제 + 배우자 수\n",
    "- parch: 부모 + 자녀 수\n",
    "- fare: 좌석 요금\n",
    "- embarked: 탑승 항구 (S, C, Q)\n",
    "- class: pclass와 동일\n",
    "- who: 성인남자(man), 성인여자(woman), 어린아이(child)\n",
    "- adult_male: 성인 남자 여부\n",
    "- deck: 데크 번호 (알파벳 + 숫자 혼용)\n",
    "- embark_town: 탑승 항구 이름\n",
    "- alive: 생존여부 (yes, no)\n",
    "- alone: 혼자 탑승 여부"
   ]
  },
  {
   "cell_type": "markdown",
   "id": "af538cb6",
   "metadata": {},
   "source": [
    "## PyCaret의 큰 구조\n",
    "\n",
    "[링크](https://pycaret.gitbook.io/docs/get-started/functions)\n",
    "\n",
    "\n",
    "- STEP1: initialize\n",
    "- STEP2: train\n",
    "- STEP3: optimize\n",
    "- STEP4: analyze\n",
    "- STEP5: deploy"
   ]
  },
  {
   "cell_type": "markdown",
   "id": "6beffef3",
   "metadata": {
    "id": "6beffef3"
   },
   "source": [
    "----\n",
    "\n",
    "## 셋업 setup()\n",
    "\n",
    "- [도큐먼트 링크](https://pycaret.readthedocs.io/en/latest/api/classification.html)"
   ]
  },
  {
   "cell_type": "markdown",
   "id": "aO28a9eQmR1g",
   "metadata": {
    "id": "aO28a9eQmR1g"
   },
   "source": [
    "분류 예측 모형(Classification Model)을 생성하기 위한 첫 단계로 다음을 import 합니다."
   ]
  },
  {
   "cell_type": "code",
   "execution_count": null,
   "id": "fe755196",
   "metadata": {
    "id": "fe755196"
   },
   "outputs": [],
   "source": [
    "from pycaret.classification import *  # 분류"
   ]
  },
  {
   "cell_type": "markdown",
   "id": "099f81a7",
   "metadata": {
    "id": "099f81a7"
   },
   "source": [
    "**`setup` 함수**\n",
    "\n",
    "- `data`: 학습할 데이터셋을 지정합니다.\n",
    "- `target`: 분류 예측할 대상(target) 컬럼을 지정합니다.\n",
    "- `session_id`: SEED 값을 지정합니다.\n",
    "\n",
    "`setup()` 함수 실행시 AutoML / 데이터 전처리시 적용할 다양한 옵션 값들을 출력합니다."
   ]
  },
  {
   "cell_type": "code",
   "execution_count": null,
   "id": "f2278ada",
   "metadata": {
    "id": "f2278ada"
   },
   "outputs": [],
   "source": [
    "clf = setup(data=dataset, \n",
    "            target='survived', \n",
    "            session_id=123, \n",
    "           ) "
   ]
  },
  {
   "cell_type": "markdown",
   "id": "67e84aa0",
   "metadata": {},
   "source": [
    "- `verbose`: default=True. False로 설정시 **설정에 대한 출력생성을 생략**합니다."
   ]
  },
  {
   "cell_type": "code",
   "execution_count": null,
   "id": "40ef4958",
   "metadata": {},
   "outputs": [],
   "source": [
    "clf = setup(data=dataset, \n",
    "            target='survived', \n",
    "            session_id=123, \n",
    "            verbose=False, # False로 설정시 설정에 대한 출력생성을 생략합니다. (default=True)\n",
    "           ) "
   ]
  },
  {
   "cell_type": "markdown",
   "id": "b91d2d5d",
   "metadata": {
    "id": "b91d2d5d"
   },
   "source": [
    "## 모든 모델에 대한 학습: compare_models()\n",
    "\n",
    "`compare_models`\n",
    "- `sort`: 정렬 기준이 되는 평가지표를 설정합니다.\n",
    "- `n_select`: 상위 N개의 알고리즘을 선택합니다.\n",
    "- `fold`: Cross Validation 평가 Fold의 개수를 지정합니다."
   ]
  },
  {
   "cell_type": "code",
   "execution_count": null,
   "id": "0a74e38e",
   "metadata": {
    "id": "0a74e38e"
   },
   "outputs": [],
   "source": [
    "best_model = compare_models(sort='Accuracy', n_select=3, fold=5)"
   ]
  },
  {
   "cell_type": "code",
   "execution_count": null,
   "id": "5d138942",
   "metadata": {
    "id": "5d138942"
   },
   "outputs": [],
   "source": [
    "# 제일 성능이 좋은 모델을 출력합니다.\n",
    "print(best_model)"
   ]
  },
  {
   "cell_type": "markdown",
   "id": "v5hftUvJkPdi",
   "metadata": {
    "id": "v5hftUvJkPdi"
   },
   "source": [
    "`survived`를 예측하는 정확도가 상당히 높게 나왓습니다.\n",
    "\n",
    "`alive` 컬럼이 `dataset`에 속해 있기 때문에 머신러닝 알고리즘이 `alive`컬럼 정보를 보고 예측했을 가능성이 큽니다.\n",
    "\n",
    "따라서, `alive` 컬럼을 제거한 후 다시 머신러닝 학습 모델을 만들어 보도록 하겠습니다. "
   ]
  },
  {
   "cell_type": "code",
   "execution_count": null,
   "id": "fSNBkGd0kMhj",
   "metadata": {
    "id": "fSNBkGd0kMhj"
   },
   "outputs": [],
   "source": [
    "dataset.head(3)"
   ]
  },
  {
   "cell_type": "markdown",
   "id": "2xdv1523lBEJ",
   "metadata": {
    "id": "2xdv1523lBEJ"
   },
   "source": [
    "- `ignore_features`에 리스트(list) 형식으로 컬럼 정보를 지정합니다. 이 옵션에 지정된 컬럼 정보는 분석 / 학습시 무시하게 됩니다.\n",
    "- `verbose=False`는 컬럼 정보가 맞게 설정이 되었는지 확인차 다시 물어보는 interactive 창을 띄우지 않습니다."
   ]
  },
  {
   "cell_type": "code",
   "execution_count": null,
   "id": "LEUHL4cljoDZ",
   "metadata": {
    "id": "LEUHL4cljoDZ"
   },
   "outputs": [],
   "source": [
    "clf = setup(data=dataset, \n",
    "            ignore_features=['alive'], # 분석/학습에 고려하지 않을 feature(컬럼) 제거\n",
    "            target='survived', \n",
    "            session_id=123, \n",
    "            verbose=False,\n",
    "            ) "
   ]
  },
  {
   "cell_type": "code",
   "execution_count": null,
   "id": "Knfn1CkWkyqy",
   "metadata": {
    "id": "Knfn1CkWkyqy"
   },
   "outputs": [],
   "source": [
    "best_model = compare_models(sort='Accuracy', n_select=3, fold=5)"
   ]
  },
  {
   "cell_type": "markdown",
   "id": "6be688a5",
   "metadata": {},
   "source": [
    "----"
   ]
  },
  {
   "cell_type": "markdown",
   "id": "b993fbaf",
   "metadata": {},
   "source": [
    "## 컬럼의 특성 세부 정의"
   ]
  },
  {
   "cell_type": "markdown",
   "id": "5719b1f5",
   "metadata": {},
   "source": [
    "**`setup` 함수**\n",
    "\n",
    "- `data`: 학습할 데이터셋을 지정합니다.\n",
    "- `target`: 예측할 대상(target) 컬럼을 지정합니다.\n",
    "- `session_id`: SEED 값을 지정합니다.\n",
    "\n",
    "- `profile`: True로 설정시 데이터 프로파일링을 출력합니다."
   ]
  },
  {
   "cell_type": "markdown",
   "id": "a476cb06",
   "metadata": {},
   "source": [
    "`ignore_features`에는 분석 / 학습에 무시할 컬럼을 지정합니다.\n",
    "\n",
    "- `alive`, `embark_town`, `class`는 다른 컬럼과 겹치는 컬럼이므로 제외합니다."
   ]
  },
  {
   "cell_type": "code",
   "execution_count": null,
   "id": "ef30515a",
   "metadata": {},
   "outputs": [],
   "source": [
    "ignore_features=['alive', 'embark_town', 'class']"
   ]
  },
  {
   "cell_type": "code",
   "execution_count": null,
   "id": "918bcc43",
   "metadata": {},
   "outputs": [],
   "source": [
    "dataset[ignore_features].head()"
   ]
  },
  {
   "cell_type": "markdown",
   "id": "3a6225d0",
   "metadata": {},
   "source": [
    "`categorical_features`에는 범주형 컬럼을 지정합니다.\n",
    "- `pclass`, `sex`, `embarked` 컬럼은 범주형 특성을 가집니다. 즉, 카테고리화 할 수 있는 컬럼을 의미합니다."
   ]
  },
  {
   "cell_type": "code",
   "execution_count": null,
   "id": "0f053516",
   "metadata": {},
   "outputs": [],
   "source": [
    "categorical_features=['sex', 'embarked', 'who', 'deck']"
   ]
  },
  {
   "cell_type": "code",
   "execution_count": null,
   "id": "263a1f9f",
   "metadata": {},
   "outputs": [],
   "source": [
    "dataset[categorical_features].head()"
   ]
  },
  {
   "cell_type": "markdown",
   "id": "e732b7c0",
   "metadata": {},
   "source": [
    "`ordinal_features`에는 순서형 특성을 가진 컬럼을 대입합니다.\n",
    "\n",
    "예를 들어, 'low', 'medium', 'high'의 값을 가지는데 `low < medium < high`표현될 수 있다면\n",
    "\n",
    "`ordinal_features = {'column_name' : ['low', 'medium', 'high']}` 와 같이 대입할 수 있습니다."
   ]
  },
  {
   "cell_type": "code",
   "execution_count": null,
   "id": "daa6da8d",
   "metadata": {},
   "outputs": [],
   "source": [
    "ordinal_features = {\n",
    "    'pclass': [1, 2, 3]\n",
    "}"
   ]
  },
  {
   "cell_type": "markdown",
   "id": "74a151d5",
   "metadata": {},
   "source": [
    "`numeric_features`에는 수치형 컬럼을 지정합니다.\n",
    "- `age`, `fare`, `sibsp`, `parch`는 숫자형태의 데이터를 가지므로 수치형 컬럼에 지정합니다."
   ]
  },
  {
   "cell_type": "code",
   "execution_count": null,
   "id": "e7e471fc",
   "metadata": {},
   "outputs": [],
   "source": [
    "numeric_features=['age', 'fare', 'sibsp', 'parch']"
   ]
  },
  {
   "cell_type": "code",
   "execution_count": null,
   "id": "905fab66",
   "metadata": {},
   "outputs": [],
   "source": [
    "dataset[numeric_features].head()"
   ]
  },
  {
   "cell_type": "code",
   "execution_count": null,
   "id": "51cbd73b",
   "metadata": {},
   "outputs": [],
   "source": [
    "clf = setup(data=dataset, \n",
    "            target='survived', \n",
    "            ignore_features=ignore_features,           # 분석/학습에 고려하지 않을 feature(컬럼) 제거\n",
    "            categorical_features=categorical_features, # 범주형 컬럼 지정\n",
    "            numeric_features=numeric_features,         # 수치형 컬럼 지정\n",
    "            ordinal_features=ordinal_features,\n",
    "            session_id=123, \n",
    "            verbose=False,\n",
    "            ) "
   ]
  },
  {
   "cell_type": "markdown",
   "id": "7c9effa3",
   "metadata": {},
   "source": [
    "## 고급 전처리 전략\n",
    "\n",
    "- [참고] 도큐먼트 [**(링크)**](https://pycaret.readthedocs.io/en/latest/api/classification.html)"
   ]
  },
  {
   "cell_type": "markdown",
   "id": "9e05bb2c",
   "metadata": {},
   "source": [
    "**결측치 채우기**"
   ]
  },
  {
   "cell_type": "markdown",
   "id": "6f75c80a",
   "metadata": {},
   "source": [
    "- `imputation_type`: 'simple' or 'iterative', default = 'simple'\n",
    "- `numeric_imputation`: int, float or str, default = 'mean'\n",
    "- `categorical_imputation`: str, default = 'constant'"
   ]
  },
  {
   "cell_type": "markdown",
   "id": "01ca1170",
   "metadata": {},
   "source": [
    "`imputation_type`은 `simple`과 `iterative` 중 택할 수 있으며, 기본 값은 `simple`로 설정되어 있습니다.\n",
    "\n",
    "`simple`일 경우 단순 통계량이나 고정된 값으로 결측치를 채웁니다.\n",
    "\n",
    "하지만 `iterative`로 설정된 경우 머신러닝 알고리즘 (대표적으로 lightgbm)으로 예측된 값이 채워지게 됩니다."
   ]
  },
  {
   "cell_type": "markdown",
   "id": "88ec6868",
   "metadata": {},
   "source": [
    "**`imputation_type='iterative'`으로 설정된 경우 다음의 Value설정 값은 무시됩니다.**\n",
    "\n",
    "`numeric_imputation`\n",
    "- \"drop\": Drop rows containing missing values.\n",
    "- \"mean\": Impute with mean of column.\n",
    "- \"median\": Impute with median of column.\n",
    "- \"mode\": Impute with most frequent value.\n",
    "- \"knn\": Impute using a K-Nearest Neighbors approach.\n",
    "- int or float: Impute with provided numerical value.\n",
    "\n",
    "`categorical_imputation`\n",
    "- \"drop\": Drop rows containing missing values.\n",
    "- \"mode\": Impute with most frequent value.\n",
    "- str: Impute with provided string."
   ]
  },
  {
   "cell_type": "markdown",
   "id": "2037090e",
   "metadata": {},
   "source": [
    "예시 1)"
   ]
  },
  {
   "cell_type": "code",
   "execution_count": null,
   "id": "46778a65",
   "metadata": {},
   "outputs": [],
   "source": [
    "clf = setup(data=dataset, \n",
    "            target='survived', \n",
    "            ignore_features=ignore_features,           # 분석/학습에 고려하지 않을 feature(컬럼) 제거\n",
    "            categorical_features=categorical_features, # 범주형 컬럼 지정\n",
    "            numeric_features=numeric_features,         # 수치형 컬럼 지정\n",
    "            ordinal_features=ordinal_features,         # 순서형 컬럼 지정\n",
    "            imputation_type='iterative',               # 예측하여 결측치를 보간하는 경우\n",
    "            session_id=123, \n",
    "            verbose=False,\n",
    "            ) "
   ]
  },
  {
   "cell_type": "markdown",
   "id": "cec8d787",
   "metadata": {},
   "source": [
    "예시 2)"
   ]
  },
  {
   "cell_type": "code",
   "execution_count": null,
   "id": "f1a09bd3",
   "metadata": {},
   "outputs": [],
   "source": [
    "clf = setup(data=dataset, \n",
    "            target='survived', \n",
    "            ignore_features=ignore_features,           # 분석/학습에 고려하지 않을 feature(컬럼) 제거\n",
    "            categorical_features=categorical_features, # 범주형 컬럼 지정\n",
    "            numeric_features=numeric_features,         # 수치형 컬럼 지정\n",
    "            ordinal_features=ordinal_features,         # 순서형 컬럼 지정\n",
    "            imputation_type='simple',                  # 고정된 값으로 결측치를 보간하는 경우\n",
    "            numeric_imputation='median',\n",
    "            categorical_imputation='mode',\n",
    "            session_id=123, \n",
    "            verbose=False,\n",
    "            ) "
   ]
  },
  {
   "cell_type": "markdown",
   "id": "8901a17b",
   "metadata": {},
   "source": [
    "**정규화 방법 정의**"
   ]
  },
  {
   "cell_type": "markdown",
   "id": "4d4ad8d5",
   "metadata": {},
   "source": [
    "`normalize` / `normalize_method`"
   ]
  },
  {
   "cell_type": "markdown",
   "id": "4ce91572",
   "metadata": {},
   "source": [
    "- `normalize`: bool, default = False\n",
    "- `normalize_method`: str, default = ‘zscore’"
   ]
  },
  {
   "cell_type": "markdown",
   "id": "af7d3367",
   "metadata": {},
   "source": [
    "`normalize`는 데이터의 정규화/표준화 여부를 설정합니다.\n",
    "\n",
    "`normalize_method`는 기본 'zscore'가 설정되어 있습니다.\n",
    "\n",
    "- 'minmax': scales and translates each feature individually such that it is in the range of 0 - 1.\n",
    "- 'maxabs': scales and translates each feature individually such that the maximal absolute value of each feature will be 1.0.\n",
    "- 'robust': scales and translates each feature according to the Interquartile range. When the dataset contains outliers, robust scaler often gives better results."
   ]
  },
  {
   "cell_type": "code",
   "execution_count": null,
   "id": "6fef0739",
   "metadata": {},
   "outputs": [],
   "source": [
    "clf = setup(data=dataset, \n",
    "            target='survived', \n",
    "            ignore_features=ignore_features,           # 분석/학습에 고려하지 않을 feature(컬럼) 제거\n",
    "            categorical_features=categorical_features, # 범주형 컬럼 지정\n",
    "            numeric_features=numeric_features,         # 수치형 컬럼 지정\n",
    "            ordinal_features=ordinal_features,         # 순서형 컬럼 지정\n",
    "            imputation_type='simple',                  # 고정된 값으로 결측치를 보간하는 경우\n",
    "            numeric_imputation='median',\n",
    "            categorical_imputation='mode',\n",
    "            normalize=True, \n",
    "            normalize_method='zscore',\n",
    "            session_id=123, \n",
    "            verbose=False,\n",
    "            ) "
   ]
  },
  {
   "cell_type": "markdown",
   "id": "810327dd",
   "metadata": {},
   "source": [
    "## 다수 모델의 학습 및 블렌딩: compare_models(), blend_models()"
   ]
  },
  {
   "cell_type": "markdown",
   "id": "d30b0c1b",
   "metadata": {},
   "source": [
    "모든 알고리즘에 대하여 학습 결과 비교: `compare_models()`\n",
    "\n",
    "- `sort`: 정렬 기준이 되는 평가지표를 설정합니다.\n",
    "- `n_select`: 상위 N개의 알고리즘을 선택합니다.\n",
    "- `fold`: Cross Validation 평가 Fold의 개수를 지정합니다."
   ]
  },
  {
   "cell_type": "code",
   "execution_count": null,
   "id": "2beab6f0",
   "metadata": {},
   "outputs": [],
   "source": [
    "best_models = compare_models(sort='Accuracy', n_select=3, fold=5)"
   ]
  },
  {
   "cell_type": "markdown",
   "id": "49d88bb4",
   "metadata": {},
   "source": [
    "**가장 좋은 결과를 낸 모델을 블렌딩: `blend_models()`**\n",
    "\n",
    "- `compare_models`로 추출된 best 모델에 대하여 모델 블렌딩하여 성능 개선\n",
    "- `Soft` vote 방식으로 `estimator_list`에 적용된 모델을 앙상블\n",
    "- `Voting Ensemble`: 투표를 통해 결과 도출"
   ]
  },
  {
   "cell_type": "markdown",
   "id": "2f815a99",
   "metadata": {},
   "source": [
    "Voting은 단어 뜻 그대로 **투표를 통해 결정하는 방식**입니다. \n",
    "\n",
    "Voting에는 크게 2가지로 투표 방식이 나뉩니다. (hard / soft)\n",
    "\n",
    "**hard vote** 방식에서는 결과 값에 대한 다수 class를 차용합니다.\n",
    "\n",
    "classification을 예로 들어 보자면, 분류를 예측한 값이 1, 0, 0, 1, 1 이었다고 가정한다면 1이 3표, 0이 2표를 받았기 때문에 Hard Voting 방식에서는 1이 최종 값으로 예측을 하게 됩니다.\n",
    "\n",
    "\n",
    "**soft vote** 방식은 각각의 확률의 평균 값을 계산한다음에 가장 확률이 높은 값으로 확정짓게 됩니다.\n",
    "\n",
    "가령 class 0이 나올 확률이 (0.4, 0.9, 0.9, 0.4, 0.4)이었고, class 1이 나올 확률이 (0.6, 0.1, 0.1, 0.6, 0.6) 이었다면, \n",
    "\n",
    "- class 0이 나올 최종 확률은 (0.4+0.9+0.9+0.4+0.4) / 5 = 0.44, \n",
    "- class 1이 나올 최종 확률은 (0.6+0.1+0.1+0.6+0.6) / 5 = 0.4 \n",
    "\n",
    "가 되기 때문에 앞선 Hard Vote의 결과와는 다른 결과 값이 최종 으로 선출되게 됩니다."
   ]
  },
  {
   "cell_type": "code",
   "execution_count": null,
   "id": "b06ea401",
   "metadata": {},
   "outputs": [],
   "source": [
    "blended_models = blend_models(best_models, fold=5)"
   ]
  },
  {
   "cell_type": "markdown",
   "id": "7ca63b13",
   "metadata": {},
   "source": [
    "## 단일 모델 생성: create_model()"
   ]
  },
  {
   "cell_type": "markdown",
   "id": "1b88cafe",
   "metadata": {},
   "source": [
    "먼저, 학습 가능한 모델의 리스트를 출력합니다."
   ]
  },
  {
   "cell_type": "code",
   "execution_count": null,
   "id": "315a8e58",
   "metadata": {},
   "outputs": [],
   "source": [
    "models()"
   ]
  },
  {
   "cell_type": "markdown",
   "id": "f1c6caa6",
   "metadata": {},
   "source": [
    "출력된 모델 중 하나의 알고리즘을 선택하여 생성합니다.\n",
    "\n",
    "- `dt`: decision tree 알고리즘"
   ]
  },
  {
   "cell_type": "code",
   "execution_count": null,
   "id": "90c60c2c",
   "metadata": {},
   "outputs": [],
   "source": [
    "dt = create_model('dt')"
   ]
  },
  {
   "cell_type": "code",
   "execution_count": null,
   "id": "a6ff504e",
   "metadata": {},
   "outputs": [],
   "source": [
    "# decision tree 알고리즘의 세부 설정 옵션에 대한 내용을 확인할 수 있습니다.\n",
    "dt"
   ]
  },
  {
   "cell_type": "markdown",
   "id": "67bd61d9",
   "metadata": {},
   "source": [
    "다음과 같이 생성시 사용자 정의 학습 파라미터 설정도 가능합니다."
   ]
  },
  {
   "cell_type": "code",
   "execution_count": null,
   "id": "ed57c8f5",
   "metadata": {},
   "outputs": [],
   "source": [
    "# max_depth=5로 설정시\n",
    "dt = create_model('dt', max_depth=5)"
   ]
  },
  {
   "cell_type": "code",
   "execution_count": null,
   "id": "758a6d7f",
   "metadata": {},
   "outputs": [],
   "source": [
    "dt"
   ]
  },
  {
   "cell_type": "markdown",
   "id": "ce12262e",
   "metadata": {},
   "source": [
    "`pull()` 함수로 모델의 학습 결과를 `DataFrame`으로 가져올 수 있습니다."
   ]
  },
  {
   "cell_type": "code",
   "execution_count": null,
   "id": "778d710e",
   "metadata": {},
   "outputs": [],
   "source": [
    "# 학습 결과를 dt_result에 저장\n",
    "dt_result = pull()\n",
    "dt_result"
   ]
  },
  {
   "cell_type": "markdown",
   "id": "5be73d48",
   "metadata": {},
   "source": [
    "## 단일 모델에 대한 앙상블: ensemble_model()\n",
    "\n",
    "단일 모델에 대한 앙상블 방식은 Bagging 방식을 사용합니다.\n",
    "\n",
    "Bagging 앙상블 자세한 내용 보기 [**(링크)**](https://teddylee777.github.io/machine-learning/ensemble%EA%B8%B0%EB%B2%95%EC%97%90-%EB%8C%80%ED%95%9C-%EC%9D%B4%ED%95%B4%EC%99%80-%EC%A2%85%EB%A5%98-2)\n",
    "\n",
    "![bagging](https://teddylee777.github.io/images/2019-12-17/image-20191217015537872.png)"
   ]
  },
  {
   "cell_type": "markdown",
   "id": "63c193cf",
   "metadata": {},
   "source": [
    "Bagging은 **Bootstrap Aggregating의 줄임말**입니다.\n",
    "\n",
    "- Bootstrap = Sample(샘플) + Aggregating = 합산\n",
    "\n",
    "Bootstrap은 여러 개의 dataset을 중첩을 허용하게 하여 샘플링하여 분할하는 방식\n",
    "\n",
    "데이터 셋의 구성이 [1, 2, 3, 4, 5 ]로 되어 있다면,\n",
    "\n",
    "1. group 1 = [1, 2, 3]\n",
    "2. group 2 = [1, 3, 4]\n",
    "3. group 3 = [2, 3, 5]"
   ]
  },
  {
   "cell_type": "code",
   "execution_count": null,
   "id": "8b5abcd5",
   "metadata": {},
   "outputs": [],
   "source": [
    "dt = create_model('dt')\n",
    "bagged_dt = ensemble_model(dt)"
   ]
  },
  {
   "cell_type": "markdown",
   "id": "5f668f9a",
   "metadata": {},
   "source": [
    "Boosting 앙상블 자세한 내용 보기 [**(링크)**](https://teddylee777.github.io/machine-learning/ensemble%EA%B8%B0%EB%B2%95%EC%97%90-%EB%8C%80%ED%95%9C-%EC%9D%B4%ED%95%B4%EC%99%80-%EC%A2%85%EB%A5%98-3)"
   ]
  },
  {
   "cell_type": "markdown",
   "id": "9010a7ff",
   "metadata": {},
   "source": [
    "![](https://teddylee777.github.io/images/2019-12-18/image-20191217145303620.png)"
   ]
  },
  {
   "cell_type": "markdown",
   "id": "c055db71",
   "metadata": {},
   "source": [
    "Boosting 알고리즘 역시 앙상블 학습 (ensemble learning)이며, **약한 학습기를 순차적으로 학습을 하되, 이전 학습에 대하여 잘못 예측된 데이터에 가중치를 부여해 오차를 보완**해 나가는 방식입니다.\n",
    "\n",
    "다른 앙상블 기법과 가장 다른 점중 하나는 바로 순차적인 학습을 하며 weight를 부여해서 오차를 보완해 나간다는 점인데요. 순차적이기 때문에 병렬 처리에 어려움이 있고, 그렇기 때문에 **다른 앙상블 대비 학습 시간이 오래걸린다는 단점**이 있습니다."
   ]
  },
  {
   "cell_type": "code",
   "execution_count": null,
   "id": "d9a397d9",
   "metadata": {},
   "outputs": [],
   "source": [
    "dt = create_model('dt')\n",
    "# boosting 방식 적용시\n",
    "boosted_dt = ensemble_model(dt, method = 'Boosting')"
   ]
  },
  {
   "cell_type": "markdown",
   "id": "88c31c57",
   "metadata": {},
   "source": [
    "기본적으로 PyCaret은 Bagging 또는 Boosting 모두에 10개의 추정기를 사용합니다. `n_estimators` 매개 변수를 변경하여 이 값을 증가시킬 수 있습니다."
   ]
  },
  {
   "cell_type": "code",
   "execution_count": null,
   "id": "a9a93a9d",
   "metadata": {},
   "outputs": [],
   "source": [
    "dt = create_model('dt')\n",
    "# boosting 방식 적용시\n",
    "bagged_dt = ensemble_model(dt, n_estimators=200, choose_better=True)"
   ]
  },
  {
   "cell_type": "markdown",
   "id": "50515eab",
   "metadata": {},
   "source": [
    "## calibrate_model()\n",
    "\n",
    "이 함수는 `isotonic` 또는 로지스틱 회귀 분석을 사용하여 주어진 모형의 확률을 보정합니다. \n",
    "이 함수의 출력은 폴드별 CV 점수를 가진 스코어링 그리드입니다. \n",
    "CV 중에 평가된 메트릭은 `get_metrics` 함수를 사용하여 액세스할 수 있습니다. "
   ]
  },
  {
   "cell_type": "code",
   "execution_count": null,
   "id": "444e1e8d",
   "metadata": {},
   "outputs": [],
   "source": [
    "calibrated_dt  = calibrate_model(bagged_dt)"
   ]
  },
  {
   "cell_type": "markdown",
   "id": "87f00f22",
   "metadata": {},
   "source": [
    "## 예측: predict_model()"
   ]
  },
  {
   "cell_type": "code",
   "execution_count": null,
   "id": "7760d31a",
   "metadata": {},
   "outputs": [],
   "source": [
    "# 예측\n",
    "result = predict_model(estimator=bagged_dt)"
   ]
  },
  {
   "cell_type": "code",
   "execution_count": null,
   "id": "67d7139d",
   "metadata": {},
   "outputs": [],
   "source": [
    "result[['survived','Label', 'Score']]"
   ]
  },
  {
   "cell_type": "markdown",
   "id": "cb012469",
   "metadata": {},
   "source": [
    "예측용 데이터셋으로 예측한 경우"
   ]
  },
  {
   "cell_type": "code",
   "execution_count": null,
   "id": "99e3ce56",
   "metadata": {},
   "outputs": [],
   "source": [
    "# 랜덤하게 100개 추출\n",
    "unseen_data = dataset.sample(100)"
   ]
  },
  {
   "cell_type": "code",
   "execution_count": null,
   "id": "d577839e",
   "metadata": {},
   "outputs": [],
   "source": [
    "# unseen data 대입\n",
    "result = predict_model(data=unseen_data, estimator=bagged_dt)"
   ]
  },
  {
   "cell_type": "markdown",
   "id": "8aa0178c",
   "metadata": {},
   "source": [
    "## finalize_model()\n",
    "\n",
    "- 이 단계에서는 전체 데이터셋을 활용하여 재학습을 진행합니다."
   ]
  },
  {
   "cell_type": "code",
   "execution_count": null,
   "id": "c6c013fa",
   "metadata": {},
   "outputs": [],
   "source": [
    "# finalize a model\n",
    "final_model = finalize_model(bagged_dt)"
   ]
  },
  {
   "cell_type": "markdown",
   "id": "bac6bde0",
   "metadata": {},
   "source": [
    "## 모델 저장 및 로드"
   ]
  },
  {
   "cell_type": "markdown",
   "id": "d086bc9f",
   "metadata": {},
   "source": [
    "학습이 완료된 모델을 저장합니다."
   ]
  },
  {
   "cell_type": "code",
   "execution_count": null,
   "id": "2a3bf0cd",
   "metadata": {},
   "outputs": [],
   "source": [
    "# save config\n",
    "save_config('myconfig-01')\n",
    "\n",
    "# save pipeline\n",
    "save_model(final_model, 'mymodel-01')"
   ]
  },
  {
   "cell_type": "markdown",
   "id": "24da172f",
   "metadata": {},
   "source": [
    "저장한 모델을 다시 로드하는 경우"
   ]
  },
  {
   "cell_type": "code",
   "execution_count": null,
   "id": "b7a2e4ec",
   "metadata": {},
   "outputs": [],
   "source": [
    "load_config('myconfig-01')\n",
    "\n",
    "# load pipeline\n",
    "loaded_model = load_model('mymodel-01')"
   ]
  }
 ],
 "metadata": {
  "colab": {
   "collapsed_sections": [],
   "name": "01-분류-level1",
   "provenance": [],
   "toc_visible": true
  },
  "kernelspec": {
   "display_name": "Python 3 (ipykernel)",
   "language": "python",
   "name": "python3"
  },
  "language_info": {
   "codemirror_mode": {
    "name": "ipython",
    "version": 3
   },
   "file_extension": ".py",
   "mimetype": "text/x-python",
   "name": "python",
   "nbconvert_exporter": "python",
   "pygments_lexer": "ipython3",
   "version": "3.8.13"
  }
 },
 "nbformat": 4,
 "nbformat_minor": 5
}
