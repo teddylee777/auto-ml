{
 "cells": [
  {
   "cell_type": "markdown",
   "id": "5ae0e343",
   "metadata": {
    "id": "5ae0e343"
   },
   "source": [
    "## PyCaret 설치"
   ]
  },
  {
   "cell_type": "code",
   "execution_count": null,
   "id": "47484d8d",
   "metadata": {
    "id": "47484d8d"
   },
   "outputs": [],
   "source": [
    "!pip install pycaret"
   ]
  },
  {
   "cell_type": "markdown",
   "id": "b26c3873",
   "metadata": {
    "id": "b26c3873"
   },
   "source": [
    "Google Colab 사용자의 경우 다음의 코드를 실행합니다."
   ]
  },
  {
   "cell_type": "code",
   "execution_count": null,
   "id": "bce29045",
   "metadata": {
    "id": "bce29045"
   },
   "outputs": [],
   "source": [
    "from pycaret.utils import enable_colab\n",
    "\n",
    "enable_colab()"
   ]
  },
  {
   "cell_type": "markdown",
   "id": "7f4674cd",
   "metadata": {
    "id": "7f4674cd"
   },
   "source": [
    "## 필요한 모듈 import"
   ]
  },
  {
   "cell_type": "code",
   "execution_count": null,
   "id": "77da6ea3",
   "metadata": {
    "id": "77da6ea3"
   },
   "outputs": [],
   "source": [
    "import pandas as pd\n",
    "import numpy as np\n",
    "import seaborn as sns\n",
    "\n",
    "pd.options.display.max_columns = None"
   ]
  },
  {
   "cell_type": "markdown",
   "id": "73ffae10",
   "metadata": {
    "id": "73ffae10"
   },
   "source": [
    "## 실습을 위한 데이터셋 로드"
   ]
  },
  {
   "cell_type": "code",
   "execution_count": null,
   "id": "NNEh2pF7ivJ8",
   "metadata": {
    "id": "NNEh2pF7ivJ8"
   },
   "outputs": [],
   "source": [
    "from pycaret.datasets import get_data\n",
    "dataset = get_data('france')"
   ]
  },
  {
   "cell_type": "markdown",
   "id": "akCPSS2ySlQ1",
   "metadata": {
    "id": "akCPSS2ySlQ1"
   },
   "source": [
    "- `InvoiceNo`: 송장번호. 명목, 각 거래에 고유하게 할당된 6자리 정수. 이 코드가 문자 'c'로 시작하면 취소를 나타냅니다.\n",
    "- `StockCode`: 제품(항목) 코드. 공칭, 각 고유 제품에 고유하게 할당된 5자리 정수입니다.\n",
    "- `Description`: 제품(항목) 이름\n",
    "- `Quantity`: 거래당 각 제품(항목)의 수량\n",
    "- `InvoiceData`: 송장 날짜 및 시간\n",
    "- `UnitPrice`: 단가. 숫자, 단위당 제품 가격.\n",
    "- `CustomerID`: 고객 번호입니다. 호칭, 각 고객에게 고유하게 할당된 5자리 정수\n",
    "- `Country`: 국가 이름. 명목상, 각 고객이 거주하는 국가의 이름"
   ]
  },
  {
   "cell_type": "markdown",
   "id": "6beffef3",
   "metadata": {
    "id": "6beffef3"
   },
   "source": [
    "## 설정: setup()"
   ]
  },
  {
   "cell_type": "markdown",
   "id": "aO28a9eQmR1g",
   "metadata": {
    "id": "aO28a9eQmR1g"
   },
   "source": [
    "머신러닝 예측 방식에 따라 다음 중 하나를 골라 import 합니다."
   ]
  },
  {
   "cell_type": "code",
   "execution_count": null,
   "id": "fe755196",
   "metadata": {
    "id": "fe755196"
   },
   "outputs": [],
   "source": [
    "from pycaret.arules import *            # 연관 규칙"
   ]
  },
  {
   "cell_type": "markdown",
   "id": "099f81a7",
   "metadata": {
    "id": "099f81a7"
   },
   "source": [
    "**`setup` 함수**\n",
    "\n",
    "- `data`: 학습할 데이터셋을 지정합니다.\n",
    "- `transaction_id`: 트랜섹션 id를 입력합니다. `transaction_id`를 기준으로 아이템을 그룹핑합니다.\n",
    "- `item_id`: 아이템의 고유 품목(명) 이 되는 컬럼을 지정합니다.\n",
    "- `session_id`: SEED 값을 지정합니다."
   ]
  },
  {
   "cell_type": "code",
   "execution_count": null,
   "id": "XQ3dwHU9Lb5r",
   "metadata": {
    "id": "XQ3dwHU9Lb5r"
   },
   "outputs": [],
   "source": [
    "dataset.head(3)"
   ]
  },
  {
   "cell_type": "code",
   "execution_count": null,
   "id": "Z7zfUMjjYn95",
   "metadata": {
    "id": "Z7zfUMjjYn95"
   },
   "outputs": [],
   "source": [
    "s = setup(data=dataset, \n",
    "          transaction_id='InvoiceNo',\n",
    "          item_id='Description') "
   ]
  },
  {
   "cell_type": "markdown",
   "id": "aDPe9-69bDFv",
   "metadata": {
    "id": "aDPe9-69bDFv"
   },
   "source": [
    "- `Transactions` : 데이터세트의 고유한 트랜잭션 수입니다. 이 경우 `InvoiceNo`의 고유 개수가 됩니다.\n",
    "\n",
    "- `Items` : 데이터세트의 고유한 항목 수입니다. 이 경우 `Description`에 지정한 고유 품목수가 됩니다.\n",
    "\n",
    "- `Ignore Items` : 연관 규칙에서 무시할 항목을 지정합니다. "
   ]
  },
  {
   "cell_type": "code",
   "execution_count": null,
   "id": "cxOk4Yk0b5aP",
   "metadata": {
    "id": "cxOk4Yk0b5aP"
   },
   "outputs": [],
   "source": [
    "s = setup(data=dataset, \n",
    "          transaction_id='InvoiceNo',\n",
    "          item_id='Description', \n",
    "          ignore_items = ['POSTAGE']\n",
    "         ) "
   ]
  },
  {
   "cell_type": "markdown",
   "id": "5x1cKb5ocPw3",
   "metadata": {
    "id": "5x1cKb5ocPw3"
   },
   "source": [
    "## 모델 생성"
   ]
  },
  {
   "cell_type": "markdown",
   "id": "0KLZtRMDcaSm",
   "metadata": {
    "id": "0KLZtRMDcaSm"
   },
   "source": [
    "연관규칙에서 모델을 생성하는 방법은 단순합니다. 필수로 입력해야 하는 파라미터는 없으나 4개의 옵션을 제공하며 옵션은 다음과 같습니다.\n",
    "\n",
    "- `metric`: 평가지표를 설정합니다. 기본값은 `confidence`입니다. 다른 옵션 값으로는 `support`, `lift`, `leverage`, `conviction` 가 있습니다.\n",
    "- `threshold`: 평가지표에 대한 최소 임계값을 지정합니다. 기본 값은 **0.5** 입니다.\n",
    "- `min_support`: `support`에 대한 최소 임계값을 지정합니다. `support는 다음과 같이 계산 됩니다. `트랜섹션 별 아이템 출현 빈도` / `전체 트랜섹션`. 기본 값은 **0.05** 입니다.\n",
    "- `round`: 반올림할 소수점 자릿수를 지정합니다."
   ]
  },
  {
   "cell_type": "code",
   "execution_count": null,
   "id": "C3vtXBfgcEsP",
   "metadata": {
    "id": "C3vtXBfgcEsP"
   },
   "outputs": [],
   "source": [
    "ar_model = create_model() "
   ]
  },
  {
   "cell_type": "code",
   "execution_count": null,
   "id": "ziOiKNAkcRuB",
   "metadata": {
    "id": "ziOiKNAkcRuB"
   },
   "outputs": [],
   "source": [
    "ar_model.shape"
   ]
  },
  {
   "cell_type": "markdown",
   "id": "Zd2SWXF_d8Pu",
   "metadata": {
    "id": "Zd2SWXF_d8Pu"
   },
   "source": [
    "## 결과 해석\n",
    "\n",
    "아이템 X, Y가 존재한다고 가정합니다.\n",
    "\n",
    "1. **지지도(support)**:\n",
    "  - 두 항목 X, Y가 모두 포함하는 거래건수(transaction_id)의 비율을 나타냅니다.\n",
    "  - (X, Y 모두 포함하는 transaction_id) / (전체 transaction_id)\n",
    "  - (실사례) frequent item set을 판단하는데 사용\n",
    "  - (예시) 햇반, 라면, 스팸 묶음 세트 -> 마케팅 프로모션\n",
    "\n",
    "2. **신뢰도(confidence)**:\n",
    "  - X를 포함하는 거래중 X, Y를 모두 포함하는 조건부 확률을 말합니다.\n",
    "  - (X, Y 모두 포함하는 transaction_id) / (항목 X가 포함된 transaction_id)\n",
    "  - 아이템 집합 간의 **연관성 강도**를 측정할 때 사용\n",
    "  - 신뢰도 100%의 의미는 X를 구매하는 경우, 무조건 Y를 구매한다고 볼 수 있음\n",
    "  - 다만, 향상도를 같이 고려해야함\n",
    "\n",
    "3. **향상도(lift)**:\n",
    "  - 항목 X가 주어지지 않았을 때 항목 Y의 확률 대비 / 항목 X가 주어졌을 때 항목 Y의 확률 증가 비율을 말합니다.\n",
    "  - lift가 1보다 큰 경우: 긍정적인 연관관계\n",
    "  - lift가 1인 경우: X, Y는 독립적인 관계. 연관성이 없음\n",
    "  - lift가 1보다 작은 경우: 부정적인 연관관계\n",
    "  - 만약, 두 항목 (X, Y)가 대체제인 경우 같이 구매되는 경우가 없으므로 1보다 작은 값이 발생할 수 있음. (예시) 콜라/사이다.\n",
    "\n"
   ]
  },
  {
   "cell_type": "markdown",
   "id": "OSZrv31whoPW",
   "metadata": {
    "id": "OSZrv31whoPW"
   },
   "source": [
    "- `antecedents`: 전례\n",
    "- `consequents`: 결과"
   ]
  },
  {
   "cell_type": "code",
   "execution_count": null,
   "id": "zsvQ8jHEcUwW",
   "metadata": {
    "id": "zsvQ8jHEcUwW"
   },
   "outputs": [],
   "source": [
    "ar_model[['antecedents', 'consequents', 'support', 'confidence', 'lift']].head(10)"
   ]
  },
  {
   "cell_type": "code",
   "execution_count": null,
   "id": "EWFd5nfzdvfX",
   "metadata": {
    "id": "EWFd5nfzdvfX"
   },
   "outputs": [],
   "source": [
    "plot_model(ar_model)"
   ]
  },
  {
   "cell_type": "code",
   "execution_count": null,
   "id": "_q7WJttQdxMW",
   "metadata": {
    "id": "_q7WJttQdxMW"
   },
   "outputs": [],
   "source": [
    "plot_model(ar_model, plot='3d')"
   ]
  },
  {
   "cell_type": "code",
   "execution_count": null,
   "id": "8ad2caa3",
   "metadata": {},
   "outputs": [],
   "source": []
  }
 ],
 "metadata": {
  "colab": {
   "collapsed_sections": [],
   "machine_shape": "hm",
   "name": "03_연관규칙_level1",
   "provenance": []
  },
  "kernelspec": {
   "display_name": "Python 3 (ipykernel)",
   "language": "python",
   "name": "python3"
  },
  "language_info": {
   "codemirror_mode": {
    "name": "ipython",
    "version": 3
   },
   "file_extension": ".py",
   "mimetype": "text/x-python",
   "name": "python",
   "nbconvert_exporter": "python",
   "pygments_lexer": "ipython3",
   "version": "3.8.13"
  }
 },
 "nbformat": 4,
 "nbformat_minor": 5
}
