{
 "cells": [
  {
   "cell_type": "markdown",
   "id": "9802a338",
   "metadata": {},
   "source": [
    "## PyCaret 설치"
   ]
  },
  {
   "cell_type": "code",
   "execution_count": null,
   "id": "526638fc",
   "metadata": {},
   "outputs": [],
   "source": [
    "import urllib.request\n",
    "\n",
    "url = 'https://www.dropbox.com/s/pq6n1vg90a4v6t4/pycaret_colab.py?dl=1'\n",
    "urllib.request.urlretrieve(url, 'pycaret_colab.py')\n",
    "%run pycaret_colab.py"
   ]
  },
  {
   "cell_type": "markdown",
   "id": "485d6d9b",
   "metadata": {},
   "source": [
    "## 샘플 데이터셋 로드"
   ]
  },
  {
   "cell_type": "code",
   "execution_count": null,
   "id": "4a5cdbcb",
   "metadata": {},
   "outputs": [],
   "source": [
    "from pycaret.datasets import get_data\n",
    "\n",
    "dataset = get_data('juice')"
   ]
  },
  {
   "cell_type": "code",
   "execution_count": null,
   "id": "9faa62ae",
   "metadata": {},
   "outputs": [],
   "source": [
    "dataset['STORE'].value_counts()"
   ]
  },
  {
   "cell_type": "code",
   "execution_count": null,
   "id": "c992343f",
   "metadata": {},
   "outputs": [],
   "source": [
    "import pandas as pd\n",
    "\n",
    "dataset = pd.read_excel('엑셀파일')"
   ]
  },
  {
   "cell_type": "markdown",
   "id": "426aa3ef",
   "metadata": {},
   "source": [
    "## 머신러닝 파이프라인 진행"
   ]
  },
  {
   "cell_type": "code",
   "execution_count": null,
   "id": "410ba28c",
   "metadata": {
    "scrolled": false
   },
   "outputs": [],
   "source": [
    "from pycaret.classification import *\n",
    "\n",
    "s = setup(data=dataset, target='STORE', session_id=123) \n",
    "\n",
    "best = compare_models(n_select=5)\n",
    "best = blend_models(best)\n",
    "\n",
    "predictions = predict_model(best)\n",
    "\n",
    "save_model(best, 'my-model')"
   ]
  },
  {
   "cell_type": "code",
   "execution_count": null,
   "id": "dce20619",
   "metadata": {},
   "outputs": [],
   "source": [
    "predictions[['STORE', 'Label', 'Score']]"
   ]
  }
 ],
 "metadata": {
  "kernelspec": {
   "display_name": "Python 3 (ipykernel)",
   "language": "python",
   "name": "python3"
  },
  "language_info": {
   "codemirror_mode": {
    "name": "ipython",
    "version": 3
   },
   "file_extension": ".py",
   "mimetype": "text/x-python",
   "name": "python",
   "nbconvert_exporter": "python",
   "pygments_lexer": "ipython3",
   "version": "3.8.13"
  }
 },
 "nbformat": 4,
 "nbformat_minor": 5
}
