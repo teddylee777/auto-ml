{
 "cells": [
  {
   "cell_type": "markdown",
   "id": "5ae0e343",
   "metadata": {
    "id": "5ae0e343"
   },
   "source": [
    "## PyCaret 설치"
   ]
  },
  {
   "cell_type": "code",
   "execution_count": null,
   "id": "47484d8d",
   "metadata": {
    "id": "47484d8d"
   },
   "outputs": [],
   "source": [
    "import urllib.request\n",
    "\n",
    "url = 'https://www.dropbox.com/s/pq6n1vg90a4v6t4/pycaret_colab.py?dl=1'\n",
    "urllib.request.urlretrieve(url, 'pycaret_colab.py')\n",
    "%run pycaret_colab.py"
   ]
  },
  {
   "cell_type": "markdown",
   "id": "7f4674cd",
   "metadata": {
    "id": "7f4674cd"
   },
   "source": [
    "## 필요한 모듈 import"
   ]
  },
  {
   "cell_type": "code",
   "execution_count": null,
   "id": "77da6ea3",
   "metadata": {
    "id": "77da6ea3"
   },
   "outputs": [],
   "source": [
    "import pandas as pd\n",
    "import numpy as np\n",
    "import seaborn as sns\n",
    "\n",
    "pd.options.display.max_columns = None"
   ]
  },
  {
   "cell_type": "markdown",
   "id": "8gUUnpEo9gvR",
   "metadata": {
    "id": "8gUUnpEo9gvR"
   },
   "source": [
    "## 이상치 탐지 알고리즘"
   ]
  },
  {
   "cell_type": "markdown",
   "id": "0PO6gew-9lrB",
   "metadata": {
    "id": "0PO6gew-9lrB"
   },
   "source": [
    "**이상치 탐지 알고리즘의 활용 분야**\n",
    "\n",
    "- **제조**\n",
    "  - 공정 불량 원인을 감지\n",
    "  - 설비의 이상 동작을 미리 감지/탐지\n",
    "\n",
    "- **금융**\n",
    "  - 신용카드 탈취, 악용 사례 탐지\n",
    "  - 금융 분야의 비정상 거래 탐지 (피싱)\n",
    "\n",
    "- **고객 관리**\n",
    "  - 제품/서비스 고객의 이탈을 사전에 감지\n",
    "\n",
    "- **보안**\n",
    "  - 네트워크 침해사고 예방/탐지\n",
    "\n",
    "- **헬스케어**\n",
    "  - 건강의 이상신호 감지 및 사전 알림\n",
    "\n",
    "- **자연어**\n",
    "  - 소비자 의견 수렴 (독특하고 창의적인 의견 수렴)\n",
    "\n",
    "**관련 캐글 대회/데이터셋**\n",
    "\n",
    "- [신용카드 비정상 사용 탐지](https://www.kaggle.com/mlg-ulb/creditcardfraud)"
   ]
  },
  {
   "cell_type": "markdown",
   "id": "73ffae10",
   "metadata": {
    "id": "73ffae10"
   },
   "source": [
    "## 실습을 위한 데이터셋 로드"
   ]
  },
  {
   "cell_type": "code",
   "execution_count": null,
   "id": "NNEh2pF7ivJ8",
   "metadata": {
    "id": "NNEh2pF7ivJ8"
   },
   "outputs": [],
   "source": [
    "from pycaret.datasets import get_data\n",
    "\n",
    "dataset = get_data('mice')"
   ]
  },
  {
   "cell_type": "markdown",
   "id": "akCPSS2ySlQ1",
   "metadata": {
    "id": "akCPSS2ySlQ1"
   },
   "source": [
    "이 튜토리얼에서는 `Mice Protein Expression`이라는 UCI의 데이터 세트를 사용합니다. 데이터세트는 피질의 핵 분획에서 감지 가능한 신호를 생성한 77개의 단백질/단백질 변형의 발현 수준으로 구성됩니다. 데이터 세트에는 단백질당 총 1080개의 측정값이 포함되어 있습니다. 각 측정은 독립적인 샘플/마우스로 간주될 수 있습니다."
   ]
  },
  {
   "cell_type": "code",
   "execution_count": null,
   "id": "ABMSJgOYtHbB",
   "metadata": {
    "id": "ABMSJgOYtHbB"
   },
   "outputs": [],
   "source": [
    "train = dataset.sample(frac=0.8, random_state=123)\n",
    "test = dataset.drop(train.index)\n",
    "train.reset_index(inplace=True, drop=True)\n",
    "test.reset_index(inplace=True, drop=True)\n",
    "print('학습용 데이터셋: ' + str(train.shape))\n",
    "print('예측용 데이터셋: ' + str(test.shape))"
   ]
  },
  {
   "cell_type": "markdown",
   "id": "6beffef3",
   "metadata": {
    "id": "6beffef3"
   },
   "source": [
    "## 셋업 setup"
   ]
  },
  {
   "cell_type": "code",
   "execution_count": null,
   "id": "fe755196",
   "metadata": {
    "id": "fe755196"
   },
   "outputs": [],
   "source": [
    "from pycaret.anomaly import *           # 이상 탐지"
   ]
  },
  {
   "cell_type": "markdown",
   "id": "jkjw5m12s6dR",
   "metadata": {
    "id": "jkjw5m12s6dR"
   },
   "source": [
    "`MouseID`는 순차적인 단순 ID 값이기 때문에 데이터 분석 및 모델의 학습에서 제외합니다."
   ]
  },
  {
   "cell_type": "code",
   "execution_count": null,
   "id": "Z7zfUMjjYn95",
   "metadata": {
    "id": "Z7zfUMjjYn95"
   },
   "outputs": [],
   "source": [
    "s = setup(train,\n",
    "          normalize=True,                # 데이터 정규화\n",
    "          ignore_features=['MouseID'],   # 학습에 무시할 컬럼 지정\n",
    "          session_id=123)                # 시드(SEED) 지정"
   ]
  },
  {
   "cell_type": "markdown",
   "id": "5x1cKb5ocPw3",
   "metadata": {
    "id": "5x1cKb5ocPw3"
   },
   "source": [
    "## 모델 생성"
   ]
  },
  {
   "cell_type": "markdown",
   "id": "0KLZtRMDcaSm",
   "metadata": {
    "id": "0KLZtRMDcaSm"
   },
   "source": [
    "**`iforest` 모델**\n",
    "\n"
   ]
  },
  {
   "cell_type": "code",
   "execution_count": null,
   "id": "tbIJAJui8--6",
   "metadata": {
    "id": "tbIJAJui8--6"
   },
   "outputs": [],
   "source": [
    "from IPython.display import Image\n",
    "\n",
    "Image(url='https://miro.medium.com/max/1400/1*4P2vi2YVj4nHbU5SZ9i7Ig.png', width=750)"
   ]
  },
  {
   "cell_type": "code",
   "execution_count": null,
   "id": "JHaEqwiMsRPS",
   "metadata": {
    "id": "JHaEqwiMsRPS"
   },
   "outputs": [],
   "source": [
    "# isolation forest 모델 생성\n",
    "iforest = create_model('iforest')"
   ]
  },
  {
   "cell_type": "markdown",
   "id": "Zd2SWXF_d8Pu",
   "metadata": {
    "id": "Zd2SWXF_d8Pu"
   },
   "source": [
    "## 이상치 탐지: assign_model()"
   ]
  },
  {
   "cell_type": "code",
   "execution_count": null,
   "id": "zsvQ8jHEcUwW",
   "metadata": {
    "id": "zsvQ8jHEcUwW"
   },
   "outputs": [],
   "source": [
    "iforest_results = assign_model(iforest)\n",
    "iforest_results.head()"
   ]
  },
  {
   "cell_type": "markdown",
   "id": "eQeHWQyiszuK",
   "metadata": {
    "id": "eQeHWQyiszuK"
   },
   "source": [
    "## 결과 시각화"
   ]
  },
  {
   "cell_type": "code",
   "execution_count": null,
   "id": "EWFd5nfzdvfX",
   "metadata": {
    "id": "EWFd5nfzdvfX"
   },
   "outputs": [],
   "source": [
    "plot_model(iforest)"
   ]
  },
  {
   "cell_type": "markdown",
   "id": "R0iLlgkzswQq",
   "metadata": {
    "id": "R0iLlgkzswQq"
   },
   "source": [
    "## 예측 predict_model"
   ]
  },
  {
   "cell_type": "code",
   "execution_count": null,
   "id": "pzsEmzGtspHJ",
   "metadata": {
    "id": "pzsEmzGtspHJ"
   },
   "outputs": [],
   "source": [
    "predicitons = predict_model(iforest, data=test)\n",
    "predicitons[['Anomaly', 'Anomaly_Score']]"
   ]
  },
  {
   "cell_type": "code",
   "execution_count": null,
   "id": "900ebfae",
   "metadata": {},
   "outputs": [],
   "source": []
  }
 ],
 "metadata": {
  "colab": {
   "collapsed_sections": [],
   "machine_shape": "hm",
   "name": "04_이상치탐지_level1",
   "provenance": []
  },
  "kernelspec": {
   "display_name": "Python 3 (ipykernel)",
   "language": "python",
   "name": "python3"
  },
  "language_info": {
   "codemirror_mode": {
    "name": "ipython",
    "version": 3
   },
   "file_extension": ".py",
   "mimetype": "text/x-python",
   "name": "python",
   "nbconvert_exporter": "python",
   "pygments_lexer": "ipython3",
   "version": "3.9.17"
  }
 },
 "nbformat": 4,
 "nbformat_minor": 5
}
