{
 "cells": [
  {
   "cell_type": "markdown",
   "metadata": {
    "id": "CHCfuRzaxXZP"
   },
   "source": [
    "## 단변량(Univariate) 시계열 예측과 외생 변수(Exogenous Variables)\n",
    "\n",
    "이 노트북에서는 외생 변수를 사용한 모델링을 다룹니다. 튜토리얼의 진행방식은 아래의 목록 순서와 같습니다.\n",
    "\n",
    "1. 시계열을 생성하는 과정에 대한 실질적인 통찰력을 얻기 위해 데이터셋에 대한 EDA를 수행합니다.\n",
    "2. 벤치마킹을 위한 기본 모델 (외생 변수 없는 단변량 모델)을 구축합니다.\n",
    "3. 가능한 최고의 성능을 확인하기 위해 모든 외생 변수를 가진 단변량 모델을 구축합니다.\n",
    "4. 외생 변수가 있는 모델을 평가하고 잠재적인 문제점을 논의합니다.\n",
    "5. 위에서 확인된 문제점을 해결합니다.\n",
    "6. 최적의 모델로 미래 예측을 수행합니다.\n",
    "7. 자동 시계열 모델링 (AutoML)로 작업 흐름을 복제합니다.\n"
   ]
  },
  {
   "cell_type": "markdown",
   "metadata": {},
   "source": [
    "## ✔️ 모듈 로드 / 데이터셋"
   ]
  },
  {
   "cell_type": "code",
   "execution_count": null,
   "metadata": {
    "id": "bCukpJDDxXZR"
   },
   "outputs": [],
   "source": [
    "import os\n",
    "\n",
    "# 오직 중요한 로깅만 활성화하기 (선택적)\n",
    "os.environ[\"PYCARET_CUSTOM_LOGGING_LEVEL\"] = \"CRITICAL\""
   ]
  },
  {
   "cell_type": "code",
   "execution_count": null,
   "metadata": {
    "id": "jc0wjt0OxXZS",
    "outputId": "c6846181-9907-4a16-ef2e-faeb0180d71f",
    "tags": []
   },
   "outputs": [],
   "source": [
    "# 설치된 라이브러리 확인\n",
    "def what_is_installed():\n",
    "    from pycaret import show_versions\n",
    "    show_versions()\n",
    "\n",
    "try:\n",
    "    what_is_installed()\n",
    "except ModuleNotFoundError:\n",
    "    !pip install pycaret\n",
    "    what_is_installed()"
   ]
  },
  {
   "cell_type": "code",
   "execution_count": null,
   "metadata": {
    "id": "Gpxw-CObxXZS"
   },
   "outputs": [],
   "source": [
    "# 필요한 모듈 import\n",
    "import numpy as np\n",
    "import pandas as pd\n",
    "from pycaret.datasets import get_data\n",
    "from pycaret.time_series import TSForecastingExperiment  # 시계열 데이터 예측 모듈\n",
    "\n",
    "# 노트북을 위한 global fugure 설정\n",
    "global_fig_settings = {\n",
    "    # 'renderer': 'notebook',\n",
    "    \"renderer\": \"png\",  # 'notebook' 으로 설정시 interactive 시각화 가능\n",
    "    \"width\": 1000,\n",
    "    \"height\": 600,\n",
    "}"
   ]
  },
  {
   "cell_type": "markdown",
   "metadata": {},
   "source": [
    "샘플 데이터셋을 로드 합니다. `pycaret` 내장 데이터셋을 불러오도록 하겠습니다.\n"
   ]
  },
  {
   "cell_type": "code",
   "execution_count": null,
   "metadata": {
    "id": "Bw_0ubDNxXZS"
   },
   "outputs": [],
   "source": [
    "# 데이터셋 로드\n",
    "data = get_data(\"airquality\")"
   ]
  },
  {
   "cell_type": "code",
   "execution_count": null,
   "metadata": {},
   "outputs": [],
   "source": [
    "# 데이터셋에서 Date 와 Time 을 병합하여 datetime 생성합니다\n",
    "data.insert(0, \"datetime\", pd.to_datetime(data[\"Date\"] + \" \" + data[\"Time\"]))\n",
    "data.drop(columns=[\"Date\", \"Time\"], inplace=True)\n",
    "data.head()"
   ]
  },
  {
   "cell_type": "code",
   "execution_count": null,
   "metadata": {},
   "outputs": [],
   "source": [
    "# Target Y 정의\n",
    "target = \"CO(GT)\""
   ]
  },
  {
   "cell_type": "markdown",
   "metadata": {
    "id": "vwb1YOXIxXZT"
   },
   "source": [
    "이 데이터셋에는 -200으로 태그된 결측값이 있습니다. [참고](https://archive.ics.uci.edu/ml/datasets/air+quality). 이 값들을 제거해야합니다(그것들을 NaN으로 대체하십시오) 및 `pycaret`이 적절하게 대치를 처리하게 하십시오(훈련 중 데이터 유출 방지).\n"
   ]
  },
  {
   "cell_type": "code",
   "execution_count": null,
   "metadata": {
    "id": "2N-SM8uNxXZT",
    "outputId": "c91baf32-4e57-4a05-d54f-fc5cfb539943"
   },
   "outputs": [],
   "source": [
    "# -200 데이터 조회\n",
    "data[data[target] == -200].head()"
   ]
  },
  {
   "cell_type": "code",
   "execution_count": null,
   "metadata": {
    "id": "DAReYHlCxXZT",
    "outputId": "e374c14a-c6d7-48b4-ac2b-6698163ab2ea"
   },
   "outputs": [],
   "source": [
    "# -200 데이터 처리 후 결과 확인\n",
    "data.replace(-200, np.nan, inplace=True)\n",
    "data[data[target] == -200]"
   ]
  },
  {
   "cell_type": "markdown",
   "metadata": {
    "id": "6tWI6VbexXZU"
   },
   "source": [
    "이제, 우리의 EDA와 모델링으로 넘어가 봅시다.\n"
   ]
  },
  {
   "cell_type": "markdown",
   "metadata": {
    "id": "hLbpdiO0xXZU"
   },
   "source": [
    "## 👀 탐색적 분석(Exploratory Data Analysis)\n"
   ]
  },
  {
   "cell_type": "code",
   "execution_count": null,
   "metadata": {
    "id": "s6jgNiu8xXZU"
   },
   "outputs": [],
   "source": [
    "# EDA 실험 만들기\n",
    "eda = TSForecastingExperiment()"
   ]
  },
  {
   "cell_type": "code",
   "execution_count": null,
   "metadata": {},
   "outputs": [],
   "source": [
    "# 5개 행 조회\n",
    "data.head()"
   ]
  },
  {
   "cell_type": "markdown",
   "metadata": {},
   "source": [
    "### `setup()`\n",
    "\n",
    "- 링크: https://pycaret.readthedocs.io/en/latest/api/time_series.html#pycaret.time_series.setup\n"
   ]
  },
  {
   "cell_type": "markdown",
   "metadata": {},
   "source": [
    "**`numeric_imputation_target` / `numeric_imputation_Exogenous` 결측치 처리 방법**\n",
    "\n",
    "- `'drift'` : drift/트렌드 값은 sktime.PolynomialTrendForecaster(degree=1)에 의해 계산됩니다. 먼저, transform()의 X는 ffill로 채워진 후 bfill로 채워집니다. 그 후 PolynomialTrendForecaster(degree=1)가 채워진 X에 맞춰져(fitted) 결측치가 있던 인덱스에서 예측 값이 조회됩니다.\n",
    "- `'linear'` : 선형 보간, pd.Series.interpolate() 사용. 이 방법은 외삽(extrapolation)할 수 없으므로, 항상 transform()에 제공된 데이터에 맞춰집니다.\n",
    "- `'nearest'` : 가장 가까운 값을 사용, pd.Series.interpolate() 사용.\n",
    "- `'constant'` : 모든 NaN에 대해 같은 상수 값 (인수 value에서 주어짐).\n",
    "- `'mean'` : fit 데이터의 pd.Series.mean().\n",
    "- `'median'` : fit 데이터의 pd.Series.median().\n",
    "- `'backfill' or 'bfill'` : pd.Series.fillna()에서 적용.\n",
    "- `'pad' or 'ffill'` : pd.Series.fillna()에서 적용.\n",
    "- `'random'` : fit 데이터의 pd.Series.min()과 .max() 사이의 랜덤 값. 만약 pd.Series의 dtype이 int라면, 샘플은 균등 이산(uniform discrete)입니다. 만약 pd.Series의 dtype이 float라면, 샘플은 균등 연속(uniform continuous)입니다.\n"
   ]
  },
  {
   "cell_type": "code",
   "execution_count": null,
   "metadata": {
    "id": "txZGj57sxXZU",
    "outputId": "2da07587-8d4c-42f8-8553-4c3d56aa2b80"
   },
   "outputs": [],
   "source": [
    "# Setup 함수에서 데이터 전처리에 대한 설정을 지정합니다.\n",
    "_ = eda.setup(\n",
    "    data=data,  # 데이터프레임 전달\n",
    "    target=target,  # 예측 컬럼\n",
    "    index=\"datetime\",  # Time 컬럼\n",
    "    # Forecast Horizon: 예측할 미래 기간을 입력합니다.\n",
    "    fh=48,\n",
    "    # 'drift', 'linear', 'nearest', 'mean', 'median', 'backfill', 'bfill', 'pad', 'ffill', 'random'\n",
    "    numeric_imputation_target=\"drift\",\n",
    "    # 'drift', 'linear', 'nearest', 'mean', 'median', 'backfill', 'bfill', 'pad', 'ffill', 'random'\n",
    "    numeric_imputation_exogenous=\"drift\",\n",
    "    fig_kwargs=global_fig_settings,  # 플롯에 대한 기본 설정을 지정합니다\n",
    "    session_id=42,\n",
    ")"
   ]
  },
  {
   "cell_type": "markdown",
   "metadata": {
    "id": "o0Jrpft_xXZU"
   },
   "source": [
    "진행하기에 앞서, 여기에서 몇 가지 유용한 정보를 관찰할 수 있습니다.\n",
    "\n",
    "1. 데이터는 시간당 데이터셋이므로, 24시간 주기가 테스트되었습니다. 이 시간 주기에서 계절성이 감지되었습니다.\n",
    "2. 데이터의 성격 때문에 모델링하면서 데이터를 차분하는 것이 권장됩니다(d=1). 우리는 이를 EDA 과정에서 더 평가해 볼 것입니다.\n"
   ]
  },
  {
   "cell_type": "code",
   "execution_count": null,
   "metadata": {
    "id": "NCoGI5QhxXZU",
    "outputId": "b8981079-d581-43e6-a4bc-f75cc6501e7a"
   },
   "outputs": [],
   "source": [
    "# 시계열 데이터 시각화\n",
    "eda.plot_model(\n",
    "    fig_kwargs={\n",
    "        \"renderer\": \"png\",  # 'notebook' 으로 설정시 interactive 플롯을 생성합니다.\n",
    "        \"width\": 1000,\n",
    "        \"height\": 1200,\n",
    "    }\n",
    ")"
   ]
  },
  {
   "cell_type": "code",
   "execution_count": null,
   "metadata": {
    "id": "O0aawzaRxXZU",
    "outputId": "932e022a-7e5d-4c76-8280-064a60c66faa",
    "tags": []
   },
   "outputs": [],
   "source": [
    "# 시계열 데이터 시각화 with 세부설정\n",
    "eda.plot_model(\n",
    "    plot=\"ts\",\n",
    "    fig_kwargs={\n",
    "        \"height\": 1200,\n",
    "        # resampler_kwargs를 사용하여, plotly-resampler 객체의 생성자를 구성할 수 있습니다.\n",
    "        \"resampler_kwargs\": {\n",
    "            \"default_n_shown_samples\": 1500,\n",
    "            # show_dash kwargs는 show_dash (render) 메서드의 kwargs를 보류합니다.\n",
    "            \"show_dash\": {\"mode\": \"inline\", \"port\": 8055},\n",
    "        },\n",
    "    },\n",
    "    # display_format='plotly-dash', # interactive 시각화 출력을 원한다면 주석을 해제 합니다.\n",
    "    # display_format=\"plotly-widget\",  # interactive 시각화 출력을 원한다면 주석을 해제 합니다.\n",
    ")"
   ]
  },
  {
   "cell_type": "markdown",
   "metadata": {
    "id": "XzdLIVLWxXZU"
   },
   "source": [
    "확대 축소된 그래프에서 세부 사항을 보기 힘들 수도 있지만, pycaret는 인터랙티브 plotly 플롯을 사용하여 확대하는 기능을 제공합니다. 확대하면, **대략 19:00와 8:00에 피크가 있는 명확한 24시간 주기** 를 확인할 수 있습니다.\n",
    "\n",
    "또한 `NMHC(GT)`는 모든 값이 누락된 것으로 보입니다. 우리는 차후에 개발할 다변량 모델에서 이 변수를 제거할 예정입니다.\n",
    "\n",
    "다음으로, 설정에서는 데이터를 차분하는 것이 좋다고 권장하였습니다. 이것이 어떻게 보이는지, 그리고 필요한지 살펴보겠습니다. 차분된 데이터 외에도, 우리는 ACF, PACF 그리고 Periodogram 과 같은 일부 진단을 그려보겠습니다.\n",
    "\n",
    "Periodogram 은 시계열에서 스펙트럼 밀도를 주파수 함수로 그리는 그래프입니다. 이 경우, 주파수는 0에서 0.5까지의 범위를 가집니다(주파수를 측정하는데 필요한 최소 점은 2개로, 이는 최대 주파수 0.5에 해당합니다). 여러 주파수에서의 크기는 시계열에 대한 중요한 특성을 파악하는 데 사용될 수 있습니다. 이에 대해서는 아래에서 살펴보겠습니다.\n"
   ]
  },
  {
   "cell_type": "code",
   "execution_count": null,
   "metadata": {
    "id": "khkQbFfRxXZV"
   },
   "outputs": [],
   "source": [
    "# 결측치가 많아 제거합니다.\n",
    "exclude = [\"NMHC(GT)\"]"
   ]
  },
  {
   "cell_type": "code",
   "execution_count": null,
   "metadata": {
    "id": "01t9kmUhxXZV",
    "outputId": "800435b6-1305-448b-c649-54920a218a13"
   },
   "outputs": [],
   "source": [
    "# 기본적으로 원본 데이터를 첫 번째 차분(order d = 1)과 함께 그래프로 그립니다.\n",
    "eda.plot_model(\n",
    "    plot=\"diff\",\n",
    "    fig_kwargs={\n",
    "        \"width\": 1500,\n",
    "        \"height\": 900,\n",
    "        # plotly-widget을 사용할 때는 show_dash kwargs를 전달할 필요가 없습니다.\n",
    "        \"resampler_kwargs\": {\"default_n_shown_samples\": 1500},\n",
    "    },\n",
    "    data_kwargs={\"acf\": True, \"pacf\": True, \"periodogram\": True},\n",
    "    # display_format='plotly-dash', # interactive 시각화 출력을 원한다면 주석을 해제 합니다.\n",
    "    # display_format='plotly-widget', # interactive 시각화 출력을 원한다면 주석을 해제 합니다.\n",
    ")"
   ]
  },
  {
   "cell_type": "markdown",
   "metadata": {
    "id": "NDTKRMaCxXZV"
   },
   "source": [
    "위의 그래프들은 몇 가지 흥미로운 특성을 보여줍니다.\n",
    "\n",
    "**원본 데이터**\n",
    "\n",
    "1. 차분이 필요한가요?\n",
    "\n",
    "- 데이터셋은 상당히 높은 유의 수준을 보여주는 확장된 자기상관성(ACF - row 1, col 2)을 보여줍니다. 이는 차분이 필요하다는 것을 나타냅니다.\n",
    "- 같은 관측 결과는 PACF 플롯을 보면서도 파악할 수 있습니다. (row 1, col 3) 이는 lag1에서 매우 높은 상관관계를 보여줍니다. (즉, 이전 시점)\n",
    "- 이 특성은 주기도표 (row 1, col 4)에서도 확인할 수 있습니다. 이는 `~f = 0` 에서 피크를 보여줍니다. `~f = 0` 에서 피크가 나타나는 것은 시간 주기가 매우 크다는 것을 의미하며, 이는 '랜덤 워크' 유형의 행동을 차분으로 모델링할 수 있다는 것을 시사합니다.)\n",
    "\n",
    "[참고]\n",
    "\n",
    "- **피리오도그램 (Periodogram)**\n",
    "\n",
    "피리오도그램은 시계열 데이터의 주파수 도메인 특성을 분석하는 데 사용되는 일종의 플롯이며, 주로 시계열 데이터의 스펙트럼 분석에 사용됩니다. 이는 시계열의 주기성을 이해하는 데 도움이 되며, 시간 도메인에서는 눈으로 보이지 않는 특성을 빛으로 드러내줍니다.\n",
    "\n",
    "피리오도그램은 시계열의 파워 스펙트럼 밀도 (Power Spectrum Density, PSD)를 추정합니다. PSD는 시계열에서 각 주파수 성분의 '강도'를 나타냅니다. 높은 PSD 값을 가진 주파수는 해당 시계열에 더 강한 주기적 특성을 나타냅니다.\n",
    "\n",
    "- **~f = 0 의 의미**\n",
    "\n",
    "피리오도그램에서의 `~f = 0` 은 주파수가 0인 지점, 즉 시계열 데이터의 DC 성분(직류 성분)을 의미합니다. 시계열 데이터의 평균값을 나타내며, 이는 시계열 데이터의 전반적인 수준 혹은 추세를 의미합니다.\n",
    "\n",
    "예를 들어, 신호에 DC 성분이 있다는 것은 해당 신호가 0을 중심으로 진동하지 않고, 어떤 양의 값 혹은 음의 값으로 이동한 상태를 나타냅니다. 이는 신호의 전반적인 '수준' 혹은 '오프셋'을 나타내는 값이라고 할 수 있습니다.\n",
    "\n",
    "따라서, 주파수가 0인 곳에서의 값은 주파수 성분이 없이 단순히 상수 값으로 이루어진 신호 성분을 나타냅니다. 이런 성분은 종종 시계열 데이터의 '백그라운드 노이즈'나 '기본 수준' 등을 나타내는 데 사용됩니다.\n",
    "\n",
    "[예시]\n",
    "\n",
    "- **피리오도그램 (Periodogram)** 에 대해 생각해보면, 음악에 사용되는 그래픽 이퀄라이저를 떠올릴 수 있습니다. 이퀄라이저는 음악의 다양한 주파수 성분을 분석해서 그 강도를 시각적으로 보여주죠. 예를 들어, 베이스 사운드(저주파)가 강하면 그 부분의 미터가 더 높게 표시되고, 트레블 사운드(고주파)가 약하면 그 부분의 미터가 낮게 표시됩니다. 이것이 바로 피리오도그램이 시계열 데이터에 대해 하는 일입니다. 주기적인 패턴이 강하게 나타나는 주파수를 보여줍니다.\n",
    "\n",
    "- `~f = 0` 의 의미에 대해서는, 라디오의 볼륨 조절을 생각해보면 좋습니다. 라디오의 볼륨을 조절하면 모든 음악, 즉 모든 주파수 성분의 강도가 일괄적으로 증가하거나 감소합니다. 이것은 피리오도그램에서 ~f = 0, 즉 주파수가 0인 지점에서의 값을 조절하는 것과 유사합니다. 주파수가 0인 성분은 시계열 데이터의 전반적인 '볼륨' 또는 '수준'을 조절하는 역할을 합니다. 따라서, 이 값을 높이면 시계열 데이터 전체의 강도가 증가하고, 낮추면 감소하게 됩니다. 이것이 바로 ~f = 0의 의미입니다.\n",
    "\n",
    "---\n",
    "\n",
    "2. 계절성을 모델링해야 할까요?\n",
    "\n",
    "- ACF는 또한 lag 24에서 피크를 나타내어 24의 계절성을 보여줍니다. (이것은 설정 단계에서도 확인할 수 있었습니다)\n",
    "- 이는 주기도표에서도 확인할 수 있습니다. (기본 f = 0.0417에서 피크를 보여주며, 그것의 고유 주파수는 0.0834, 0.1249, ...). f = 0.0417는 T = 1/0.0417 = 24, 즉 24시간의 계절 주기를 나타냅니다.\n",
    "\n",
    "**차분 순서 = 1**\n",
    "\n",
    "1. 차분 순서 = 1은 확장된 자기상관성의 많은 부분이 처리되었음을 보여줍니다. (row 2, col 2의 크기가 이전보다 훨씬 작습니다.) 이는 주기도표 (row 2, col 4)에서도 확인할 수 있습니다. 여기서 ~ f = 0에서의 크기가 이전보다 훨씬 작습니다.\n",
    "2. ACF는 여전히 lag = 24에서 피크를 보여주며, 주기도표도 이를 나타냅니다. 이는 우리가 이를 적절히 모델링하기 위해 여전히 처리해야 함을 나타냅니다. 다음으로 계절성을 포함한 차분을 플로팅함으로써 이를 처리해봅시다. 이번에는 분석에 더 세밀한 제어를 원하기 때문에 lag들을 명확히 지정하겠습니다.\n",
    "\n",
    "참고: lag = 1은 차분 순서 = 1, 즉 첫 번째 차분을 의미하며, lag = [1, 24]는 첫 번째 차분이 취해진 다음 계절 차분 24가 취해진다는 것을 의미합니다.\n"
   ]
  },
  {
   "cell_type": "code",
   "execution_count": null,
   "metadata": {
    "id": "vq406Wi8xXZV",
    "outputId": "4e30d805-2821-4324-c910-ff38a1f8abea"
   },
   "outputs": [],
   "source": [
    "# 차분에 대한 시각화\n",
    "eda.plot_model(\n",
    "    plot=\"diff\",\n",
    "    fig_kwargs={\n",
    "        \"width\": 1500,\n",
    "        \"height\": 900,\n",
    "        \"resampler_kwargs\": {\n",
    "            \"default_n_shown_samples\": 1500,\n",
    "            \"show_dash\": {\"mode\": \"inline\", \"port\": 8056},\n",
    "        },\n",
    "    },\n",
    "    data_kwargs={\n",
    "        \"lags_list\": [1, [1, 24]],\n",
    "        \"acf\": True,\n",
    "        \"pacf\": True,\n",
    "        \"periodogram\": True,\n",
    "    },\n",
    "    # display_format='plotly-dash',    # interactive 시각화 출력을 원한다면 주석을 해제 합니다.\n",
    "    # display_format=\"plotly-widget\",  # interactive 시각화 출력을 원한다면 주석을 해제 합니다.\n",
    ")"
   ]
  },
  {
   "cell_type": "markdown",
   "metadata": {
    "id": "G3ooRk2nxXZV"
   },
   "source": [
    "우리는 마지막 플롯의 반복이 되는 첫 번째와 두 번째 행보다는 3번째 행에 주목할 것입니다. 3번째 행은 24의 계절 차분이 뒤따르는 1차 차분을 표현합니다. ACF(행 3, 열 2)에서 볼 수 있듯이, 모든 확장 자기상관이 처리되었습니다. 우리는 여전히 lag = 24에서 피크를 보지만(이제는 음수), 페리오도그램을 주의 깊게 검토하면, 누출이 매우 낮은 스펙트럼 밀도를 가지고 있다는 것을 알 수 있습니다. 따라서, 첫 번째 차분과 24의 계절 차분을 취하면 이 시계열을 상당히 합리적으로 모델링할 수 있다는 결론을 내릴 수 있습니다. 그러나,\n",
    "\n",
    "참고: 독자는 이것을 더욱 조사하여 AR 및 MA 구성 요소를 알아낼 수 있습니다. 예를 들어, PACF 플롯(행 3, 열 3)은 lag = 2에서 그리고 그 이후에서 음의 스파이크(중요)를 보여줌으로써 적어도 2차 AR 구성 요소를 나타냅니다. 단순성을 위해 이번 연습에서는 그것을 사용하지 않겠지만, 더 완전한 평가를 위해 반드시 탐색해야 합니다.\n",
    "\n",
    "다음으로, 외생 변수가 타겟에 미치는 영향과 그 사이의 상관 관계를 조사해 보겠습니다. 이는 Cross Correlation Plots을 이용하여 달성할 수 있습니다.\n"
   ]
  },
  {
   "cell_type": "code",
   "execution_count": null,
   "metadata": {
    "id": "eHmytDrwxXZV",
    "outputId": "c76906cf-2a25-4605-a767-55422fe6739d"
   },
   "outputs": [],
   "source": [
    "# Cross Correlation Plot 시각화\n",
    "eda.plot_model(plot=\"ccf\", fig_kwargs={\"height\": 1000, \"width\": 1500})"
   ]
  },
  {
   "cell_type": "markdown",
   "metadata": {},
   "source": [
    "첫 번째 플롯(행 1, 열 1)은 타겟의 자기상관성을 보여주며(ACF와 같음), 나머지 플롯들은 타겟과 외생 변수의 지연된 값들 사이의 상관성을 보여줍니다. 예를 들어, 행 1, 열 2는 CO 농도가 lag 0과 lag 24에서 `PT08.S1(CO)`와 매우 상관관계가 있음을 보여줍니다. `NOx(GT)`, `C6H6(GT)`, `PT08.S2(NMHC)` 등 다른 변수들에서도 비슷한 패턴을 볼 수 있습니다. 이 변수들은 CO 농도를 모델링할 때 유용할 수 있습니다.\n",
    "\n",
    "또 하나의 관찰 결과로, 절대 습도 `AH`는 CO 농도와 매우 강한 상관관계를 보이지 않는 것으로 보입니다. 이 변수는 모델링에 중요하지 않을 수 있습니다.\n"
   ]
  },
  {
   "cell_type": "code",
   "execution_count": null,
   "metadata": {
    "id": "yevXKqjaxXZV",
    "outputId": "a16829d2-1fd4-426c-df11-dd498d7dd363",
    "tags": []
   },
   "outputs": [],
   "source": [
    "# AH 컬럼 제외목록에 추가\n",
    "exclude.append(\"AH\")\n",
    "exclude"
   ]
  },
  {
   "cell_type": "markdown",
   "metadata": {
    "id": "0HnN2Uxex7zT"
   },
   "source": [
    "이제 모델링 단계로 넘어가 보겠습니다.\n"
   ]
  },
  {
   "cell_type": "code",
   "execution_count": null,
   "metadata": {
    "id": "zN7LZhHAx7zV",
    "outputId": "fce9d804-c278-4de3-a3af-cf3a0c994e0c"
   },
   "outputs": [],
   "source": [
    "exclude = [\"NMHC(GT)\", \"AH\"]\n",
    "data.drop(columns=exclude, inplace=True)\n",
    "data.head()"
   ]
  },
  {
   "cell_type": "markdown",
   "metadata": {
    "id": "4PGFufUlx7zV"
   },
   "source": [
    "## 🔆 (베이스라인) 외생 변수 없이 단일 변수 예측하기\n"
   ]
  },
  {
   "cell_type": "code",
   "execution_count": null,
   "metadata": {
    "id": "NcHuLJRrx7zV",
    "outputId": "b32661d7-f30b-49fe-e991-61b75cce986c"
   },
   "outputs": [],
   "source": [
    "# 시계열 실험(Experiment) 객체를 생성합니다.\n",
    "exp_uni = TSForecastingExperiment()\n",
    "\n",
    "# 설정 값 지정\n",
    "exp_uni.setup(\n",
    "    data=data[target],\n",
    "    fh=48,  # (예측 time-step) forecast horizon 설정\n",
    "    numeric_imputation_target=\"linear\",\n",
    "    numeric_imputation_exogenous=\"linear\",\n",
    "    fig_kwargs=global_fig_settings,\n",
    "    session_id=42,\n",
    ")"
   ]
  },
  {
   "cell_type": "code",
   "execution_count": null,
   "metadata": {
    "colab": {
     "referenced_widgets": [
      ""
     ]
    },
    "id": "SaY1Dbi-x7zV",
    "outputId": "61a36409-50ee-4fd4-eef8-95d6b4086c32"
   },
   "outputs": [],
   "source": [
    "# 'arima' 모델을 생성합니다.\n",
    "model = exp_uni.create_model(\n",
    "    \"arima\",  # ARIMA, SARIMA, SARIMAX 등을 커버. 모두 동일하게 arima 로 지정\n",
    "    order=(0, 1, 0),  # (p, d, q)\n",
    "    seasonal_order=(0, 1, 0, 24),  # (p, d, q, s)\n",
    ")"
   ]
  },
  {
   "cell_type": "code",
   "execution_count": null,
   "metadata": {
    "id": "9bKNNsW2x7zW",
    "outputId": "a657a34f-05d9-4702-a57e-eb97cb50f857"
   },
   "outputs": [],
   "source": [
    "exp_uni.plot_model(\n",
    "    model,\n",
    "    fig_kwargs={\n",
    "        # 'notebook' 으로 설정시 interactive 플롯을 생성합니다.\n",
    "        \"renderer\": \"png\",\n",
    "        \"width\": 1500,\n",
    "        \"height\": 500,\n",
    "    },\n",
    ")"
   ]
  },
  {
   "cell_type": "markdown",
   "metadata": {
    "id": "9aMETHHOx7zW"
   },
   "source": [
    "예측을 확대해 보면, 모델이 데이터셋의 일부 추세(피크)를 포착할 수 있는 것을 알 수 있지만, 모든 것을 포착하지는 못합니다. 베이스라인 모델의 성능은 CV 폴드 전체의 평균 MASE가 1.46 라는 것을 보여주며, 이는 그다지 좋지 않은 성과입니다.\n",
    "\n",
    "**1보다 큰 값은 모델이 단순한 1단계 예측조차도 못 따라가고 있다는 것을 의미**합니다. 이 모델은 더 개선이 필요합니다. 외생 변수를 추가하여 모델 성능을 향상시킬 수 있는지 살펴보겠습니다.\n"
   ]
  },
  {
   "cell_type": "markdown",
   "metadata": {
    "id": "4MviwD3ix7zW"
   },
   "source": [
    "## 🔆 (개선된 모델) 외생 변수를 사용한 단일 변수 예측하기\n"
   ]
  },
  {
   "cell_type": "code",
   "execution_count": null,
   "metadata": {
    "id": "XhQi22zPx7zW",
    "outputId": "20b18fcb-7fff-4a87-c479-70d4950c698e"
   },
   "outputs": [],
   "source": [
    "# 외생변수를 추가한 실험 생성\n",
    "exp_exo = TSForecastingExperiment()\n",
    "\n",
    "# setup 시 외생변수를 포함한 dataframe 을 입력\n",
    "exp_exo.setup(\n",
    "    data=data,\n",
    "    target=target,\n",
    "    index=\"datetime\",\n",
    "    fh=48,\n",
    "    numeric_imputation_target=\"linear\",\n",
    "    numeric_imputation_exogenous=\"drift\",\n",
    "    fig_kwargs=global_fig_settings,\n",
    "    session_id=42,\n",
    ")"
   ]
  },
  {
   "cell_type": "code",
   "execution_count": null,
   "metadata": {
    "colab": {
     "referenced_widgets": [
      ""
     ]
    },
    "id": "4dfclN1vx7zW",
    "outputId": "0fbc1176-1405-408a-cc39-1fc69c04ad39"
   },
   "outputs": [],
   "source": [
    "# SARIMAX 모델 생성\n",
    "model_exo = exp_exo.create_model(\n",
    "    \"arima\",\n",
    "    order=(0, 1, 0),\n",
    "    seasonal_order=(0, 1, 0, 24),\n",
    ")"
   ]
  },
  {
   "cell_type": "code",
   "execution_count": null,
   "metadata": {
    "id": "G7BEN5H4x7zW",
    "outputId": "42e7a350-f67f-4478-da53-908b779ac261"
   },
   "outputs": [],
   "source": [
    "# Actual vs Prediction 시각화\n",
    "exp_exo.plot_model(model_exo)"
   ]
  },
  {
   "cell_type": "code",
   "execution_count": null,
   "metadata": {},
   "outputs": [],
   "source": [
    "# 시계열 Decomposition - seasonal period\n",
    "exp_exo.plot_model(plot=\"decomp\", data_kwargs={\"seasonal_period\": 24})"
   ]
  },
  {
   "cell_type": "code",
   "execution_count": null,
   "metadata": {},
   "outputs": [],
   "source": [
    "# 시계열 Decomposition\n",
    "exp_exo.plot_model(plot=\"decomp\", data_kwargs={\"type\": \"multiplicative\"})"
   ]
  },
  {
   "cell_type": "code",
   "execution_count": null,
   "metadata": {},
   "outputs": [],
   "source": [
    "# Cross Correlation Plot 시각화\n",
    "exp_exo.plot_model(\n",
    "    plot=\"ccf\",\n",
    "    fig_kwargs={\n",
    "        \"width\": 1500,\n",
    "        \"height\": 700,\n",
    "    },\n",
    ")"
   ]
  },
  {
   "cell_type": "markdown",
   "metadata": {
    "id": "Of2G7pM7x7zW"
   },
   "source": [
    "## ❗️ 모델 평가하기\n"
   ]
  },
  {
   "cell_type": "markdown",
   "metadata": {
    "id": "N6w69hEMx7zW"
   },
   "source": [
    "나쁘지 않습니다. `MASE` 를 상당히 향상시키는 데 성공했으며, 이는 단변량 모델보다 훨씬 좋고, 단순 모델에 비해 큰 개선입니다. 이 개선에 만족해야 합니다.\n",
    "\n",
    "모델을 최종화하기 위해 전체 데이터셋에 대해 훈련시키고, 실제 미래 예측을 할 수 있도록 하겠습니다.\n"
   ]
  },
  {
   "cell_type": "code",
   "execution_count": null,
   "metadata": {
    "id": "GdrkKXT6x7zW"
   },
   "outputs": [],
   "source": [
    "# Finalize Model : 전체 데이터를 활용한 재학습\n",
    "final_model_exo = exp_exo.finalize_model(model_exo)"
   ]
  },
  {
   "cell_type": "code",
   "execution_count": null,
   "metadata": {
    "id": "Itq8ejaSx7zW",
    "outputId": "2722222a-524d-471e-dbc2-b6f91b5b0fc8"
   },
   "outputs": [],
   "source": [
    "# 예측을 위한 wrapper 함수\n",
    "def safe_predict(exp, model):\n",
    "    try:\n",
    "        exp.predict_model(model)\n",
    "    except ValueError as exception:\n",
    "        print(exception)\n",
    "        exo_vars = exp.exogenous_variables\n",
    "        # 외생변수(Exogenous Variable) 가 설정이 안되었기 때문에 에러 발생\n",
    "        print(\n",
    "            f\"{len(exo_vars)} exogenous variables (X) needed in order to make future predictions:\\n{exo_vars}\"\n",
    "        )\n",
    "\n",
    "\n",
    "safe_predict(exp_exo, final_model_exo)"
   ]
  },
  {
   "cell_type": "markdown",
   "metadata": {
    "id": "ksSDlZIwx7zW"
   },
   "source": [
    "이 접근 방식은 부작용이 없지 않습니다. 문제는 우리가 10개의 외생 변수를 가지고 있다는 것입니다. 따라서 CO 농도의 알려지지 않은 미래 값을 얻으려면, 이러한 외생 변수들의 미래 값을 얻어야 합니다. 이는 일반적으로 일부 예측 과정을 통해 얻어집니다. 하지만 각 예측에는 오차가 있으며, 특히 외생 변수가 많을 때 이러한 오차는 복리로 증폭될 수 있습니다.\n",
    "\n",
    "**예측 성능을 저하시키지 않으면서 이 외생 변수들을 유용한 소수의 변수로 줄일 수 있는지 살펴보겠습니다.**\n"
   ]
  },
  {
   "cell_type": "markdown",
   "metadata": {
    "id": "Q4_obwtkx7zW"
   },
   "source": [
    "## 🔆 (간소한 모델) 제한적인 외생 변수를 사용한 단일 변수 예측\n",
    "\n",
    "CCF 분석에서 우리는 많은 외생 변수들이 CO 농도와 매우 유사한 상관 구조를 보인다는 것을 발견했습니다. 예를 들어, 24시간 전(`lag = 24`)의 `PT08.S1(CO)`, `NOx(GT)`, `C6H6(GT)`, `PT08.S2(NMHC)` 값은 CO 농도와 높은 양의 상관 관계를 보입니다. 이들 중에서도 `NOx(GT)`가 lag 24에서 가장 높은 양의 상관 관계를 가지는 변수입니다.\n",
    "\n",
    "마찬가지로, 24시간 전(`lag = 24`)의 `PT08.S3(NOx)` 값은 CO 농도와 가장 높은 음의 상관 관계를 보입니다. 우리는 이 변수를 유지하기로 결정했습니다.\n",
    "\n",
    "마지막으로, 일일 사이클에서 12시간 전에 발생한 사건도 현재 값을 영향을 줄 수 있습니다(예: 지난 밤의 값은 다음 날에 영향을 줄 수 있고 그 반대도 가능합니다). Lag = 12에서 CO 농도와 가장 높은 상관 관계를 가지는 변수는 `RH`입니다. 이 변수도 유지하기로 결정했습니다.\n"
   ]
  },
  {
   "cell_type": "code",
   "execution_count": null,
   "metadata": {
    "id": "d5lU9aRjx7zX",
    "outputId": "0036dcf4-0da7-4802-9ae7-a6656331777a"
   },
   "outputs": [],
   "source": [
    "# 시계열 실험 생성\n",
    "exp_slim = TSForecastingExperiment()\n",
    "\n",
    "# 사용할 외생변수 & 타겟 정의\n",
    "keep = [target, \"datetime\", \"NOx(GT)\", \"PT08.S3(NOx)\", \"RH\"]\n",
    "data_slim = data[keep]\n",
    "\n",
    "# setup\n",
    "exp_slim.setup(\n",
    "    data=data_slim,\n",
    "    target=target,\n",
    "    index=\"datetime\",\n",
    "    fh=48,\n",
    "    numeric_imputation_target=\"drift\",\n",
    "    numeric_imputation_exogenous=\"linear\",\n",
    "    fig_kwargs=global_fig_settings,\n",
    "    session_id=42,\n",
    ")"
   ]
  },
  {
   "cell_type": "code",
   "execution_count": null,
   "metadata": {
    "colab": {
     "referenced_widgets": [
      ""
     ]
    },
    "id": "PVCl-6jXx7zX",
    "outputId": "8d47fbd3-f33f-44e7-ee5e-f315c8163067"
   },
   "outputs": [],
   "source": [
    "# 동일한 SARIMAX 모델을 생성\n",
    "model_slim = exp_slim.create_model(\n",
    "    \"arima\", order=(0, 1, 0), seasonal_order=(0, 1, 0, 24)\n",
    ")"
   ]
  },
  {
   "cell_type": "code",
   "execution_count": null,
   "metadata": {
    "id": "oVqGDUUex7zX",
    "outputId": "20d5f454-1e26-4f31-bb6d-b26cd2a8e8a9"
   },
   "outputs": [],
   "source": [
    "# 시각화\n",
    "exp_slim.plot_model(\n",
    "    model_slim,\n",
    ")"
   ]
  },
  {
   "cell_type": "markdown",
   "metadata": {
    "id": "YcjKTs0Ix7zX"
   },
   "source": [
    "나쁘지 않습니다. MASE는 약간 증가했지만, 우리는 외생 변수를 크게 줄일 수 있었습니다. 이것은 우리가 '진짜' 알려지지 않은 미래 예측을 할 때 도움이 될 것입니다. 왜냐하면 CO 농도에 대한 예측을 하기 위해 이러한 외생 변수의 '알려지지 않은' 미래 값이 필요하기 때문입니다.\n"
   ]
  },
  {
   "cell_type": "markdown",
   "metadata": {
    "id": "Zi852EBOx7zX"
   },
   "source": [
    "##  🌈 모델 최종화(Finalize) 하기\n",
    "\n",
    "- 실제 미래 예측을 할 수 있도록 슬림 모델을 전체 데이터셋에 대해 훈련시킵니다.\n",
    "- 배포를 위해 모델을 pickle 파일로 저장합니다.\n"
   ]
  },
  {
   "cell_type": "code",
   "execution_count": null,
   "metadata": {
    "id": "YpeMStClx7zX"
   },
   "outputs": [],
   "source": [
    "# 전체 데이터셋으로 재학습\n",
    "final_slim_model = exp_slim.finalize_model(model_slim)"
   ]
  },
  {
   "cell_type": "code",
   "execution_count": null,
   "metadata": {
    "id": "1n9xzAowx7zX",
    "outputId": "1c947b0b-a795-49ac-d35e-8ac54a262e3b"
   },
   "outputs": [],
   "source": [
    "# 모델 저장 (모델, 저장할 모델명)\n",
    "_ = exp_slim.save_model(final_slim_model, \"final_slim_model\")"
   ]
  },
  {
   "cell_type": "code",
   "execution_count": null,
   "metadata": {
    "id": "-9SMo387x7zX",
    "outputId": "8135121f-ffa9-4351-9fd7-a33ff004d291"
   },
   "outputs": [],
   "source": [
    "# 여전히 외생변수가 누락되었기 때문에 에러 발생\n",
    "safe_predict(exp_slim, final_slim_model)"
   ]
  },
  {
   "cell_type": "markdown",
   "metadata": {
    "id": "rL0bsM7Nx7zX"
   },
   "source": [
    "**따라서 우리는 여전히 3개의 외생 변수에 대한 미래 값을 필요로 합니다. 다음 파트에서 예측 기법을 사용하여 이를 얻을 것입니다.**\n"
   ]
  },
  {
   "cell_type": "markdown",
   "metadata": {},
   "source": [
    "## 🔥 외생변수(Exogenous Features) 에 대한 값 얻기\n"
   ]
  },
  {
   "cell_type": "markdown",
   "metadata": {
    "id": "lS5x01Gwx7zX"
   },
   "source": [
    "이제 우리의 모델을 구축했으니, 미래 예측을 진행해 보겠습니다.\n"
   ]
  },
  {
   "cell_type": "code",
   "execution_count": null,
   "metadata": {
    "id": "Kk36AyvCx7zX",
    "outputId": "936073d8-62ac-4d9f-a79b-9443a1400ff4"
   },
   "outputs": [],
   "source": [
    "# 사용할 외생변수 정의(데모를 위해 3개만 추려냅니다)\n",
    "exog_vars = [\"NOx(GT)\", \"PT08.S3(NOx)\", \"RH\"]\n",
    "data = data[[\"datetime\"] + exog_vars]\n",
    "data.head()"
   ]
  },
  {
   "cell_type": "markdown",
   "metadata": {
    "id": "XgVUL-6Vx7zX"
   },
   "source": [
    "## ⚠️ 미래 예측하기\n"
   ]
  },
  {
   "cell_type": "markdown",
   "metadata": {},
   "source": [
    "### 예측을 통해 미래의 외생 변수 값을 얻기\n"
   ]
  },
  {
   "cell_type": "code",
   "execution_count": null,
   "metadata": {
    "colab": {
     "referenced_widgets": [
      ""
     ]
    },
    "id": "v5PEcZaax7zX",
    "outputId": "a8ea2852-ad7e-4051-82f8-a54b5365fbea"
   },
   "outputs": [],
   "source": [
    "# STEP 1: 외생변수 각각에 대한 시계열 예측 수행\n",
    "exog_exps = []\n",
    "exog_models = []\n",
    "\n",
    "for exog_var in exog_vars:\n",
    "    # 외생변수에 대한 예측을 도출하기 위하여 시계열 실험 생성\n",
    "    exog_exp = TSForecastingExperiment()\n",
    "    # setup\n",
    "    exog_exp.setup(\n",
    "        data=data[[\"datetime\", exog_var]],\n",
    "        target=exog_var,\n",
    "        index=\"datetime\",\n",
    "        fh=48,\n",
    "        numeric_imputation_target=\"ffill\",\n",
    "        numeric_imputation_exogenous=\"ffill\",\n",
    "        fig_kwargs=global_fig_settings,\n",
    "        session_id=42,\n",
    "        verbose=False,\n",
    "    )\n",
    "\n",
    "    # 사용자는 미래 외생 변수를 모델링하는 방법을 사용자 정의할 수 있습니다.\n",
    "    # 즉, 모델링 시간이 늘어나는 대신 더 나은 모델을 얻을 수 있는 추가 단계와 모델을 추가할 수 있습니다.\n",
    "    best = exog_exp.compare_models(\n",
    "        sort=\"mase\",\n",
    "        include=[\n",
    "            \"arima\",\n",
    "            \"ets\",\n",
    "            \"exp_smooth\",\n",
    "            \"theta\",\n",
    "            \"lightgbm_cds_dt\",\n",
    "        ],\n",
    "        verbose=False,\n",
    "    )\n",
    "    final_exog_model = exog_exp.finalize_model(best)\n",
    "\n",
    "    exog_exps.append(exog_exp)\n",
    "    exog_models.append(final_exog_model)"
   ]
  },
  {
   "cell_type": "code",
   "execution_count": null,
   "metadata": {},
   "outputs": [],
   "source": [
    "# STEP 2: 외생 변수에 대한 미래 예측 얻기\n",
    "future_exog = [\n",
    "    exog_exp.predict_model(exog_model)\n",
    "    for exog_exp, exog_model in zip(exog_exps, exog_models)\n",
    "]"
   ]
  },
  {
   "cell_type": "code",
   "execution_count": null,
   "metadata": {},
   "outputs": [],
   "source": [
    "# 예측값 concat\n",
    "future_exog = pd.concat(future_exog, axis=1)\n",
    "future_exog.columns = exog_vars"
   ]
  },
  {
   "cell_type": "code",
   "execution_count": null,
   "metadata": {
    "id": "7Rw0UJwix7zX",
    "outputId": "e80378f0-8dd2-43f6-f392-00d23fdafd2b"
   },
   "outputs": [],
   "source": [
    "# 예측으로 도출한 외생변수 집합 확인\n",
    "future_exog"
   ]
  },
  {
   "cell_type": "markdown",
   "metadata": {
    "id": "uz7MV2aMx7zX"
   },
   "source": [
    "### 모델을 로드하고 목표 변수에 대한 미래 예측하기\n"
   ]
  },
  {
   "cell_type": "code",
   "execution_count": null,
   "metadata": {
    "id": "1NDpruCrx7zX"
   },
   "outputs": [],
   "source": [
    "# 미래 예측용 시계열 실험 생성\n",
    "exp_future = TSForecastingExperiment()\n",
    "\n",
    "# 이전에 저장한 모델 로드\n",
    "final_slim_model = exp_future.load_model(\"final_slim_model\")"
   ]
  },
  {
   "cell_type": "code",
   "execution_count": null,
   "metadata": {},
   "outputs": [],
   "source": [
    "# 예측용 Forecasting Horizon 개수 확인\n",
    "final_slim_model.fh"
   ]
  },
  {
   "cell_type": "code",
   "execution_count": null,
   "metadata": {
    "id": "tm8D2FeMx7zX",
    "outputId": "6e5f9895-4eee-4588-85f3-55c26a4ffac4"
   },
   "outputs": [],
   "source": [
    "# 예측으로 도출한 외생변수 확인\n",
    "future_exog.tail(10)"
   ]
  },
  {
   "cell_type": "code",
   "execution_count": null,
   "metadata": {},
   "outputs": [],
   "source": [
    "# 모델의 Forecasting Horizon 과 예측으로 생성한 외생변수의 개수가 동일해야 함\n",
    "assert len(future_exog) == len(final_slim_model.fh)"
   ]
  },
  {
   "cell_type": "code",
   "execution_count": null,
   "metadata": {
    "id": "k471-KRjx7zf",
    "outputId": "778c708e-12ff-4630-face-3d6119c339d3",
    "tags": []
   },
   "outputs": [],
   "source": [
    "# 예측\n",
    "future_preds = exp_future.predict_model(\n",
    "    final_slim_model,  # 모델 입력\n",
    "    X=future_exog,  # 외생변수 입력\n",
    ")\n",
    "\n",
    "# 결과 시각화\n",
    "future_preds.plot()"
   ]
  },
  {
   "cell_type": "markdown",
   "metadata": {
    "id": "ffv04gWVx--J"
   },
   "source": [
    "이제 우리의 데이터셋을 수동으로 모델링하는 과정을 자동화하여 재현해 보겠습니다.\n"
   ]
  },
  {
   "cell_type": "markdown",
   "metadata": {
    "id": "3jZHWCvix--M"
   },
   "source": [
    "## 📍 (전체 자동화) AutoML을 사용한 자동화된 시계열 모델링\n"
   ]
  },
  {
   "cell_type": "markdown",
   "metadata": {},
   "source": [
    "### 1️⃣ 데이터 전처리\n"
   ]
  },
  {
   "cell_type": "code",
   "execution_count": null,
   "metadata": {},
   "outputs": [],
   "source": [
    "# 데이터 로드\n",
    "data = get_data(\"airquality\", verbose=False)\n",
    "\n",
    "# 간단한 데이터 전처리 (demo 용)\n",
    "# 추후 더 정확한 예측을 위하여 정교한 전처리가 요구될 수 있습니다.\n",
    "data = data.iloc[-720:]\n",
    "data.insert(0, \"datetime\", pd.to_datetime(data[\"Date\"] + \" \" + data[\"Time\"]))\n",
    "data.drop(columns=[\"Date\", \"Time\"], inplace=True)\n",
    "data.replace(-200, np.nan, inplace=True)\n",
    "data.set_index(\"datetime\", inplace=True)\n",
    "\n",
    "# 타겟 정의\n",
    "target = \"CO(GT)\"\n",
    "# 사용할 외생변수 정의\n",
    "exog_vars = [\"NOx(GT)\", \"PT08.S3(NOx)\", \"RH\"]\n",
    "\n",
    "# 최종 사용 Feature 정의\n",
    "include = [target] + exog_vars\n",
    "data = data[include]\n",
    "data.head()"
   ]
  },
  {
   "cell_type": "markdown",
   "metadata": {},
   "source": [
    "### 2️⃣ 하이퍼 파라미터 정의\n"
   ]
  },
  {
   "cell_type": "code",
   "execution_count": null,
   "metadata": {
    "id": "oashO9wVx--M"
   },
   "outputs": [],
   "source": [
    "FH = 48  # 예측 Forecasting Horizon\n",
    "metric = \"mase\"  # 평가지표\n",
    "\n",
    "# 예측에 제외할 모델명 입력\n",
    "exclude_models = [\n",
    "    \"auto_arima\",\n",
    "    \"bats\",\n",
    "    \"tbats\",\n",
    "    \"lar_cds_dt\",\n",
    "    \"par_cds_dt\",\n",
    "]"
   ]
  },
  {
   "cell_type": "markdown",
   "metadata": {
    "id": "cIsPsz8Wx--M"
   },
   "source": [
    "### 3️⃣ 모델 생성\n"
   ]
  },
  {
   "cell_type": "code",
   "execution_count": null,
   "metadata": {
    "id": "TDgOMvcfx--M",
    "outputId": "bd27279b-dd17-4edd-8e3e-2982a8efda6e"
   },
   "outputs": [],
   "source": [
    "exp_auto = TSForecastingExperiment()\n",
    "\n",
    "exp_auto.setup(\n",
    "    data=data,\n",
    "    target=target,\n",
    "    fh=FH,\n",
    "    # enforce_exogenous=False --> 모델이 지원하는 경우 다변량 예측을 사용하고, 그렇지 않은 경우 단일 변수 예측을 사용합니다.\n",
    "    enforce_exogenous=False,\n",
    "    numeric_imputation_target=\"drift\",\n",
    "    numeric_imputation_exogenous=\"linear\",\n",
    "    fig_kwargs=global_fig_settings,\n",
    "    session_id=42,\n",
    ")"
   ]
  },
  {
   "cell_type": "code",
   "execution_count": null,
   "metadata": {
    "id": "kYrb5gDXx--N"
   },
   "outputs": [],
   "source": [
    "# 사용 가능한 모델 확인하기\n",
    "exp_auto.models()"
   ]
  },
  {
   "cell_type": "code",
   "execution_count": null,
   "metadata": {
    "id": "JS-LzvrRx--N",
    "outputId": "77673471-81f0-473d-e70f-1885037a828a"
   },
   "outputs": [],
   "source": [
    "# Prophet과 같은 느린 모델을 포함(turbo=False) 하되, 특정 모델을 제외합니다.\n",
    "best = exp_auto.compare_models(sort=metric, turbo=False, exclude=exclude_models)"
   ]
  },
  {
   "cell_type": "code",
   "execution_count": null,
   "metadata": {
    "id": "F-Of5Hryx--N",
    "outputId": "2eb37db6-0aa1-48c8-ee87-feab840e29f5"
   },
   "outputs": [],
   "source": [
    "# best 모델로 시각화\n",
    "exp_auto.plot_model(best)"
   ]
  },
  {
   "cell_type": "code",
   "execution_count": null,
   "metadata": {
    "id": "A5RKnMGqx--N"
   },
   "outputs": [],
   "source": [
    "# 전체 데이터셋으로 재학습\n",
    "final_auto_model = exp_auto.finalize_model(best)"
   ]
  },
  {
   "cell_type": "markdown",
   "metadata": {},
   "source": [
    "### 4️⃣ 최종 예측\n"
   ]
  },
  {
   "cell_type": "code",
   "execution_count": null,
   "metadata": {
    "id": "Kl9txxOdx--N"
   },
   "outputs": [],
   "source": [
    "def safe_predict(exp, model):\n",
    "    \"\"\"예측용 wrapper 함수.\"\"\"\n",
    "    try:\n",
    "        future_preds = exp.predict_model(model)\n",
    "    except ValueError as exception:\n",
    "        print(exception)\n",
    "        exo_vars = exp.exogenous_variables\n",
    "        print(f\"미래 예측을 위해 {len(exo_vars)}개의 외생 변수 (X)가 필요합니다:\\n{exo_vars}\")\n",
    "\n",
    "        exog_exps = []\n",
    "        exog_models = []\n",
    "        for exog_var in exog_vars:\n",
    "            exog_exp = TSForecastingExperiment()\n",
    "            exog_exp.setup(\n",
    "                data=data[exog_var],\n",
    "                fh=FH,\n",
    "                numeric_imputation_target=\"drift\",\n",
    "                numeric_imputation_exogenous=\"linear\",\n",
    "                fig_kwargs=global_fig_settings,\n",
    "                session_id=42,\n",
    "                verbose=False,\n",
    "            )\n",
    "\n",
    "            # 사용자는 미래 외생 변수를 모델링하는 방법을 사용자 정의할 수 있습니다.\n",
    "            # 예를 들어, 더 많은 단계와 모델을 추가하여 더 나은 모델을 얻을 수 있지만,\n",
    "            # 모델링 시간이 늘어날 수 있습니다.\n",
    "            best = exog_exp.compare_models(\n",
    "                sort=metric,\n",
    "                include=[\n",
    "                    \"arima\",\n",
    "                    \"ets\",\n",
    "                    \"exp_smooth\",\n",
    "                    \"theta\",\n",
    "                    \"lightgbm_cds_dt\",\n",
    "                ],\n",
    "                verbose=False,\n",
    "            )\n",
    "            final_exog_model = exog_exp.finalize_model(best)\n",
    "\n",
    "            exog_exps.append(exog_exp)\n",
    "            exog_models.append(final_exog_model)\n",
    "\n",
    "        # 단계 2: 외생 변수에 대한 미래 예측 얻기 ----\n",
    "        future_exog = [\n",
    "            exog_exp.predict_model(exog_model)\n",
    "            for exog_exp, exog_model in zip(exog_exps, exog_models)\n",
    "        ]\n",
    "        future_exog = pd.concat(future_exog, axis=1)\n",
    "        future_exog.columns = exog_vars\n",
    "\n",
    "        future_preds = exp.predict_model(model, X=future_exog)\n",
    "\n",
    "    return future_preds"
   ]
  },
  {
   "cell_type": "code",
   "execution_count": null,
   "metadata": {
    "id": "hrw7EPCBx--N",
    "outputId": "3d4719c1-8fc6-4232-cf83-4ee90115fee9",
    "tags": []
   },
   "outputs": [],
   "source": [
    "future_preds = safe_predict(exp_auto, final_auto_model)\n",
    "future_preds.plot()"
   ]
  }
 ],
 "metadata": {
  "colab": {
   "provenance": []
  },
  "interpreter": {
   "hash": "123bcb4ce899ee890331a71b3cea712d4320170ddeacac9e984e5559394c0db9"
  },
  "kernelspec": {
   "display_name": "Python 3 (ipykernel)",
   "language": "python",
   "name": "python3"
  },
  "language_info": {
   "codemirror_mode": {
    "name": "ipython",
    "version": 3
   },
   "file_extension": ".py",
   "mimetype": "text/x-python",
   "name": "python",
   "nbconvert_exporter": "python",
   "pygments_lexer": "ipython3",
   "version": "3.9.17"
  }
 },
 "nbformat": 4,
 "nbformat_minor": 1
}
