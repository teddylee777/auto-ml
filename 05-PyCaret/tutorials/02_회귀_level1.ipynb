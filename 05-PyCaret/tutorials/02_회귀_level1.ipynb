{
 "cells": [
  {
   "cell_type": "markdown",
   "id": "5ae0e343",
   "metadata": {
    "id": "5ae0e343"
   },
   "source": [
    "## PyCaret 설치"
   ]
  },
  {
   "cell_type": "code",
   "execution_count": null,
   "id": "47484d8d",
   "metadata": {
    "id": "47484d8d"
   },
   "outputs": [],
   "source": [
    "!pip install pycaret"
   ]
  },
  {
   "cell_type": "markdown",
   "id": "b26c3873",
   "metadata": {
    "id": "b26c3873"
   },
   "source": [
    "Google Colab 사용자의 경우 다음의 코드를 실행합니다."
   ]
  },
  {
   "cell_type": "code",
   "execution_count": null,
   "id": "bce29045",
   "metadata": {
    "id": "bce29045"
   },
   "outputs": [],
   "source": [
    "from pycaret.utils import enable_colab\n",
    "\n",
    "enable_colab()"
   ]
  },
  {
   "cell_type": "markdown",
   "id": "7f4674cd",
   "metadata": {
    "id": "7f4674cd"
   },
   "source": [
    "## 필요한 모듈 import"
   ]
  },
  {
   "cell_type": "code",
   "execution_count": null,
   "id": "77da6ea3",
   "metadata": {
    "id": "77da6ea3"
   },
   "outputs": [],
   "source": [
    "import pandas as pd\n",
    "import numpy as np\n",
    "import seaborn as sns\n",
    "\n",
    "pd.options.display.max_columns = None"
   ]
  },
  {
   "cell_type": "markdown",
   "id": "73ffae10",
   "metadata": {
    "id": "73ffae10"
   },
   "source": [
    "## 실습을 위한 데이터셋 로드"
   ]
  },
  {
   "cell_type": "code",
   "execution_count": null,
   "id": "NNEh2pF7ivJ8",
   "metadata": {
    "id": "NNEh2pF7ivJ8"
   },
   "outputs": [],
   "source": [
    "from pycaret.datasets import get_data\n",
    "dataset = get_data('diamond')"
   ]
  },
  {
   "cell_type": "code",
   "execution_count": null,
   "id": "222a5388",
   "metadata": {
    "id": "222a5388"
   },
   "outputs": [],
   "source": [
    "# 데이터셋 크기 출력\n",
    "dataset.shape"
   ]
  },
  {
   "cell_type": "code",
   "execution_count": null,
   "id": "N-Xb7KZ-2oCC",
   "metadata": {
    "id": "N-Xb7KZ-2oCC"
   },
   "outputs": [],
   "source": [
    "train = dataset.sample(frac=0.8, random_state=123)\n",
    "test = dataset.drop(train.index)\n",
    "train.reset_index(inplace=True, drop=True)\n",
    "test.reset_index(inplace=True, drop=True)\n",
    "print('학습용 데이터셋: ' + str(train.shape))\n",
    "print('예측용 데이터셋: ' + str(test.shape))"
   ]
  },
  {
   "cell_type": "markdown",
   "id": "6beffef3",
   "metadata": {
    "id": "6beffef3"
   },
   "source": [
    "## 1-1) 셋업 setup"
   ]
  },
  {
   "cell_type": "markdown",
   "id": "aO28a9eQmR1g",
   "metadata": {
    "id": "aO28a9eQmR1g"
   },
   "source": [
    "머신러닝 예측 방식에 따라 다음 중 하나를 골라 import 합니다."
   ]
  },
  {
   "cell_type": "code",
   "execution_count": null,
   "id": "fe755196",
   "metadata": {
    "id": "fe755196"
   },
   "outputs": [],
   "source": [
    "# from pycaret.classification import *  # 분류\n",
    "from pycaret.regression import *        # 회귀\n",
    "# from pycaret.clustering import *      # 군집\n",
    "# from pycaret.anomaly import *         # 이상 탐지\n",
    "# from pycaret.arules import *          # 연관 규칙"
   ]
  },
  {
   "cell_type": "markdown",
   "id": "099f81a7",
   "metadata": {
    "id": "099f81a7"
   },
   "source": [
    "**`setup` 함수**\n",
    "\n",
    "- `data`: 학습할 데이터셋을 지정합니다.\n",
    "- `target`: 예측할 대상(target) 컬럼을 지정합니다.\n",
    "- `session_id`: SEED 값을 지정합니다.\n",
    "\n",
    "- `profile`: True로 설정시 데이터 프로파일링을 출력합니다."
   ]
  },
  {
   "cell_type": "code",
   "execution_count": null,
   "id": "XQ3dwHU9Lb5r",
   "metadata": {
    "id": "XQ3dwHU9Lb5r"
   },
   "outputs": [],
   "source": [
    "train.head(1)"
   ]
  },
  {
   "cell_type": "code",
   "execution_count": null,
   "id": "Z7zfUMjjYn95",
   "metadata": {
    "id": "Z7zfUMjjYn95"
   },
   "outputs": [],
   "source": [
    "clf = setup(data=train, \n",
    "            target='Price', \n",
    "            session_id=123, \n",
    "            silent=True,\n",
    "            ) "
   ]
  },
  {
   "cell_type": "markdown",
   "id": "BL9ZOqVvOfDS",
   "metadata": {
    "id": "BL9ZOqVvOfDS"
   },
   "source": [
    "## 1-2) 고급 데이터 전처리\n",
    "\n",
    "[문서 링크](https://pycaret.readthedocs.io/en/latest/api/classification.html)"
   ]
  },
  {
   "cell_type": "markdown",
   "id": "70dkgafPYgip",
   "metadata": {
    "id": "70dkgafPYgip"
   },
   "source": [
    "### `combine_rare_levels` / `rare_level_threshold`\n",
    "\n",
    "- `combine_rare_levels`는 범주형 컬럼 중 희소 값을 가지는 value에 대하여 합쳐 주는 역할을 수행합니다.\n",
    "- `rare_level_threshold`는 N%의 값에 대하여 combine(병합) 하는 작업을 허용하는 허용치를 입력합니다."
   ]
  },
  {
   "cell_type": "code",
   "execution_count": null,
   "id": "JbYpKPgTYkrx",
   "metadata": {
    "id": "JbYpKPgTYkrx"
   },
   "outputs": [],
   "source": [
    "# Clarity의 FL 값은 다른 컬럼과 합쳐지게 됩니다.\n",
    "train['Clarity'].value_counts()"
   ]
  },
  {
   "cell_type": "code",
   "execution_count": null,
   "id": "LNVpNUV3YgKR",
   "metadata": {
    "id": "LNVpNUV3YgKR"
   },
   "outputs": [],
   "source": [
    "clf = setup(data=train, \n",
    "            target='Price', \n",
    "            session_id=123, \n",
    "            combine_rare_levels=True, \n",
    "            rare_level_threshold=0.05,\n",
    "            silent=True,\n",
    "            ) "
   ]
  },
  {
   "cell_type": "markdown",
   "id": "GS4u_sFqYwf6",
   "metadata": {
    "id": "GS4u_sFqYwf6"
   },
   "source": [
    "### `remove_multicollinearity` / `multicollinearity_threshold`\n",
    "\n",
    "다중 공선성 문제가 발생할 수 있는 컬럼을 제거합니다."
   ]
  },
  {
   "cell_type": "code",
   "execution_count": null,
   "id": "IIR7-X7gY-XI",
   "metadata": {
    "id": "IIR7-X7gY-XI"
   },
   "outputs": [],
   "source": [
    "clf = setup(data=train, \n",
    "            target='Price', \n",
    "            session_id=123, \n",
    "            combine_rare_levels=True,           # 희소 level 병합 적용 여부\n",
    "            rare_level_threshold=0.05,          # 희소 level 임계치\n",
    "            remove_multicollinearity=True,      # collinearity 제거\n",
    "            multicollinearity_threshold = 0.95, # collinearity 제거 임계치\n",
    "            silent=True,\n",
    "            ) "
   ]
  },
  {
   "cell_type": "markdown",
   "id": "Na1TBYOUZRCR",
   "metadata": {
    "id": "Na1TBYOUZRCR"
   },
   "source": [
    "### `bin_numeric_features`\n",
    "\n",
    "**binning**을 적용할 컬럼을 선택합니다."
   ]
  },
  {
   "cell_type": "code",
   "execution_count": null,
   "id": "g7l6qf9XZQ9x",
   "metadata": {
    "id": "g7l6qf9XZQ9x"
   },
   "outputs": [],
   "source": [
    "clf = setup(data=train, \n",
    "            target='Price', \n",
    "            session_id=123, \n",
    "            combine_rare_levels=True,             # 희소 level 병합 적용 여부\n",
    "            rare_level_threshold=0.05,            # 희소 level 임계치\n",
    "            remove_multicollinearity=True,        # collinearity 제거\n",
    "            multicollinearity_threshold=0.95,     # collinearity 제거 임계치\n",
    "            bin_numeric_features=['Carat Weight'],\n",
    "            silent=True,\n",
    "            ) "
   ]
  },
  {
   "cell_type": "markdown",
   "id": "4JxigWPwZm2x",
   "metadata": {
    "id": "4JxigWPwZm2x"
   },
   "source": [
    "### `transformation` / `transform_target`"
   ]
  },
  {
   "cell_type": "code",
   "execution_count": null,
   "id": "MHCLaOb3Zmyp",
   "metadata": {
    "id": "MHCLaOb3Zmyp"
   },
   "outputs": [],
   "source": [
    "clf = setup(data=train, \n",
    "            target='Price', \n",
    "            session_id=123, \n",
    "            combine_rare_levels=True,             # 희소 level 병합 적용 여부\n",
    "            rare_level_threshold=0.05,            # 희소 level 임계치\n",
    "            remove_multicollinearity=True,        # collinearity 제거\n",
    "            multicollinearity_threshold=0.95,     # collinearity 제거 임계치\n",
    "            bin_numeric_features=['Carat Weight'],\n",
    "            normalize=True, \n",
    "            transformation=True, \n",
    "            transform_target=True, \n",
    "            silent=True,\n",
    "            ) "
   ]
  },
  {
   "cell_type": "markdown",
   "id": "b91d2d5d",
   "metadata": {
    "id": "b91d2d5d"
   },
   "source": [
    "## 2-1) 모든 모델에 대한 학습 compare_models\n",
    "\n",
    "`compare_models`\n",
    "- `sort`: 정렬 기준이 되는 평가지표를 설정합니다.\n",
    "- `n_select`: 상위 N개의 알고리즘을 선택합니다.\n",
    "- `fold`: Cross Validation 평가 Fold의 개수를 지정합니다.\n",
    "- `round`: 결과를 소수 N째자리 까지 반올림하여 표기합니다."
   ]
  },
  {
   "cell_type": "code",
   "execution_count": null,
   "id": "0a74e38e",
   "metadata": {
    "id": "0a74e38e"
   },
   "outputs": [],
   "source": [
    "best_models = compare_models(n_select=3, fold=5, round=2)"
   ]
  },
  {
   "cell_type": "markdown",
   "id": "t68rVj-gfciG",
   "metadata": {
    "id": "t68rVj-gfciG"
   },
   "source": [
    "### 모델 블렌딩 blend_models\n",
    "\n",
    "- `compare_models`로 추출된 best 모델에 대하여 모델 블렌딩하여 성능 개선\n",
    "- `Soft` voting 방식으로 `estimator_list`에 적용된 모델을 앙상블\n",
    "- `Voting Ensemble`"
   ]
  },
  {
   "cell_type": "code",
   "execution_count": null,
   "id": "qLwzgiNYfG8N",
   "metadata": {
    "id": "qLwzgiNYfG8N"
   },
   "outputs": [],
   "source": [
    "blended_models = blend_models(best_models, fold=5)"
   ]
  },
  {
   "cell_type": "markdown",
   "id": "JwzPvXm2hqCf",
   "metadata": {
    "id": "JwzPvXm2hqCf"
   },
   "source": [
    "## 2-2) 단일 모델 생성 create_model / 배깅 앙상블 ensemble_"
   ]
  },
  {
   "cell_type": "markdown",
   "id": "2KXSiuGTIO96",
   "metadata": {
    "id": "2KXSiuGTIO96"
   },
   "source": [
    "단일 모델을 생성하기 위해서는 `create_model`로 생성할 수 있습니다.\n",
    "\n",
    "단일 모델 리스트\n",
    "\n",
    "- `lr`: Linear Regression\n",
    "- `lasso`: Lasso Regression\n",
    "- `ridge`: Ridge Regression\n",
    "- `en`: Elastic Net\n",
    "- `lar`: Least Angle Regression\t\n",
    "- `llar`: Lasso Least Angle Regression\n",
    "- `omp`: Orthogonal Matching Pursuit\t\n",
    "- `br`: Bayesian Ridge\n",
    "- `ard`: Automatic Relevance Determination\t\n",
    "- `par`: Passive Aggressive Regressor\n",
    "- `ransac`: Random Sample Consensus\n",
    "- `tr`: TheilSen Regressor\n",
    "- `huber`: Huber Regressor\n",
    "- `kr`: Kernel Ridge\n",
    "- `svm`: Support Vector Machine\n",
    "- `knn`: K Neighbors Regressor\t\n",
    "- **`dt`: Decision Tree**\n",
    "- **`rf`: Random Forest**\n",
    "- `et`: Extra Trees Regressor\n",
    "- `ada`: AdaBoost Regressor\n",
    "- **`gbr`: Gradient Boosting Regressor**\n",
    "- `mlp`: Multi Level Perceptron\n",
    "- **`xgboost`: Extreme Gradient Boosting**\n",
    "- **`lightgbm`: Light Gradient Boosting**\n",
    "- **`catboost`: CatBoost Regressor**"
   ]
  },
  {
   "cell_type": "code",
   "execution_count": null,
   "id": "C3B7yEI1hvae",
   "metadata": {
    "id": "C3B7yEI1hvae"
   },
   "outputs": [],
   "source": [
    "dt = create_model('dt')"
   ]
  },
  {
   "cell_type": "markdown",
   "id": "Er5WoBGhIfrq",
   "metadata": {
    "id": "Er5WoBGhIfrq"
   },
   "source": [
    "### 앙상블 ensemble_model\n",
    "\n",
    "- [배깅 앙상블](https://teddylee777.github.io/machine-learning/ensemble%EA%B8%B0%EB%B2%95%EC%97%90-%EB%8C%80%ED%95%9C-%EC%9D%B4%ED%95%B4%EC%99%80-%EC%A2%85%EB%A5%98-2)\n",
    "\n",
    "- [부스팅 앙상블](https://teddylee777.github.io/machine-learning/ensemble%EA%B8%B0%EB%B2%95%EC%97%90-%EB%8C%80%ED%95%9C-%EC%9D%B4%ED%95%B4%EC%99%80-%EC%A2%85%EB%A5%98-3)"
   ]
  },
  {
   "cell_type": "code",
   "execution_count": null,
   "id": "0B7_tTxEd4qp",
   "metadata": {
    "id": "0B7_tTxEd4qp"
   },
   "outputs": [],
   "source": [
    "ensembled_models = ensemble_model(dt, method='Bagging')"
   ]
  },
  {
   "cell_type": "code",
   "execution_count": null,
   "id": "d0FRjnd5h1SN",
   "metadata": {
    "id": "d0FRjnd5h1SN"
   },
   "outputs": [],
   "source": [
    "ensembled_models = ensemble_model(dt, method='Boosting')"
   ]
  },
  {
   "cell_type": "markdown",
   "id": "0351UbCLaxZJ",
   "metadata": {
    "id": "0351UbCLaxZJ"
   },
   "source": [
    "## 3) 튜닝 tune_model"
   ]
  },
  {
   "cell_type": "code",
   "execution_count": null,
   "id": "Uar4WoAga-kQ",
   "metadata": {
    "id": "Uar4WoAga-kQ"
   },
   "outputs": [],
   "source": [
    "lasso = create_model('lasso', fold=5)"
   ]
  },
  {
   "cell_type": "markdown",
   "id": "JOm11q-UbiVy",
   "metadata": {
    "id": "JOm11q-UbiVy"
   },
   "source": [
    "`RandomizedSearchCV`를 활용하여 하이퍼 파라미터를 튜닝합니다.\n",
    "\n",
    "- `n_iter`에 횟수를 늘리거나 줄여서 시도할 횟수를 지정할 수 있습니다."
   ]
  },
  {
   "cell_type": "code",
   "execution_count": null,
   "id": "DGZxp41ba0IR",
   "metadata": {
    "id": "DGZxp41ba0IR"
   },
   "outputs": [],
   "source": [
    "tuned_models = tune_model(dt, fold=5, n_iter=50, round=2)"
   ]
  },
  {
   "cell_type": "markdown",
   "id": "ombHKHXoli3a",
   "metadata": {
    "id": "ombHKHXoli3a"
   },
   "source": [
    "## 4) 모델 예측 predict_model\n",
    "\n",
    "- `Label`에 예측된 결과를 확인할 수 있습니다.\n",
    "- `Score`에 예측된 결과의 **확률** 값을 확인할 수 있습니다."
   ]
  },
  {
   "cell_type": "code",
   "execution_count": null,
   "id": "aR5eG-KrGGvc",
   "metadata": {
    "id": "aR5eG-KrGGvc"
   },
   "outputs": [],
   "source": [
    "predict_model(data=test, estimator=ensembled_models)"
   ]
  },
  {
   "cell_type": "markdown",
   "id": "hwihJrs9Iyvo",
   "metadata": {
    "id": "hwihJrs9Iyvo"
   },
   "source": [
    "## 5) 모델 분석 interpret_model"
   ]
  },
  {
   "cell_type": "markdown",
   "id": "So3v1yFWIhk-",
   "metadata": {
    "id": "So3v1yFWIhk-"
   },
   "source": [
    "### 특성 중요도 Feature Importances\n",
    "\n",
    "각 특성별 종속변수(Y)에 미치는 영향도를 계산"
   ]
  },
  {
   "cell_type": "code",
   "execution_count": null,
   "id": "e-D5qHvNIgER",
   "metadata": {
    "id": "e-D5qHvNIgER"
   },
   "outputs": [],
   "source": [
    "plot_model(dt, plot='feature')"
   ]
  },
  {
   "cell_type": "markdown",
   "id": "hJAJxMM4IRDH",
   "metadata": {
    "id": "hJAJxMM4IRDH"
   },
   "source": [
    "### 섀플리 분석 SHAP(SHapley Additive exPlanations)"
   ]
  },
  {
   "cell_type": "markdown",
   "id": "j8Jm1_KYIQPv",
   "metadata": {
    "id": "j8Jm1_KYIQPv"
   },
   "source": [
    "- 게임 이론에서 처음 등장하였으며, 머신러닝 모델을 분석하기 시작하면서 다시 주목받고 있음\n",
    "- 섀플리 값 (SHAP Value)는 각각의 데이터가 종속변수 (Y)에 미치는 영향도를 계산한 값 (기여도를 수치화)"
   ]
  },
  {
   "cell_type": "code",
   "execution_count": null,
   "id": "8TV9ditZJzEX",
   "metadata": {
    "id": "8TV9ditZJzEX"
   },
   "outputs": [],
   "source": [
    "!pip install shap"
   ]
  },
  {
   "cell_type": "code",
   "execution_count": null,
   "id": "gVWZp8-5JuPR",
   "metadata": {
    "id": "gVWZp8-5JuPR"
   },
   "outputs": [],
   "source": [
    "interpret_model(dt)"
   ]
  }
 ],
 "metadata": {
  "colab": {
   "collapsed_sections": [],
   "machine_shape": "hm",
   "name": "02_회귀_level1",
   "provenance": []
  },
  "kernelspec": {
   "display_name": "Python 3 (ipykernel)",
   "language": "python",
   "name": "python3"
  },
  "language_info": {
   "codemirror_mode": {
    "name": "ipython",
    "version": 3
   },
   "file_extension": ".py",
   "mimetype": "text/x-python",
   "name": "python",
   "nbconvert_exporter": "python",
   "pygments_lexer": "ipython3",
   "version": "3.8.13"
  }
 },
 "nbformat": 4,
 "nbformat_minor": 5
}
